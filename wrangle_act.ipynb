{
 "cells": [
  {
   "cell_type": "markdown",
   "id": "59bd078a",
   "metadata": {},
   "source": [
    "# Udacity Wrangle and Analyze Data"
   ]
  },
  {
   "cell_type": "markdown",
   "id": "bdd90614",
   "metadata": {},
   "source": [
    "## Introduction to the data\n",
    "\n",
    "The dataset that I will be wrangling (and analyzing and visualizing) is the tweet archive of Twitter user @dog_rates, also known as ***WeRateDogs.*** \n",
    "\n",
    "<b>WeRateDogs</b> is a Twitter account that rates people's dogs with a humorous comment about the dog. These ratings almost always have a denominator of 10. The numerators, though? Almost always greater than 10. 11/10, 12/10, 13/10, etc. Why? Because \"they're good dogs Brent.\" \n",
    "\n",
    "<b>WeRateDogs</b> has over 4 million followers and has received international media coverage."
   ]
  },
  {
   "cell_type": "markdown",
   "id": "acb61bf6",
   "metadata": {},
   "source": [
    "## Gathering data"
   ]
  },
  {
   "cell_type": "markdown",
   "id": "b266feba",
   "metadata": {},
   "source": [
    "> For this project data is gathered from three sources :\n",
    "\n",
    "- ***1. Enhanced Twitter Archive***\n",
    "> The WeRateDogs Twitter archive contains basic tweet data for all 5000+ of their tweets, but not everything. One column the archive does contain though: each tweet's text, which I used to extract rating, dog name, and dog \"stage\" (i.e. doggo, floofer, pupper, and puppo) to make this Twitter archive \"enhanced.\" Of the 5000+ tweets, I have filtered for tweets with ratings only (there are 2356).\n",
    "\n",
    "- ***2. Image Predictions File***\n",
    "> One more cool thing: I ran every image in the WeRateDogs Twitter archive through a neural network that can classify breeds of dogs*. The results: a table full of image predictions (the top three only) alongside each tweet ID, image URL, and the image number that corresponded to the most confident prediction (numbered 1 to 4 since tweets can have up to four images).\n",
    "\n",
    "- ***3. Additional Data via the Twitter API***\n",
    "> Back to the basic-ness of Twitter archives: retweet count and favorite count are two of the notable column omissions. Fortunately, this additional data can be gathered by anyone from Twitter's API. Well, \"anyone\" who has access to data for the 3000 most recent tweets, at least. But you, because you have the WeRateDogs Twitter archive and specifically the tweet IDs within it, can gather this data for all 5000+. "
   ]
  },
  {
   "cell_type": "markdown",
   "id": "3d641b88",
   "metadata": {},
   "source": [
    "<b>Importing required libraries for gathering </b>"
   ]
  },
  {
   "cell_type": "code",
   "execution_count": 139,
   "id": "2e69c6fa",
   "metadata": {},
   "outputs": [],
   "source": [
    "#Importing all the libraries to use\n",
    "import requests #for downloading data online\n",
    "import pandas as pd # for importing and doing statictical calculation\n",
    "import numpy as np # for statstical calculation"
   ]
  },
  {
   "cell_type": "markdown",
   "id": "9f4915f4",
   "metadata": {},
   "source": [
    "- ***Importing the Enhanced Twitter Archive***"
   ]
  },
  {
   "cell_type": "code",
   "execution_count": 140,
   "id": "3fd62915",
   "metadata": {},
   "outputs": [],
   "source": [
    "# importing the enchanced twitter archive\n",
    "df = pd.read_csv('twitter-archive-enhanced.csv')"
   ]
  },
  {
   "cell_type": "markdown",
   "id": "3c2e78c9",
   "metadata": {},
   "source": [
    "- ***Importing Image Predictions File***"
   ]
  },
  {
   "cell_type": "markdown",
   "id": "821f6555",
   "metadata": {},
   "source": [
    "<b>Using the response library to download the content of the image prediction file </b>"
   ]
  },
  {
   "cell_type": "code",
   "execution_count": 141,
   "id": "3370bc1e",
   "metadata": {},
   "outputs": [],
   "source": [
    "img_url = 'https://d17h27t6h515a5.cloudfront.net/topher/2017/August/599fd2ad_image-predictions/image-predictions.tsv'\n",
    "img_response = requests.get(img_url)"
   ]
  },
  {
   "cell_type": "markdown",
   "id": "07e15171",
   "metadata": {},
   "source": [
    "<b>saving the content of the into a tsv file </b>"
   ]
  },
  {
   "cell_type": "code",
   "execution_count": 142,
   "id": "af93aebe",
   "metadata": {},
   "outputs": [],
   "source": [
    "with open('image_predictions.tsv', mode ='wb') as file:\n",
    "    file.write(img_response.content)"
   ]
  },
  {
   "cell_type": "markdown",
   "id": "bb6cfa5b",
   "metadata": {},
   "source": [
    "<b>importing the tsv file into dataframe</b>"
   ]
  },
  {
   "cell_type": "code",
   "execution_count": 143,
   "id": "1c1638ef",
   "metadata": {},
   "outputs": [],
   "source": [
    "df_image = pd.read_csv('image_predictions.tsv', sep='\\t')"
   ]
  },
  {
   "cell_type": "markdown",
   "id": "9729a741",
   "metadata": {},
   "source": [
    "- ***Importing additional file***"
   ]
  },
  {
   "cell_type": "markdown",
   "id": "d2ddb05a",
   "metadata": {},
   "source": [
    "**Using request library to get the file**"
   ]
  },
  {
   "cell_type": "code",
   "execution_count": 144,
   "id": "bb018c7d",
   "metadata": {},
   "outputs": [],
   "source": [
    "txt_url = 'https://video.udacity-data.com/topher/2018/November/5be5fb7d_tweet-json/tweet-json.txt'\n",
    "r = requests.get(txt_url)"
   ]
  },
  {
   "cell_type": "markdown",
   "id": "1d25cecb",
   "metadata": {},
   "source": [
    "**Storing the content into a .txt file**"
   ]
  },
  {
   "cell_type": "code",
   "execution_count": 145,
   "id": "9883a4ab",
   "metadata": {},
   "outputs": [],
   "source": [
    "with open('tweet_json.txt', mode ='wb') as file:\n",
    "    file.write(r.content)"
   ]
  },
  {
   "cell_type": "markdown",
   "id": "0a4675a7",
   "metadata": {},
   "source": [
    "**Importing json file to use to read the file downloaded from twitter API**"
   ]
  },
  {
   "cell_type": "code",
   "execution_count": 146,
   "id": "dbbea680",
   "metadata": {},
   "outputs": [],
   "source": [
    "import json"
   ]
  },
  {
   "cell_type": "code",
   "execution_count": 147,
   "id": "237c291a",
   "metadata": {},
   "outputs": [],
   "source": [
    "tweets_list =[]\n",
    "with open('tweet_json.txt', 'r') as file:\n",
    "    for line in file:\n",
    "        tweet = json.loads(line)\n",
    "        tweet_id = tweet['id']\n",
    "        retweet_count = tweet['retweet_count']\n",
    "        favorite_count = tweet['favorite_count']\n",
    "        tweets_list.append({'tweet_ID': tweet_id, 'retweet_count':retweet_count, 'favorite_count' : favorite_count})\n",
    "        tweets_list"
   ]
  },
  {
   "cell_type": "markdown",
   "id": "0ce74146",
   "metadata": {},
   "source": [
    "<b>importing the tsv file into dataframe</b>"
   ]
  },
  {
   "cell_type": "code",
   "execution_count": 148,
   "id": "45f74c99",
   "metadata": {},
   "outputs": [],
   "source": [
    "# Reading the tweets_list into dataframe\n",
    "twtcount = pd.DataFrame(tweets_list)"
   ]
  },
  {
   "cell_type": "markdown",
   "id": "6537b516",
   "metadata": {},
   "source": [
    "### Accessing Data\n",
    "\n",
    "There are two types of assessment:\n",
    "\n",
    "- ***Visual assessment***: each piece of gathered data is displayed in the Jupyter Notebook for visual assessment purposes. Once displayed, data can additionally be assessed in an external application (e.g. Excel, text editor).\n",
    "\n",
    "- ***Programmatic assessment***: pandas' functions and/or methods are used to assess the data."
   ]
  },
  {
   "cell_type": "markdown",
   "id": "34d6011c",
   "metadata": {},
   "source": [
    "#### Visual Assessment"
   ]
  },
  {
   "cell_type": "code",
   "execution_count": 149,
   "id": "0a5af982",
   "metadata": {
    "scrolled": false
   },
   "outputs": [
    {
     "data": {
      "text/html": [
       "<div>\n",
       "<style scoped>\n",
       "    .dataframe tbody tr th:only-of-type {\n",
       "        vertical-align: middle;\n",
       "    }\n",
       "\n",
       "    .dataframe tbody tr th {\n",
       "        vertical-align: top;\n",
       "    }\n",
       "\n",
       "    .dataframe thead th {\n",
       "        text-align: right;\n",
       "    }\n",
       "</style>\n",
       "<table border=\"1\" class=\"dataframe\">\n",
       "  <thead>\n",
       "    <tr style=\"text-align: right;\">\n",
       "      <th></th>\n",
       "      <th>/tweet_id</th>\n",
       "      <th>in_reply_to_status_id</th>\n",
       "      <th>in_reply_to_user_id</th>\n",
       "      <th>timestamp</th>\n",
       "      <th>source</th>\n",
       "      <th>text</th>\n",
       "      <th>retweeted_status_id</th>\n",
       "      <th>retweeted_status_user_id</th>\n",
       "      <th>retweeted_status_timestamp</th>\n",
       "      <th>expanded_urls</th>\n",
       "      <th>rating_numerator</th>\n",
       "      <th>rating_denominator</th>\n",
       "      <th>name</th>\n",
       "      <th>doggo</th>\n",
       "      <th>floofer</th>\n",
       "      <th>pupper</th>\n",
       "      <th>puppo</th>\n",
       "    </tr>\n",
       "  </thead>\n",
       "  <tbody>\n",
       "    <tr>\n",
       "      <th>0</th>\n",
       "      <td>892420643555336193</td>\n",
       "      <td>NaN</td>\n",
       "      <td>NaN</td>\n",
       "      <td>2017-08-01 16:23:56 +0000</td>\n",
       "      <td>&lt;a href=\"http://twitter.com/download/iphone\" r...</td>\n",
       "      <td>This is Phineas. He's a mystical boy. Only eve...</td>\n",
       "      <td>NaN</td>\n",
       "      <td>NaN</td>\n",
       "      <td>NaN</td>\n",
       "      <td>https://twitter.com/dog_rates/status/892420643...</td>\n",
       "      <td>13</td>\n",
       "      <td>10</td>\n",
       "      <td>Phineas</td>\n",
       "      <td>None</td>\n",
       "      <td>None</td>\n",
       "      <td>None</td>\n",
       "      <td>None</td>\n",
       "    </tr>\n",
       "    <tr>\n",
       "      <th>1</th>\n",
       "      <td>892177421306343426</td>\n",
       "      <td>NaN</td>\n",
       "      <td>NaN</td>\n",
       "      <td>2017-08-01 00:17:27 +0000</td>\n",
       "      <td>&lt;a href=\"http://twitter.com/download/iphone\" r...</td>\n",
       "      <td>This is Tilly. She's just checking pup on you....</td>\n",
       "      <td>NaN</td>\n",
       "      <td>NaN</td>\n",
       "      <td>NaN</td>\n",
       "      <td>https://twitter.com/dog_rates/status/892177421...</td>\n",
       "      <td>13</td>\n",
       "      <td>10</td>\n",
       "      <td>Tilly</td>\n",
       "      <td>None</td>\n",
       "      <td>None</td>\n",
       "      <td>None</td>\n",
       "      <td>None</td>\n",
       "    </tr>\n",
       "    <tr>\n",
       "      <th>2</th>\n",
       "      <td>891815181378084864</td>\n",
       "      <td>NaN</td>\n",
       "      <td>NaN</td>\n",
       "      <td>2017-07-31 00:18:03 +0000</td>\n",
       "      <td>&lt;a href=\"http://twitter.com/download/iphone\" r...</td>\n",
       "      <td>This is Archie. He is a rare Norwegian Pouncin...</td>\n",
       "      <td>NaN</td>\n",
       "      <td>NaN</td>\n",
       "      <td>NaN</td>\n",
       "      <td>https://twitter.com/dog_rates/status/891815181...</td>\n",
       "      <td>12</td>\n",
       "      <td>10</td>\n",
       "      <td>Archie</td>\n",
       "      <td>None</td>\n",
       "      <td>None</td>\n",
       "      <td>None</td>\n",
       "      <td>None</td>\n",
       "    </tr>\n",
       "    <tr>\n",
       "      <th>3</th>\n",
       "      <td>891689557279858688</td>\n",
       "      <td>NaN</td>\n",
       "      <td>NaN</td>\n",
       "      <td>2017-07-30 15:58:51 +0000</td>\n",
       "      <td>&lt;a href=\"http://twitter.com/download/iphone\" r...</td>\n",
       "      <td>This is Darla. She commenced a snooze mid meal...</td>\n",
       "      <td>NaN</td>\n",
       "      <td>NaN</td>\n",
       "      <td>NaN</td>\n",
       "      <td>https://twitter.com/dog_rates/status/891689557...</td>\n",
       "      <td>13</td>\n",
       "      <td>10</td>\n",
       "      <td>Darla</td>\n",
       "      <td>None</td>\n",
       "      <td>None</td>\n",
       "      <td>None</td>\n",
       "      <td>None</td>\n",
       "    </tr>\n",
       "    <tr>\n",
       "      <th>4</th>\n",
       "      <td>891327558926688256</td>\n",
       "      <td>NaN</td>\n",
       "      <td>NaN</td>\n",
       "      <td>2017-07-29 16:00:24 +0000</td>\n",
       "      <td>&lt;a href=\"http://twitter.com/download/iphone\" r...</td>\n",
       "      <td>This is Franklin. He would like you to stop ca...</td>\n",
       "      <td>NaN</td>\n",
       "      <td>NaN</td>\n",
       "      <td>NaN</td>\n",
       "      <td>https://twitter.com/dog_rates/status/891327558...</td>\n",
       "      <td>12</td>\n",
       "      <td>10</td>\n",
       "      <td>Franklin</td>\n",
       "      <td>None</td>\n",
       "      <td>None</td>\n",
       "      <td>None</td>\n",
       "      <td>None</td>\n",
       "    </tr>\n",
       "    <tr>\n",
       "      <th>...</th>\n",
       "      <td>...</td>\n",
       "      <td>...</td>\n",
       "      <td>...</td>\n",
       "      <td>...</td>\n",
       "      <td>...</td>\n",
       "      <td>...</td>\n",
       "      <td>...</td>\n",
       "      <td>...</td>\n",
       "      <td>...</td>\n",
       "      <td>...</td>\n",
       "      <td>...</td>\n",
       "      <td>...</td>\n",
       "      <td>...</td>\n",
       "      <td>...</td>\n",
       "      <td>...</td>\n",
       "      <td>...</td>\n",
       "      <td>...</td>\n",
       "    </tr>\n",
       "    <tr>\n",
       "      <th>2351</th>\n",
       "      <td>666049248165822465</td>\n",
       "      <td>NaN</td>\n",
       "      <td>NaN</td>\n",
       "      <td>2015-11-16 00:24:50 +0000</td>\n",
       "      <td>&lt;a href=\"http://twitter.com/download/iphone\" r...</td>\n",
       "      <td>Here we have a 1949 1st generation vulpix. Enj...</td>\n",
       "      <td>NaN</td>\n",
       "      <td>NaN</td>\n",
       "      <td>NaN</td>\n",
       "      <td>https://twitter.com/dog_rates/status/666049248...</td>\n",
       "      <td>5</td>\n",
       "      <td>10</td>\n",
       "      <td>None</td>\n",
       "      <td>None</td>\n",
       "      <td>None</td>\n",
       "      <td>None</td>\n",
       "      <td>None</td>\n",
       "    </tr>\n",
       "    <tr>\n",
       "      <th>2352</th>\n",
       "      <td>666044226329800704</td>\n",
       "      <td>NaN</td>\n",
       "      <td>NaN</td>\n",
       "      <td>2015-11-16 00:04:52 +0000</td>\n",
       "      <td>&lt;a href=\"http://twitter.com/download/iphone\" r...</td>\n",
       "      <td>This is a purebred Piers Morgan. Loves to Netf...</td>\n",
       "      <td>NaN</td>\n",
       "      <td>NaN</td>\n",
       "      <td>NaN</td>\n",
       "      <td>https://twitter.com/dog_rates/status/666044226...</td>\n",
       "      <td>6</td>\n",
       "      <td>10</td>\n",
       "      <td>a</td>\n",
       "      <td>None</td>\n",
       "      <td>None</td>\n",
       "      <td>None</td>\n",
       "      <td>None</td>\n",
       "    </tr>\n",
       "    <tr>\n",
       "      <th>2353</th>\n",
       "      <td>666033412701032449</td>\n",
       "      <td>NaN</td>\n",
       "      <td>NaN</td>\n",
       "      <td>2015-11-15 23:21:54 +0000</td>\n",
       "      <td>&lt;a href=\"http://twitter.com/download/iphone\" r...</td>\n",
       "      <td>Here is a very happy pup. Big fan of well-main...</td>\n",
       "      <td>NaN</td>\n",
       "      <td>NaN</td>\n",
       "      <td>NaN</td>\n",
       "      <td>https://twitter.com/dog_rates/status/666033412...</td>\n",
       "      <td>9</td>\n",
       "      <td>10</td>\n",
       "      <td>a</td>\n",
       "      <td>None</td>\n",
       "      <td>None</td>\n",
       "      <td>None</td>\n",
       "      <td>None</td>\n",
       "    </tr>\n",
       "    <tr>\n",
       "      <th>2354</th>\n",
       "      <td>666029285002620928</td>\n",
       "      <td>NaN</td>\n",
       "      <td>NaN</td>\n",
       "      <td>2015-11-15 23:05:30 +0000</td>\n",
       "      <td>&lt;a href=\"http://twitter.com/download/iphone\" r...</td>\n",
       "      <td>This is a western brown Mitsubishi terrier. Up...</td>\n",
       "      <td>NaN</td>\n",
       "      <td>NaN</td>\n",
       "      <td>NaN</td>\n",
       "      <td>https://twitter.com/dog_rates/status/666029285...</td>\n",
       "      <td>7</td>\n",
       "      <td>10</td>\n",
       "      <td>a</td>\n",
       "      <td>None</td>\n",
       "      <td>None</td>\n",
       "      <td>None</td>\n",
       "      <td>None</td>\n",
       "    </tr>\n",
       "    <tr>\n",
       "      <th>2355</th>\n",
       "      <td>666020888022790149</td>\n",
       "      <td>NaN</td>\n",
       "      <td>NaN</td>\n",
       "      <td>2015-11-15 22:32:08 +0000</td>\n",
       "      <td>&lt;a href=\"http://twitter.com/download/iphone\" r...</td>\n",
       "      <td>Here we have a Japanese Irish Setter. Lost eye...</td>\n",
       "      <td>NaN</td>\n",
       "      <td>NaN</td>\n",
       "      <td>NaN</td>\n",
       "      <td>https://twitter.com/dog_rates/status/666020888...</td>\n",
       "      <td>8</td>\n",
       "      <td>10</td>\n",
       "      <td>None</td>\n",
       "      <td>None</td>\n",
       "      <td>None</td>\n",
       "      <td>None</td>\n",
       "      <td>None</td>\n",
       "    </tr>\n",
       "  </tbody>\n",
       "</table>\n",
       "<p>2356 rows × 17 columns</p>\n",
       "</div>"
      ],
      "text/plain": [
       "               /tweet_id in_reply_to_status_id in_reply_to_user_id  \\\n",
       "0     892420643555336193                   NaN                 NaN   \n",
       "1     892177421306343426                   NaN                 NaN   \n",
       "2     891815181378084864                   NaN                 NaN   \n",
       "3     891689557279858688                   NaN                 NaN   \n",
       "4     891327558926688256                   NaN                 NaN   \n",
       "...                  ...                   ...                 ...   \n",
       "2351  666049248165822465                   NaN                 NaN   \n",
       "2352  666044226329800704                   NaN                 NaN   \n",
       "2353  666033412701032449                   NaN                 NaN   \n",
       "2354  666029285002620928                   NaN                 NaN   \n",
       "2355  666020888022790149                   NaN                 NaN   \n",
       "\n",
       "                      timestamp  \\\n",
       "0     2017-08-01 16:23:56 +0000   \n",
       "1     2017-08-01 00:17:27 +0000   \n",
       "2     2017-07-31 00:18:03 +0000   \n",
       "3     2017-07-30 15:58:51 +0000   \n",
       "4     2017-07-29 16:00:24 +0000   \n",
       "...                         ...   \n",
       "2351  2015-11-16 00:24:50 +0000   \n",
       "2352  2015-11-16 00:04:52 +0000   \n",
       "2353  2015-11-15 23:21:54 +0000   \n",
       "2354  2015-11-15 23:05:30 +0000   \n",
       "2355  2015-11-15 22:32:08 +0000   \n",
       "\n",
       "                                                 source  \\\n",
       "0     <a href=\"http://twitter.com/download/iphone\" r...   \n",
       "1     <a href=\"http://twitter.com/download/iphone\" r...   \n",
       "2     <a href=\"http://twitter.com/download/iphone\" r...   \n",
       "3     <a href=\"http://twitter.com/download/iphone\" r...   \n",
       "4     <a href=\"http://twitter.com/download/iphone\" r...   \n",
       "...                                                 ...   \n",
       "2351  <a href=\"http://twitter.com/download/iphone\" r...   \n",
       "2352  <a href=\"http://twitter.com/download/iphone\" r...   \n",
       "2353  <a href=\"http://twitter.com/download/iphone\" r...   \n",
       "2354  <a href=\"http://twitter.com/download/iphone\" r...   \n",
       "2355  <a href=\"http://twitter.com/download/iphone\" r...   \n",
       "\n",
       "                                                   text retweeted_status_id  \\\n",
       "0     This is Phineas. He's a mystical boy. Only eve...                 NaN   \n",
       "1     This is Tilly. She's just checking pup on you....                 NaN   \n",
       "2     This is Archie. He is a rare Norwegian Pouncin...                 NaN   \n",
       "3     This is Darla. She commenced a snooze mid meal...                 NaN   \n",
       "4     This is Franklin. He would like you to stop ca...                 NaN   \n",
       "...                                                 ...                 ...   \n",
       "2351  Here we have a 1949 1st generation vulpix. Enj...                 NaN   \n",
       "2352  This is a purebred Piers Morgan. Loves to Netf...                 NaN   \n",
       "2353  Here is a very happy pup. Big fan of well-main...                 NaN   \n",
       "2354  This is a western brown Mitsubishi terrier. Up...                 NaN   \n",
       "2355  Here we have a Japanese Irish Setter. Lost eye...                 NaN   \n",
       "\n",
       "      retweeted_status_user_id retweeted_status_timestamp  \\\n",
       "0                          NaN                        NaN   \n",
       "1                          NaN                        NaN   \n",
       "2                          NaN                        NaN   \n",
       "3                          NaN                        NaN   \n",
       "4                          NaN                        NaN   \n",
       "...                        ...                        ...   \n",
       "2351                       NaN                        NaN   \n",
       "2352                       NaN                        NaN   \n",
       "2353                       NaN                        NaN   \n",
       "2354                       NaN                        NaN   \n",
       "2355                       NaN                        NaN   \n",
       "\n",
       "                                          expanded_urls rating_numerator  \\\n",
       "0     https://twitter.com/dog_rates/status/892420643...               13   \n",
       "1     https://twitter.com/dog_rates/status/892177421...               13   \n",
       "2     https://twitter.com/dog_rates/status/891815181...               12   \n",
       "3     https://twitter.com/dog_rates/status/891689557...               13   \n",
       "4     https://twitter.com/dog_rates/status/891327558...               12   \n",
       "...                                                 ...              ...   \n",
       "2351  https://twitter.com/dog_rates/status/666049248...                5   \n",
       "2352  https://twitter.com/dog_rates/status/666044226...                6   \n",
       "2353  https://twitter.com/dog_rates/status/666033412...                9   \n",
       "2354  https://twitter.com/dog_rates/status/666029285...                7   \n",
       "2355  https://twitter.com/dog_rates/status/666020888...                8   \n",
       "\n",
       "     rating_denominator      name doggo floofer pupper puppo  \n",
       "0                    10   Phineas  None    None   None  None  \n",
       "1                    10     Tilly  None    None   None  None  \n",
       "2                    10    Archie  None    None   None  None  \n",
       "3                    10     Darla  None    None   None  None  \n",
       "4                    10  Franklin  None    None   None  None  \n",
       "...                 ...       ...   ...     ...    ...   ...  \n",
       "2351                 10      None  None    None   None  None  \n",
       "2352                 10         a  None    None   None  None  \n",
       "2353                 10         a  None    None   None  None  \n",
       "2354                 10         a  None    None   None  None  \n",
       "2355                 10      None  None    None   None  None  \n",
       "\n",
       "[2356 rows x 17 columns]"
      ]
     },
     "execution_count": 149,
     "metadata": {},
     "output_type": "execute_result"
    }
   ],
   "source": [
    "#Displaying the twitter achive data\n",
    "df"
   ]
  },
  {
   "cell_type": "markdown",
   "id": "fb2a4622",
   "metadata": {},
   "source": [
    "`Enhanced twitter achive` columns:\n",
    "\n",
    "- ***tweet_id***: the unique identifier for each tweet\n",
    "- ***in_reply_to_status_id***: if the represented Tweet is a reply, this field will contain the integer representation of the original Tweet’s ID\n",
    "- ***in_reply_to_user_id***: if the represented Tweet is a reply, this field will contain the integer representation of the original Tweet’s author ID\n",
    "- ***timestamp***: time when this Tweet was created\n",
    "- ***source***: utility used to post the Tweet, as an HTML-formatted string. e.g. Twitter for Android, Twitter for iPhone, Twitter Web Client\n",
    "- ***text***: actual UTF-8 text of the status update\n",
    "- ***retweeted_status_id***: if the represented Tweet is a retweet, this field will contain the integer representation of the original Tweet’s ID\n",
    "- ***retweeted_status_user_id***: if the represented Tweet is a retweet, this field will contain the integer representation of the original Tweet’s author ID\n",
    "- ***retweeted_status_timestamp***: time of retweet\n",
    "- ***expanded_urls***: tweet URL\n",
    "- ***rating_numerator***: numerator of the rating of a dog. Note: ratings almost always greater than 10\n",
    "- ***rating_denominator***: denominator of the rating of a dog. Note: ratings almost always have a denominator of 10\n",
    "- ***name***: name of the dog\n",
    "- ***doggo***: one of the 4 dog \"stage\"\n",
    "- ***floofer***: one of the 4 dog \"stage\"\n",
    "- ***pupper***: one of the 4 dog \"stage\"\n",
    "- ***puppo***: one of the 4 dog \"stage\""
   ]
  },
  {
   "cell_type": "code",
   "execution_count": 150,
   "id": "fc706917",
   "metadata": {},
   "outputs": [
    {
     "data": {
      "text/html": [
       "<div>\n",
       "<style scoped>\n",
       "    .dataframe tbody tr th:only-of-type {\n",
       "        vertical-align: middle;\n",
       "    }\n",
       "\n",
       "    .dataframe tbody tr th {\n",
       "        vertical-align: top;\n",
       "    }\n",
       "\n",
       "    .dataframe thead th {\n",
       "        text-align: right;\n",
       "    }\n",
       "</style>\n",
       "<table border=\"1\" class=\"dataframe\">\n",
       "  <thead>\n",
       "    <tr style=\"text-align: right;\">\n",
       "      <th></th>\n",
       "      <th>/tweet_id</th>\n",
       "      <th>in_reply_to_status_id</th>\n",
       "      <th>in_reply_to_user_id</th>\n",
       "      <th>timestamp</th>\n",
       "      <th>source</th>\n",
       "      <th>text</th>\n",
       "      <th>retweeted_status_id</th>\n",
       "      <th>retweeted_status_user_id</th>\n",
       "      <th>retweeted_status_timestamp</th>\n",
       "      <th>expanded_urls</th>\n",
       "      <th>rating_numerator</th>\n",
       "      <th>rating_denominator</th>\n",
       "      <th>name</th>\n",
       "      <th>doggo</th>\n",
       "      <th>floofer</th>\n",
       "      <th>pupper</th>\n",
       "      <th>puppo</th>\n",
       "    </tr>\n",
       "  </thead>\n",
       "  <tbody>\n",
       "    <tr>\n",
       "      <th>2351</th>\n",
       "      <td>666049248165822465</td>\n",
       "      <td>NaN</td>\n",
       "      <td>NaN</td>\n",
       "      <td>2015-11-16 00:24:50 +0000</td>\n",
       "      <td>&lt;a href=\"http://twitter.com/download/iphone\" r...</td>\n",
       "      <td>Here we have a 1949 1st generation vulpix. Enj...</td>\n",
       "      <td>NaN</td>\n",
       "      <td>NaN</td>\n",
       "      <td>NaN</td>\n",
       "      <td>https://twitter.com/dog_rates/status/666049248...</td>\n",
       "      <td>5</td>\n",
       "      <td>10</td>\n",
       "      <td>None</td>\n",
       "      <td>None</td>\n",
       "      <td>None</td>\n",
       "      <td>None</td>\n",
       "      <td>None</td>\n",
       "    </tr>\n",
       "    <tr>\n",
       "      <th>2352</th>\n",
       "      <td>666044226329800704</td>\n",
       "      <td>NaN</td>\n",
       "      <td>NaN</td>\n",
       "      <td>2015-11-16 00:04:52 +0000</td>\n",
       "      <td>&lt;a href=\"http://twitter.com/download/iphone\" r...</td>\n",
       "      <td>This is a purebred Piers Morgan. Loves to Netf...</td>\n",
       "      <td>NaN</td>\n",
       "      <td>NaN</td>\n",
       "      <td>NaN</td>\n",
       "      <td>https://twitter.com/dog_rates/status/666044226...</td>\n",
       "      <td>6</td>\n",
       "      <td>10</td>\n",
       "      <td>a</td>\n",
       "      <td>None</td>\n",
       "      <td>None</td>\n",
       "      <td>None</td>\n",
       "      <td>None</td>\n",
       "    </tr>\n",
       "    <tr>\n",
       "      <th>2353</th>\n",
       "      <td>666033412701032449</td>\n",
       "      <td>NaN</td>\n",
       "      <td>NaN</td>\n",
       "      <td>2015-11-15 23:21:54 +0000</td>\n",
       "      <td>&lt;a href=\"http://twitter.com/download/iphone\" r...</td>\n",
       "      <td>Here is a very happy pup. Big fan of well-main...</td>\n",
       "      <td>NaN</td>\n",
       "      <td>NaN</td>\n",
       "      <td>NaN</td>\n",
       "      <td>https://twitter.com/dog_rates/status/666033412...</td>\n",
       "      <td>9</td>\n",
       "      <td>10</td>\n",
       "      <td>a</td>\n",
       "      <td>None</td>\n",
       "      <td>None</td>\n",
       "      <td>None</td>\n",
       "      <td>None</td>\n",
       "    </tr>\n",
       "    <tr>\n",
       "      <th>2354</th>\n",
       "      <td>666029285002620928</td>\n",
       "      <td>NaN</td>\n",
       "      <td>NaN</td>\n",
       "      <td>2015-11-15 23:05:30 +0000</td>\n",
       "      <td>&lt;a href=\"http://twitter.com/download/iphone\" r...</td>\n",
       "      <td>This is a western brown Mitsubishi terrier. Up...</td>\n",
       "      <td>NaN</td>\n",
       "      <td>NaN</td>\n",
       "      <td>NaN</td>\n",
       "      <td>https://twitter.com/dog_rates/status/666029285...</td>\n",
       "      <td>7</td>\n",
       "      <td>10</td>\n",
       "      <td>a</td>\n",
       "      <td>None</td>\n",
       "      <td>None</td>\n",
       "      <td>None</td>\n",
       "      <td>None</td>\n",
       "    </tr>\n",
       "    <tr>\n",
       "      <th>2355</th>\n",
       "      <td>666020888022790149</td>\n",
       "      <td>NaN</td>\n",
       "      <td>NaN</td>\n",
       "      <td>2015-11-15 22:32:08 +0000</td>\n",
       "      <td>&lt;a href=\"http://twitter.com/download/iphone\" r...</td>\n",
       "      <td>Here we have a Japanese Irish Setter. Lost eye...</td>\n",
       "      <td>NaN</td>\n",
       "      <td>NaN</td>\n",
       "      <td>NaN</td>\n",
       "      <td>https://twitter.com/dog_rates/status/666020888...</td>\n",
       "      <td>8</td>\n",
       "      <td>10</td>\n",
       "      <td>None</td>\n",
       "      <td>None</td>\n",
       "      <td>None</td>\n",
       "      <td>None</td>\n",
       "      <td>None</td>\n",
       "    </tr>\n",
       "  </tbody>\n",
       "</table>\n",
       "</div>"
      ],
      "text/plain": [
       "               /tweet_id in_reply_to_status_id in_reply_to_user_id  \\\n",
       "2351  666049248165822465                   NaN                 NaN   \n",
       "2352  666044226329800704                   NaN                 NaN   \n",
       "2353  666033412701032449                   NaN                 NaN   \n",
       "2354  666029285002620928                   NaN                 NaN   \n",
       "2355  666020888022790149                   NaN                 NaN   \n",
       "\n",
       "                      timestamp  \\\n",
       "2351  2015-11-16 00:24:50 +0000   \n",
       "2352  2015-11-16 00:04:52 +0000   \n",
       "2353  2015-11-15 23:21:54 +0000   \n",
       "2354  2015-11-15 23:05:30 +0000   \n",
       "2355  2015-11-15 22:32:08 +0000   \n",
       "\n",
       "                                                 source  \\\n",
       "2351  <a href=\"http://twitter.com/download/iphone\" r...   \n",
       "2352  <a href=\"http://twitter.com/download/iphone\" r...   \n",
       "2353  <a href=\"http://twitter.com/download/iphone\" r...   \n",
       "2354  <a href=\"http://twitter.com/download/iphone\" r...   \n",
       "2355  <a href=\"http://twitter.com/download/iphone\" r...   \n",
       "\n",
       "                                                   text retweeted_status_id  \\\n",
       "2351  Here we have a 1949 1st generation vulpix. Enj...                 NaN   \n",
       "2352  This is a purebred Piers Morgan. Loves to Netf...                 NaN   \n",
       "2353  Here is a very happy pup. Big fan of well-main...                 NaN   \n",
       "2354  This is a western brown Mitsubishi terrier. Up...                 NaN   \n",
       "2355  Here we have a Japanese Irish Setter. Lost eye...                 NaN   \n",
       "\n",
       "      retweeted_status_user_id retweeted_status_timestamp  \\\n",
       "2351                       NaN                        NaN   \n",
       "2352                       NaN                        NaN   \n",
       "2353                       NaN                        NaN   \n",
       "2354                       NaN                        NaN   \n",
       "2355                       NaN                        NaN   \n",
       "\n",
       "                                          expanded_urls rating_numerator  \\\n",
       "2351  https://twitter.com/dog_rates/status/666049248...                5   \n",
       "2352  https://twitter.com/dog_rates/status/666044226...                6   \n",
       "2353  https://twitter.com/dog_rates/status/666033412...                9   \n",
       "2354  https://twitter.com/dog_rates/status/666029285...                7   \n",
       "2355  https://twitter.com/dog_rates/status/666020888...                8   \n",
       "\n",
       "     rating_denominator  name doggo floofer pupper puppo  \n",
       "2351                 10  None  None    None   None  None  \n",
       "2352                 10     a  None    None   None  None  \n",
       "2353                 10     a  None    None   None  None  \n",
       "2354                 10     a  None    None   None  None  \n",
       "2355                 10  None  None    None   None  None  "
      ]
     },
     "execution_count": 150,
     "metadata": {},
     "output_type": "execute_result"
    }
   ],
   "source": [
    "df.tail()"
   ]
  },
  {
   "cell_type": "markdown",
   "id": "72c7c90e",
   "metadata": {},
   "source": [
    "**Displaying the image prediction data**"
   ]
  },
  {
   "cell_type": "code",
   "execution_count": 151,
   "id": "9d798cbc",
   "metadata": {},
   "outputs": [
    {
     "data": {
      "text/html": [
       "<div>\n",
       "<style scoped>\n",
       "    .dataframe tbody tr th:only-of-type {\n",
       "        vertical-align: middle;\n",
       "    }\n",
       "\n",
       "    .dataframe tbody tr th {\n",
       "        vertical-align: top;\n",
       "    }\n",
       "\n",
       "    .dataframe thead th {\n",
       "        text-align: right;\n",
       "    }\n",
       "</style>\n",
       "<table border=\"1\" class=\"dataframe\">\n",
       "  <thead>\n",
       "    <tr style=\"text-align: right;\">\n",
       "      <th></th>\n",
       "      <th>tweet_id</th>\n",
       "      <th>jpg_url</th>\n",
       "      <th>img_num</th>\n",
       "      <th>p1</th>\n",
       "      <th>p1_conf</th>\n",
       "      <th>p1_dog</th>\n",
       "      <th>p2</th>\n",
       "      <th>p2_conf</th>\n",
       "      <th>p2_dog</th>\n",
       "      <th>p3</th>\n",
       "      <th>p3_conf</th>\n",
       "      <th>p3_dog</th>\n",
       "    </tr>\n",
       "  </thead>\n",
       "  <tbody>\n",
       "    <tr>\n",
       "      <th>0</th>\n",
       "      <td>666020888022790149</td>\n",
       "      <td>https://pbs.twimg.com/media/CT4udn0WwAA0aMy.jpg</td>\n",
       "      <td>1</td>\n",
       "      <td>Welsh_springer_spaniel</td>\n",
       "      <td>0.465074</td>\n",
       "      <td>True</td>\n",
       "      <td>collie</td>\n",
       "      <td>0.156665</td>\n",
       "      <td>True</td>\n",
       "      <td>Shetland_sheepdog</td>\n",
       "      <td>0.061428</td>\n",
       "      <td>True</td>\n",
       "    </tr>\n",
       "    <tr>\n",
       "      <th>1</th>\n",
       "      <td>666029285002620928</td>\n",
       "      <td>https://pbs.twimg.com/media/CT42GRgUYAA5iDo.jpg</td>\n",
       "      <td>1</td>\n",
       "      <td>redbone</td>\n",
       "      <td>0.506826</td>\n",
       "      <td>True</td>\n",
       "      <td>miniature_pinscher</td>\n",
       "      <td>0.074192</td>\n",
       "      <td>True</td>\n",
       "      <td>Rhodesian_ridgeback</td>\n",
       "      <td>0.072010</td>\n",
       "      <td>True</td>\n",
       "    </tr>\n",
       "    <tr>\n",
       "      <th>2</th>\n",
       "      <td>666033412701032449</td>\n",
       "      <td>https://pbs.twimg.com/media/CT4521TWwAEvMyu.jpg</td>\n",
       "      <td>1</td>\n",
       "      <td>German_shepherd</td>\n",
       "      <td>0.596461</td>\n",
       "      <td>True</td>\n",
       "      <td>malinois</td>\n",
       "      <td>0.138584</td>\n",
       "      <td>True</td>\n",
       "      <td>bloodhound</td>\n",
       "      <td>0.116197</td>\n",
       "      <td>True</td>\n",
       "    </tr>\n",
       "    <tr>\n",
       "      <th>3</th>\n",
       "      <td>666044226329800704</td>\n",
       "      <td>https://pbs.twimg.com/media/CT5Dr8HUEAA-lEu.jpg</td>\n",
       "      <td>1</td>\n",
       "      <td>Rhodesian_ridgeback</td>\n",
       "      <td>0.408143</td>\n",
       "      <td>True</td>\n",
       "      <td>redbone</td>\n",
       "      <td>0.360687</td>\n",
       "      <td>True</td>\n",
       "      <td>miniature_pinscher</td>\n",
       "      <td>0.222752</td>\n",
       "      <td>True</td>\n",
       "    </tr>\n",
       "    <tr>\n",
       "      <th>4</th>\n",
       "      <td>666049248165822465</td>\n",
       "      <td>https://pbs.twimg.com/media/CT5IQmsXIAAKY4A.jpg</td>\n",
       "      <td>1</td>\n",
       "      <td>miniature_pinscher</td>\n",
       "      <td>0.560311</td>\n",
       "      <td>True</td>\n",
       "      <td>Rottweiler</td>\n",
       "      <td>0.243682</td>\n",
       "      <td>True</td>\n",
       "      <td>Doberman</td>\n",
       "      <td>0.154629</td>\n",
       "      <td>True</td>\n",
       "    </tr>\n",
       "    <tr>\n",
       "      <th>...</th>\n",
       "      <td>...</td>\n",
       "      <td>...</td>\n",
       "      <td>...</td>\n",
       "      <td>...</td>\n",
       "      <td>...</td>\n",
       "      <td>...</td>\n",
       "      <td>...</td>\n",
       "      <td>...</td>\n",
       "      <td>...</td>\n",
       "      <td>...</td>\n",
       "      <td>...</td>\n",
       "      <td>...</td>\n",
       "    </tr>\n",
       "    <tr>\n",
       "      <th>2070</th>\n",
       "      <td>891327558926688256</td>\n",
       "      <td>https://pbs.twimg.com/media/DF6hr6BUMAAzZgT.jpg</td>\n",
       "      <td>2</td>\n",
       "      <td>basset</td>\n",
       "      <td>0.555712</td>\n",
       "      <td>True</td>\n",
       "      <td>English_springer</td>\n",
       "      <td>0.225770</td>\n",
       "      <td>True</td>\n",
       "      <td>German_short-haired_pointer</td>\n",
       "      <td>0.175219</td>\n",
       "      <td>True</td>\n",
       "    </tr>\n",
       "    <tr>\n",
       "      <th>2071</th>\n",
       "      <td>891689557279858688</td>\n",
       "      <td>https://pbs.twimg.com/media/DF_q7IAWsAEuuN8.jpg</td>\n",
       "      <td>1</td>\n",
       "      <td>paper_towel</td>\n",
       "      <td>0.170278</td>\n",
       "      <td>False</td>\n",
       "      <td>Labrador_retriever</td>\n",
       "      <td>0.168086</td>\n",
       "      <td>True</td>\n",
       "      <td>spatula</td>\n",
       "      <td>0.040836</td>\n",
       "      <td>False</td>\n",
       "    </tr>\n",
       "    <tr>\n",
       "      <th>2072</th>\n",
       "      <td>891815181378084864</td>\n",
       "      <td>https://pbs.twimg.com/media/DGBdLU1WsAANxJ9.jpg</td>\n",
       "      <td>1</td>\n",
       "      <td>Chihuahua</td>\n",
       "      <td>0.716012</td>\n",
       "      <td>True</td>\n",
       "      <td>malamute</td>\n",
       "      <td>0.078253</td>\n",
       "      <td>True</td>\n",
       "      <td>kelpie</td>\n",
       "      <td>0.031379</td>\n",
       "      <td>True</td>\n",
       "    </tr>\n",
       "    <tr>\n",
       "      <th>2073</th>\n",
       "      <td>892177421306343426</td>\n",
       "      <td>https://pbs.twimg.com/media/DGGmoV4XsAAUL6n.jpg</td>\n",
       "      <td>1</td>\n",
       "      <td>Chihuahua</td>\n",
       "      <td>0.323581</td>\n",
       "      <td>True</td>\n",
       "      <td>Pekinese</td>\n",
       "      <td>0.090647</td>\n",
       "      <td>True</td>\n",
       "      <td>papillon</td>\n",
       "      <td>0.068957</td>\n",
       "      <td>True</td>\n",
       "    </tr>\n",
       "    <tr>\n",
       "      <th>2074</th>\n",
       "      <td>892420643555336193</td>\n",
       "      <td>https://pbs.twimg.com/media/DGKD1-bXoAAIAUK.jpg</td>\n",
       "      <td>1</td>\n",
       "      <td>orange</td>\n",
       "      <td>0.097049</td>\n",
       "      <td>False</td>\n",
       "      <td>bagel</td>\n",
       "      <td>0.085851</td>\n",
       "      <td>False</td>\n",
       "      <td>banana</td>\n",
       "      <td>0.076110</td>\n",
       "      <td>False</td>\n",
       "    </tr>\n",
       "  </tbody>\n",
       "</table>\n",
       "<p>2075 rows × 12 columns</p>\n",
       "</div>"
      ],
      "text/plain": [
       "                tweet_id                                          jpg_url  \\\n",
       "0     666020888022790149  https://pbs.twimg.com/media/CT4udn0WwAA0aMy.jpg   \n",
       "1     666029285002620928  https://pbs.twimg.com/media/CT42GRgUYAA5iDo.jpg   \n",
       "2     666033412701032449  https://pbs.twimg.com/media/CT4521TWwAEvMyu.jpg   \n",
       "3     666044226329800704  https://pbs.twimg.com/media/CT5Dr8HUEAA-lEu.jpg   \n",
       "4     666049248165822465  https://pbs.twimg.com/media/CT5IQmsXIAAKY4A.jpg   \n",
       "...                  ...                                              ...   \n",
       "2070  891327558926688256  https://pbs.twimg.com/media/DF6hr6BUMAAzZgT.jpg   \n",
       "2071  891689557279858688  https://pbs.twimg.com/media/DF_q7IAWsAEuuN8.jpg   \n",
       "2072  891815181378084864  https://pbs.twimg.com/media/DGBdLU1WsAANxJ9.jpg   \n",
       "2073  892177421306343426  https://pbs.twimg.com/media/DGGmoV4XsAAUL6n.jpg   \n",
       "2074  892420643555336193  https://pbs.twimg.com/media/DGKD1-bXoAAIAUK.jpg   \n",
       "\n",
       "      img_num                      p1   p1_conf  p1_dog                  p2  \\\n",
       "0           1  Welsh_springer_spaniel  0.465074    True              collie   \n",
       "1           1                 redbone  0.506826    True  miniature_pinscher   \n",
       "2           1         German_shepherd  0.596461    True            malinois   \n",
       "3           1     Rhodesian_ridgeback  0.408143    True             redbone   \n",
       "4           1      miniature_pinscher  0.560311    True          Rottweiler   \n",
       "...       ...                     ...       ...     ...                 ...   \n",
       "2070        2                  basset  0.555712    True    English_springer   \n",
       "2071        1             paper_towel  0.170278   False  Labrador_retriever   \n",
       "2072        1               Chihuahua  0.716012    True            malamute   \n",
       "2073        1               Chihuahua  0.323581    True            Pekinese   \n",
       "2074        1                  orange  0.097049   False               bagel   \n",
       "\n",
       "       p2_conf  p2_dog                           p3   p3_conf  p3_dog  \n",
       "0     0.156665    True            Shetland_sheepdog  0.061428    True  \n",
       "1     0.074192    True          Rhodesian_ridgeback  0.072010    True  \n",
       "2     0.138584    True                   bloodhound  0.116197    True  \n",
       "3     0.360687    True           miniature_pinscher  0.222752    True  \n",
       "4     0.243682    True                     Doberman  0.154629    True  \n",
       "...        ...     ...                          ...       ...     ...  \n",
       "2070  0.225770    True  German_short-haired_pointer  0.175219    True  \n",
       "2071  0.168086    True                      spatula  0.040836   False  \n",
       "2072  0.078253    True                       kelpie  0.031379    True  \n",
       "2073  0.090647    True                     papillon  0.068957    True  \n",
       "2074  0.085851   False                       banana  0.076110   False  \n",
       "\n",
       "[2075 rows x 12 columns]"
      ]
     },
     "execution_count": 151,
     "metadata": {},
     "output_type": "execute_result"
    }
   ],
   "source": [
    "df_image"
   ]
  },
  {
   "cell_type": "markdown",
   "id": "a8198f58",
   "metadata": {},
   "source": [
    "`image prediction` columns:\n",
    "- **tweet_id**: is the last part of the tweet URL after \"status/\"\n",
    "- **p1**: is the algorithm's #1 prediction for the image in the tweet\n",
    "- **p1_conf**: is how confident the algorithm is in its #1 prediction\n",
    "- **p1_dog**: is whether or not the #1 prediction is a breed of dog\n",
    "- **p2**: is the algorithm's second most likely prediction\n",
    "- **p2_conf**:  is how confident the algorithm is in its #2 prediction\n",
    "- **p2_dog**: is whether or not the #2 prediction is a breed of dog\n",
    "- **p3**: is the algorithm's Third most likely prediction\n",
    "- **p3_conf**:  is how confident the algorithm is in its #3 prediction\n",
    "- **p3_dog**: is whether or not the #3 prediction is a breed of dog"
   ]
  },
  {
   "cell_type": "markdown",
   "id": "9542d771",
   "metadata": {},
   "source": [
    "**Displaying the additional data**"
   ]
  },
  {
   "cell_type": "code",
   "execution_count": 152,
   "id": "ea85dfe7",
   "metadata": {},
   "outputs": [
    {
     "data": {
      "text/html": [
       "<div>\n",
       "<style scoped>\n",
       "    .dataframe tbody tr th:only-of-type {\n",
       "        vertical-align: middle;\n",
       "    }\n",
       "\n",
       "    .dataframe tbody tr th {\n",
       "        vertical-align: top;\n",
       "    }\n",
       "\n",
       "    .dataframe thead th {\n",
       "        text-align: right;\n",
       "    }\n",
       "</style>\n",
       "<table border=\"1\" class=\"dataframe\">\n",
       "  <thead>\n",
       "    <tr style=\"text-align: right;\">\n",
       "      <th></th>\n",
       "      <th>tweet_ID</th>\n",
       "      <th>retweet_count</th>\n",
       "      <th>favorite_count</th>\n",
       "    </tr>\n",
       "  </thead>\n",
       "  <tbody>\n",
       "    <tr>\n",
       "      <th>0</th>\n",
       "      <td>892420643555336193</td>\n",
       "      <td>8853</td>\n",
       "      <td>39467</td>\n",
       "    </tr>\n",
       "    <tr>\n",
       "      <th>1</th>\n",
       "      <td>892177421306343426</td>\n",
       "      <td>6514</td>\n",
       "      <td>33819</td>\n",
       "    </tr>\n",
       "    <tr>\n",
       "      <th>2</th>\n",
       "      <td>891815181378084864</td>\n",
       "      <td>4328</td>\n",
       "      <td>25461</td>\n",
       "    </tr>\n",
       "    <tr>\n",
       "      <th>3</th>\n",
       "      <td>891689557279858688</td>\n",
       "      <td>8964</td>\n",
       "      <td>42908</td>\n",
       "    </tr>\n",
       "    <tr>\n",
       "      <th>4</th>\n",
       "      <td>891327558926688256</td>\n",
       "      <td>9774</td>\n",
       "      <td>41048</td>\n",
       "    </tr>\n",
       "    <tr>\n",
       "      <th>...</th>\n",
       "      <td>...</td>\n",
       "      <td>...</td>\n",
       "      <td>...</td>\n",
       "    </tr>\n",
       "    <tr>\n",
       "      <th>2349</th>\n",
       "      <td>666049248165822465</td>\n",
       "      <td>41</td>\n",
       "      <td>111</td>\n",
       "    </tr>\n",
       "    <tr>\n",
       "      <th>2350</th>\n",
       "      <td>666044226329800704</td>\n",
       "      <td>147</td>\n",
       "      <td>311</td>\n",
       "    </tr>\n",
       "    <tr>\n",
       "      <th>2351</th>\n",
       "      <td>666033412701032449</td>\n",
       "      <td>47</td>\n",
       "      <td>128</td>\n",
       "    </tr>\n",
       "    <tr>\n",
       "      <th>2352</th>\n",
       "      <td>666029285002620928</td>\n",
       "      <td>48</td>\n",
       "      <td>132</td>\n",
       "    </tr>\n",
       "    <tr>\n",
       "      <th>2353</th>\n",
       "      <td>666020888022790149</td>\n",
       "      <td>532</td>\n",
       "      <td>2535</td>\n",
       "    </tr>\n",
       "  </tbody>\n",
       "</table>\n",
       "<p>2354 rows × 3 columns</p>\n",
       "</div>"
      ],
      "text/plain": [
       "                tweet_ID  retweet_count  favorite_count\n",
       "0     892420643555336193           8853           39467\n",
       "1     892177421306343426           6514           33819\n",
       "2     891815181378084864           4328           25461\n",
       "3     891689557279858688           8964           42908\n",
       "4     891327558926688256           9774           41048\n",
       "...                  ...            ...             ...\n",
       "2349  666049248165822465             41             111\n",
       "2350  666044226329800704            147             311\n",
       "2351  666033412701032449             47             128\n",
       "2352  666029285002620928             48             132\n",
       "2353  666020888022790149            532            2535\n",
       "\n",
       "[2354 rows x 3 columns]"
      ]
     },
     "execution_count": 152,
     "metadata": {},
     "output_type": "execute_result"
    }
   ],
   "source": [
    "twtcount"
   ]
  },
  {
   "cell_type": "markdown",
   "id": "f18933fb",
   "metadata": {},
   "source": [
    "status_df (tweet status) columns:\n",
    "\n",
    "- ***id***: the unique identifier for each tweet\n",
    "- ***retweet_count***: number of times this Tweet has been retweeted\n",
    "- ***favorite_count***: indicates approximately how many times this Tweet has been liked by Twitter users"
   ]
  },
  {
   "cell_type": "markdown",
   "id": "6943325d",
   "metadata": {},
   "source": [
    "### Quality\n",
    "\n",
    "- the columns in_reply_to_status_id, in_reply_to_user_id, retweeted_status_id\tretweeted_status_user_id\tretweeted_status_timestamp are mostly null values in `twitter achive` table\n",
    "- Remove columns having retweet_id as we need only only original rating not retweets in `twitter achive` table\n",
    "- inconsitency in the tweet_id column name in the the three tavles\n",
    "- Some of the prediction are not dogs in the `image prediction` table\n",
    "\n",
    "### Tidyness\n",
    "\n",
    "- The doggo, pupper, poppo, and floofer columns should form a single colums called dog stage in `twitter achive` table\n",
    "- The name and dog stage can be extracted from the text column in `twitter achive` table\n",
    "- tweet_ID should be adjusted to tweet_id to conform with the two tables in the `additional file` table"
   ]
  },
  {
   "cell_type": "markdown",
   "id": "8b63e8b0",
   "metadata": {},
   "source": [
    "#### Programatic Assessment"
   ]
  },
  {
   "cell_type": "markdown",
   "id": "a352771d",
   "metadata": {},
   "source": [
    "**Getting the info of the twitter achive data**"
   ]
  },
  {
   "cell_type": "code",
   "execution_count": 153,
   "id": "0c48ce38",
   "metadata": {},
   "outputs": [
    {
     "name": "stdout",
     "output_type": "stream",
     "text": [
      "<class 'pandas.core.frame.DataFrame'>\n",
      "RangeIndex: 2356 entries, 0 to 2355\n",
      "Data columns (total 17 columns):\n",
      " #   Column                      Non-Null Count  Dtype  \n",
      "---  ------                      --------------  -----  \n",
      " 0   /tweet_id                   2356 non-null   object \n",
      " 1   in_reply_to_status_id       79 non-null     object \n",
      " 2   in_reply_to_user_id         79 non-null     object \n",
      " 3   timestamp                   2355 non-null   object \n",
      " 4   source                      2355 non-null   object \n",
      " 5   text                        2355 non-null   object \n",
      " 6   retweeted_status_id         182 non-null    object \n",
      " 7   retweeted_status_user_id    182 non-null    float64\n",
      " 8   retweeted_status_timestamp  182 non-null    object \n",
      " 9   expanded_urls               2297 non-null   object \n",
      " 10  rating_numerator            2356 non-null   object \n",
      " 11  rating_denominator          2356 non-null   object \n",
      " 12  name                        2356 non-null   object \n",
      " 13  doggo                       2356 non-null   object \n",
      " 14  floofer                     2355 non-null   object \n",
      " 15  pupper                      2355 non-null   object \n",
      " 16  puppo                       2355 non-null   object \n",
      "dtypes: float64(1), object(16)\n",
      "memory usage: 313.0+ KB\n"
     ]
    }
   ],
   "source": [
    "df.info()"
   ]
  },
  {
   "cell_type": "markdown",
   "id": "e48cb379",
   "metadata": {},
   "source": [
    "> **from the result above, we can deduce that**\n",
    "- There are null values\n",
    "- the two `in_reply_to` columns and `retweeted` have a lot of null values\n",
    "- The /tweet_id needs to be will renamed\n",
    "- the timestamp should be a datetime column\n",
    "- rating_numerator and the rating_denominator should a interger column"
   ]
  },
  {
   "cell_type": "markdown",
   "id": "bf517868",
   "metadata": {},
   "source": [
    "**creating function to check for duplicated values in all columns**"
   ]
  },
  {
   "cell_type": "code",
   "execution_count": 154,
   "id": "f0640313",
   "metadata": {},
   "outputs": [],
   "source": [
    "def isnull(col, data):\n",
    "    for i in col:\n",
    "        print('The sum of null value in {}  is: {}'.format(i, data[i].isnull().sum()))"
   ]
  },
  {
   "cell_type": "markdown",
   "id": "c1905027",
   "metadata": {},
   "source": [
    "**calling the function on the twitter achive dataset**"
   ]
  },
  {
   "cell_type": "code",
   "execution_count": 155,
   "id": "778c4c0c",
   "metadata": {},
   "outputs": [
    {
     "name": "stdout",
     "output_type": "stream",
     "text": [
      "The sum of null value in /tweet_id  is: 0\n",
      "The sum of null value in in_reply_to_status_id  is: 2277\n",
      "The sum of null value in in_reply_to_user_id  is: 2277\n",
      "The sum of null value in timestamp  is: 1\n",
      "The sum of null value in source  is: 1\n",
      "The sum of null value in text  is: 1\n",
      "The sum of null value in retweeted_status_id  is: 2174\n",
      "The sum of null value in retweeted_status_user_id  is: 2174\n",
      "The sum of null value in retweeted_status_timestamp  is: 2174\n",
      "The sum of null value in expanded_urls  is: 59\n",
      "The sum of null value in rating_numerator  is: 0\n",
      "The sum of null value in rating_denominator  is: 0\n",
      "The sum of null value in name  is: 0\n",
      "The sum of null value in doggo  is: 0\n",
      "The sum of null value in floofer  is: 1\n",
      "The sum of null value in pupper  is: 1\n",
      "The sum of null value in puppo  is: 1\n"
     ]
    }
   ],
   "source": [
    "#create a list of the column names\n",
    "df_col = df.columns\n",
    "# calling the isnull function with two arguments\n",
    "isnull(df_col, df)"
   ]
  },
  {
   "cell_type": "markdown",
   "id": "f556aa39",
   "metadata": {},
   "source": [
    "> From the result above, we can take notice of some repeated column having just 1 null values. We should track the row to know it is the same row that has the same row"
   ]
  },
  {
   "cell_type": "markdown",
   "id": "e53c64e2",
   "metadata": {},
   "source": [
    "**tracking the row with one null value**"
   ]
  },
  {
   "cell_type": "code",
   "execution_count": 156,
   "id": "69fd138f",
   "metadata": {
    "scrolled": true
   },
   "outputs": [
    {
     "data": {
      "text/html": [
       "<div>\n",
       "<style scoped>\n",
       "    .dataframe tbody tr th:only-of-type {\n",
       "        vertical-align: middle;\n",
       "    }\n",
       "\n",
       "    .dataframe tbody tr th {\n",
       "        vertical-align: top;\n",
       "    }\n",
       "\n",
       "    .dataframe thead th {\n",
       "        text-align: right;\n",
       "    }\n",
       "</style>\n",
       "<table border=\"1\" class=\"dataframe\">\n",
       "  <thead>\n",
       "    <tr style=\"text-align: right;\">\n",
       "      <th></th>\n",
       "      <th>/tweet_id</th>\n",
       "      <th>in_reply_to_status_id</th>\n",
       "      <th>in_reply_to_user_id</th>\n",
       "      <th>timestamp</th>\n",
       "      <th>source</th>\n",
       "      <th>text</th>\n",
       "      <th>retweeted_status_id</th>\n",
       "      <th>retweeted_status_user_id</th>\n",
       "      <th>retweeted_status_timestamp</th>\n",
       "      <th>expanded_urls</th>\n",
       "      <th>rating_numerator</th>\n",
       "      <th>rating_denominator</th>\n",
       "      <th>name</th>\n",
       "      <th>doggo</th>\n",
       "      <th>floofer</th>\n",
       "      <th>pupper</th>\n",
       "      <th>puppo</th>\n",
       "    </tr>\n",
       "  </thead>\n",
       "  <tbody>\n",
       "    <tr>\n",
       "      <th>8</th>\n",
       "      <td>89060925:51 +0000</td>\n",
       "      <td>&lt;a href=\"http://twitter.com/download/iphone\" r...</td>\n",
       "      <td>This is Zoey. She doesn't want to be one of th...</td>\n",
       "      <td>NaN</td>\n",
       "      <td>NaN</td>\n",
       "      <td>NaN</td>\n",
       "      <td>https://twitter.com/dog_rates/status/890609185...</td>\n",
       "      <td>13.0</td>\n",
       "      <td>10</td>\n",
       "      <td>Zoey</td>\n",
       "      <td>None</td>\n",
       "      <td>None</td>\n",
       "      <td>None</td>\n",
       "      <td>None</td>\n",
       "      <td>NaN</td>\n",
       "      <td>NaN</td>\n",
       "      <td>NaN</td>\n",
       "    </tr>\n",
       "  </tbody>\n",
       "</table>\n",
       "</div>"
      ],
      "text/plain": [
       "           /tweet_id                              in_reply_to_status_id  \\\n",
       "8  89060925:51 +0000  <a href=\"http://twitter.com/download/iphone\" r...   \n",
       "\n",
       "                                 in_reply_to_user_id timestamp source text  \\\n",
       "8  This is Zoey. She doesn't want to be one of th...       NaN    NaN  NaN   \n",
       "\n",
       "                                 retweeted_status_id  \\\n",
       "8  https://twitter.com/dog_rates/status/890609185...   \n",
       "\n",
       "   retweeted_status_user_id retweeted_status_timestamp expanded_urls  \\\n",
       "8                      13.0                         10          Zoey   \n",
       "\n",
       "  rating_numerator rating_denominator  name doggo floofer pupper puppo  \n",
       "8             None               None  None  None     NaN    NaN   NaN  "
      ]
     },
     "execution_count": 156,
     "metadata": {},
     "output_type": "execute_result"
    }
   ],
   "source": [
    "df.loc[df.source.isnull()]"
   ]
  },
  {
   "cell_type": "markdown",
   "id": "a4ab5c43",
   "metadata": {},
   "source": [
    "> From the code above it is evident that it is the index 8 or row 8 that is causing the one null values reoccuring among the columns."
   ]
  },
  {
   "cell_type": "markdown",
   "id": "8c56b971",
   "metadata": {},
   "source": [
    "**creating function to check for duplicated values in all columns**"
   ]
  },
  {
   "cell_type": "code",
   "execution_count": 157,
   "id": "b997f23f",
   "metadata": {},
   "outputs": [],
   "source": [
    "#creating function to check for duplicated values in all columns \n",
    "def dupli(col, data):\n",
    "    for i in col:\n",
    "        print('The sum of duplicated value in {}  is: {}'.format(i, data[i].duplicated().sum()))"
   ]
  },
  {
   "cell_type": "markdown",
   "id": "d2cf1ff0",
   "metadata": {},
   "source": [
    "**calling the function on the twitter achive dataset**"
   ]
  },
  {
   "cell_type": "code",
   "execution_count": 158,
   "id": "c7d79b3d",
   "metadata": {},
   "outputs": [
    {
     "name": "stdout",
     "output_type": "stream",
     "text": [
      "The sum of duplicated value in /tweet_id  is: 0\n",
      "The sum of duplicated value in in_reply_to_status_id  is: 2277\n",
      "The sum of duplicated value in in_reply_to_user_id  is: 2323\n",
      "The sum of duplicated value in timestamp  is: 0\n",
      "The sum of duplicated value in source  is: 2350\n",
      "The sum of duplicated value in text  is: 0\n",
      "The sum of duplicated value in retweeted_status_id  is: 2173\n",
      "The sum of duplicated value in retweeted_status_user_id  is: 2329\n",
      "The sum of duplicated value in retweeted_status_timestamp  is: 2173\n",
      "The sum of duplicated value in expanded_urls  is: 137\n",
      "The sum of duplicated value in rating_numerator  is: 2314\n",
      "The sum of duplicated value in rating_denominator  is: 2337\n",
      "The sum of duplicated value in name  is: 1399\n",
      "The sum of duplicated value in doggo  is: 2354\n",
      "The sum of duplicated value in floofer  is: 2353\n",
      "The sum of duplicated value in pupper  is: 2353\n",
      "The sum of duplicated value in puppo  is: 2353\n"
     ]
    }
   ],
   "source": [
    "#create a list of the column names\n",
    "df_col = df.columns\n",
    "\n",
    "dupli(df_col, df)"
   ]
  },
  {
   "cell_type": "markdown",
   "id": "8a9063ac",
   "metadata": {},
   "source": [
    "> From the table ablove there are only three columns that do not have duplicated data and there are many duplicated values in the dataset"
   ]
  },
  {
   "cell_type": "code",
   "execution_count": 159,
   "id": "47a51661",
   "metadata": {},
   "outputs": [
    {
     "data": {
      "text/plain": [
       "00         1\n",
       "10      2332\n",
       "11         3\n",
       "110        1\n",
       "120        1\n",
       "130        1\n",
       "15         1\n",
       "150        1\n",
       "16         1\n",
       "170        1\n",
       "2          1\n",
       "20         2\n",
       "40         1\n",
       "50         3\n",
       "7          1\n",
       "70         1\n",
       "80         2\n",
       "90         1\n",
       "None       1\n",
       "Name: rating_denominator, dtype: int64"
      ]
     },
     "execution_count": 159,
     "metadata": {},
     "output_type": "execute_result"
    }
   ],
   "source": [
    "# Sort by rating_denominator values\n",
    "df.rating_denominator.value_counts().sort_index(ascending = True)"
   ]
  },
  {
   "cell_type": "code",
   "execution_count": 160,
   "id": "55149f52",
   "metadata": {},
   "outputs": [
    {
     "data": {
      "text/plain": [
       "0         2\n",
       "007       1\n",
       "1         9\n",
       "10      461\n",
       "11      464\n",
       "12      558\n",
       "121       1\n",
       "13      350\n",
       "14       54\n",
       "143       1\n",
       "144       1\n",
       "15        2\n",
       "165       1\n",
       "17        1\n",
       "1776      1\n",
       "182       1\n",
       "2         9\n",
       "20        1\n",
       "204       1\n",
       "24        1\n",
       "26        1\n",
       "27        1\n",
       "3        19\n",
       "4        17\n",
       "420       2\n",
       "44        1\n",
       "45        1\n",
       "5        37\n",
       "50        1\n",
       "6        32\n",
       "60        1\n",
       "666       1\n",
       "7        54\n",
       "75        2\n",
       "8       102\n",
       "80        1\n",
       "84        1\n",
       "88        1\n",
       "9       158\n",
       "960       1\n",
       "99        1\n",
       "None      1\n",
       "Name: rating_numerator, dtype: int64"
      ]
     },
     "execution_count": 160,
     "metadata": {},
     "output_type": "execute_result"
    }
   ],
   "source": [
    "# Sort by rating_numerator values\n",
    "df.rating_numerator.value_counts().sort_index()"
   ]
  },
  {
   "cell_type": "code",
   "execution_count": 161,
   "id": "6ccd65cb",
   "metadata": {},
   "outputs": [
    {
     "data": {
      "text/plain": [
       "Abby            2\n",
       "Ace             1\n",
       "Acro            1\n",
       "Adele           1\n",
       "Aiden           1\n",
       "               ..\n",
       "such            1\n",
       "the             8\n",
       "this            1\n",
       "unacceptable    1\n",
       "very            5\n",
       "Name: name, Length: 957, dtype: int64"
      ]
     },
     "execution_count": 161,
     "metadata": {},
     "output_type": "execute_result"
    }
   ],
   "source": [
    "# Sort by name values\n",
    "df.name.value_counts().sort_index()"
   ]
  },
  {
   "cell_type": "code",
   "execution_count": 162,
   "id": "ddc27037",
   "metadata": {},
   "outputs": [
    {
     "data": {
      "text/plain": [
       "None         746\n",
       "a             55\n",
       "Charlie       12\n",
       "Oliver        11\n",
       "Cooper        11\n",
       "            ... \n",
       "Shikha         1\n",
       "Kirk           1\n",
       "Grizzwald      1\n",
       "Cora           1\n",
       "Mauve          1\n",
       "Name: name, Length: 957, dtype: int64"
      ]
     },
     "execution_count": 162,
     "metadata": {},
     "output_type": "execute_result"
    }
   ],
   "source": [
    "df.name.value_counts()"
   ]
  },
  {
   "cell_type": "markdown",
   "id": "3d132a34",
   "metadata": {},
   "source": [
    "- ***images***"
   ]
  },
  {
   "cell_type": "markdown",
   "id": "730a9e76",
   "metadata": {},
   "source": [
    "**Getting the info of the image prediction data**"
   ]
  },
  {
   "cell_type": "code",
   "execution_count": 163,
   "id": "bec6a2ec",
   "metadata": {},
   "outputs": [
    {
     "name": "stdout",
     "output_type": "stream",
     "text": [
      "<class 'pandas.core.frame.DataFrame'>\n",
      "RangeIndex: 2075 entries, 0 to 2074\n",
      "Data columns (total 12 columns):\n",
      " #   Column    Non-Null Count  Dtype  \n",
      "---  ------    --------------  -----  \n",
      " 0   tweet_id  2075 non-null   int64  \n",
      " 1   jpg_url   2075 non-null   object \n",
      " 2   img_num   2075 non-null   int64  \n",
      " 3   p1        2075 non-null   object \n",
      " 4   p1_conf   2075 non-null   float64\n",
      " 5   p1_dog    2075 non-null   bool   \n",
      " 6   p2        2075 non-null   object \n",
      " 7   p2_conf   2075 non-null   float64\n",
      " 8   p2_dog    2075 non-null   bool   \n",
      " 9   p3        2075 non-null   object \n",
      " 10  p3_conf   2075 non-null   float64\n",
      " 11  p3_dog    2075 non-null   bool   \n",
      "dtypes: bool(3), float64(3), int64(2), object(4)\n",
      "memory usage: 152.1+ KB\n"
     ]
    }
   ],
   "source": [
    "df_image.info()"
   ]
  },
  {
   "cell_type": "markdown",
   "id": "8246a0f2",
   "metadata": {},
   "source": [
    "> **from the result above, we can deduce that**\n",
    "- There are no null values"
   ]
  },
  {
   "cell_type": "markdown",
   "id": "b90a0713",
   "metadata": {},
   "source": [
    "**checking for null values using the fuction created ealier**"
   ]
  },
  {
   "cell_type": "code",
   "execution_count": 164,
   "id": "6e130241",
   "metadata": {},
   "outputs": [
    {
     "name": "stdout",
     "output_type": "stream",
     "text": [
      "The sum of null value in tweet_id  is: 0\n",
      "The sum of null value in jpg_url  is: 0\n",
      "The sum of null value in img_num  is: 0\n",
      "The sum of null value in p1  is: 0\n",
      "The sum of null value in p1_conf  is: 0\n",
      "The sum of null value in p1_dog  is: 0\n",
      "The sum of null value in p2  is: 0\n",
      "The sum of null value in p2_conf  is: 0\n",
      "The sum of null value in p2_dog  is: 0\n",
      "The sum of null value in p3  is: 0\n",
      "The sum of null value in p3_conf  is: 0\n",
      "The sum of null value in p3_dog  is: 0\n"
     ]
    }
   ],
   "source": [
    "isnull(df_image.columns, df_image)"
   ]
  },
  {
   "cell_type": "markdown",
   "id": "541c4dd3",
   "metadata": {},
   "source": [
    "> No null value was observed"
   ]
  },
  {
   "cell_type": "markdown",
   "id": "65f312c4",
   "metadata": {},
   "source": [
    "**checking for duplicated values using the fuction created ealier**"
   ]
  },
  {
   "cell_type": "code",
   "execution_count": 165,
   "id": "0ba6fa20",
   "metadata": {},
   "outputs": [
    {
     "name": "stdout",
     "output_type": "stream",
     "text": [
      "The sum of duplicated value in tweet_id  is: 0\n",
      "The sum of duplicated value in jpg_url  is: 66\n",
      "The sum of duplicated value in img_num  is: 2071\n",
      "The sum of duplicated value in p1  is: 1697\n",
      "The sum of duplicated value in p1_conf  is: 69\n",
      "The sum of duplicated value in p1_dog  is: 2073\n",
      "The sum of duplicated value in p2  is: 1670\n",
      "The sum of duplicated value in p2_conf  is: 71\n",
      "The sum of duplicated value in p2_dog  is: 2073\n",
      "The sum of duplicated value in p3  is: 1667\n",
      "The sum of duplicated value in p3_conf  is: 69\n",
      "The sum of duplicated value in p3_dog  is: 2073\n"
     ]
    }
   ],
   "source": [
    "dupli(df_image.columns, df_image)"
   ]
  },
  {
   "cell_type": "markdown",
   "id": "b0521f54",
   "metadata": {},
   "source": [
    "> there are duplicated value"
   ]
  },
  {
   "cell_type": "markdown",
   "id": "856c3b7e",
   "metadata": {},
   "source": [
    "- ***Tweet count***"
   ]
  },
  {
   "cell_type": "code",
   "execution_count": 166,
   "id": "993b779b",
   "metadata": {},
   "outputs": [
    {
     "name": "stdout",
     "output_type": "stream",
     "text": [
      "<class 'pandas.core.frame.DataFrame'>\n",
      "RangeIndex: 2354 entries, 0 to 2353\n",
      "Data columns (total 3 columns):\n",
      " #   Column          Non-Null Count  Dtype\n",
      "---  ------          --------------  -----\n",
      " 0   tweet_ID        2354 non-null   int64\n",
      " 1   retweet_count   2354 non-null   int64\n",
      " 2   favorite_count  2354 non-null   int64\n",
      "dtypes: int64(3)\n",
      "memory usage: 55.3 KB\n"
     ]
    }
   ],
   "source": [
    "twtcount.info()"
   ]
  },
  {
   "cell_type": "markdown",
   "id": "aaa17c9b",
   "metadata": {},
   "source": [
    "**checking for null values using the fuction created ealier**"
   ]
  },
  {
   "cell_type": "code",
   "execution_count": 167,
   "id": "59ea6acf",
   "metadata": {},
   "outputs": [
    {
     "name": "stdout",
     "output_type": "stream",
     "text": [
      "The sum of null value in tweet_ID  is: 0\n",
      "The sum of null value in retweet_count  is: 0\n",
      "The sum of null value in favorite_count  is: 0\n"
     ]
    }
   ],
   "source": [
    "isnull(twtcount.columns, twtcount)"
   ]
  },
  {
   "cell_type": "markdown",
   "id": "e8cadacb",
   "metadata": {},
   "source": [
    "> This implies that there are no null values"
   ]
  },
  {
   "cell_type": "markdown",
   "id": "67f2fba2",
   "metadata": {},
   "source": [
    "**checking for pulicate values using the fuction created ealier**"
   ]
  },
  {
   "cell_type": "code",
   "execution_count": 168,
   "id": "86a9ec8b",
   "metadata": {
    "scrolled": true
   },
   "outputs": [
    {
     "name": "stdout",
     "output_type": "stream",
     "text": [
      "The sum of duplicated value in tweet_ID  is: 0\n",
      "The sum of duplicated value in retweet_count  is: 630\n",
      "The sum of duplicated value in favorite_count  is: 347\n"
     ]
    }
   ],
   "source": [
    "dupli(twtcount.columns, twtcount)"
   ]
  },
  {
   "cell_type": "markdown",
   "id": "7df8a49d",
   "metadata": {},
   "source": [
    "### Quality\n",
    "\n",
    "##### twitter achive table\n",
    "\n",
    "- tweet_id should be in string\n",
    "- the columns retweeted_status_id, retweeted_status_user_id, retweeted_status_timestamp are all null values without duplicates, remove columns having retweet_id as we need only only original rating not retweets\n",
    "- data issue rating denominator having 00 change to 0\n",
    "- rating_denominator should be in int format as it is a rating number rather than strings\n",
    "- rating_numerator should be in int format as it is a rating number rather than strings\n",
    "- unneccesery html tags in the source column\n",
    "- rating_numerator column has values less than 10 as well as some very large numbers\n",
    "- rating_denominator column has values other than 10\n",
    "- remove index 8 row as it has so many missing values\n",
    "- Remove rows of tweets who tweet beyond august 1st, 2017\n",
    "- remove the rows of tweet_ids that retweeted since retweets are essentially duplicates of the actual tweets and so they may skew the result of your analysis \n",
    "- observed error values in the rating column\n",
    "\n",
    "#### Tidyness\n",
    "\n",
    "##### twitter achive table\n",
    "- The doggo, pupper, poppo, and floofer columns should form a single colums called dog stage\n",
    "- The name and dog stage can be extracted from the text column\n",
    "- convert timestamp to datetime column\n",
    "- Remove tweets beyond august 1st, 2017 in order to be able to merge successful with image_id as there are no augorithm result for date beyond august 1st, 2017. \n",
    "\n",
    "##### images\n",
    "\n",
    "\n",
    "##### twtcount\n",
    "- tweet_ID should be renamed to tweet_id to conform with the two tables\n",
    "- twtcount and df should be joined together and then joined with image data"
   ]
  },
  {
   "cell_type": "markdown",
   "id": "d77dd367",
   "metadata": {},
   "source": [
    "## Cleaning"
   ]
  },
  {
   "cell_type": "markdown",
   "id": "ab95db4b",
   "metadata": {},
   "source": [
    "### Missing Data\n",
    "\n",
    "- ***Twitter achive data***"
   ]
  },
  {
   "cell_type": "markdown",
   "id": "35886c75",
   "metadata": {},
   "source": [
    "**Making a copy of df on which the cleaning tasks will be performed**"
   ]
  },
  {
   "cell_type": "code",
   "execution_count": 169,
   "id": "c92624b5",
   "metadata": {},
   "outputs": [],
   "source": [
    "df_clean = df.copy()\n",
    "df_image_clean = df_image.copy()\n",
    "twtcount_clean = twtcount.copy()"
   ]
  },
  {
   "cell_type": "markdown",
   "id": "e792f32c",
   "metadata": {},
   "source": [
    "### case 1\n",
    "##### Define\n",
    "- remove index 8 row as it has so many missing values with tweet_id 89060925:51 +0000"
   ]
  },
  {
   "cell_type": "markdown",
   "id": "3f1823c7",
   "metadata": {},
   "source": [
    "##### Code"
   ]
  },
  {
   "cell_type": "code",
   "execution_count": 170,
   "id": "e04fe8e4",
   "metadata": {},
   "outputs": [],
   "source": [
    "# Dropping the index 8 and assigning the new dataframe to df_clean\n",
    "df_clean = df_clean.drop(df_clean.index[8])"
   ]
  },
  {
   "cell_type": "markdown",
   "id": "b54a788b",
   "metadata": {},
   "source": [
    "##### Test"
   ]
  },
  {
   "cell_type": "code",
   "execution_count": 171,
   "id": "ffa427b5",
   "metadata": {},
   "outputs": [
    {
     "data": {
      "text/html": [
       "<div>\n",
       "<style scoped>\n",
       "    .dataframe tbody tr th:only-of-type {\n",
       "        vertical-align: middle;\n",
       "    }\n",
       "\n",
       "    .dataframe tbody tr th {\n",
       "        vertical-align: top;\n",
       "    }\n",
       "\n",
       "    .dataframe thead th {\n",
       "        text-align: right;\n",
       "    }\n",
       "</style>\n",
       "<table border=\"1\" class=\"dataframe\">\n",
       "  <thead>\n",
       "    <tr style=\"text-align: right;\">\n",
       "      <th></th>\n",
       "      <th>/tweet_id</th>\n",
       "      <th>in_reply_to_status_id</th>\n",
       "      <th>in_reply_to_user_id</th>\n",
       "      <th>timestamp</th>\n",
       "      <th>source</th>\n",
       "      <th>text</th>\n",
       "      <th>retweeted_status_id</th>\n",
       "      <th>retweeted_status_user_id</th>\n",
       "      <th>retweeted_status_timestamp</th>\n",
       "      <th>expanded_urls</th>\n",
       "      <th>rating_numerator</th>\n",
       "      <th>rating_denominator</th>\n",
       "      <th>name</th>\n",
       "      <th>doggo</th>\n",
       "      <th>floofer</th>\n",
       "      <th>pupper</th>\n",
       "      <th>puppo</th>\n",
       "    </tr>\n",
       "  </thead>\n",
       "  <tbody>\n",
       "    <tr>\n",
       "      <th>0</th>\n",
       "      <td>892420643555336193</td>\n",
       "      <td>NaN</td>\n",
       "      <td>NaN</td>\n",
       "      <td>2017-08-01 16:23:56 +0000</td>\n",
       "      <td>&lt;a href=\"http://twitter.com/download/iphone\" r...</td>\n",
       "      <td>This is Phineas. He's a mystical boy. Only eve...</td>\n",
       "      <td>NaN</td>\n",
       "      <td>NaN</td>\n",
       "      <td>NaN</td>\n",
       "      <td>https://twitter.com/dog_rates/status/892420643...</td>\n",
       "      <td>13</td>\n",
       "      <td>10</td>\n",
       "      <td>Phineas</td>\n",
       "      <td>None</td>\n",
       "      <td>None</td>\n",
       "      <td>None</td>\n",
       "      <td>None</td>\n",
       "    </tr>\n",
       "    <tr>\n",
       "      <th>1</th>\n",
       "      <td>892177421306343426</td>\n",
       "      <td>NaN</td>\n",
       "      <td>NaN</td>\n",
       "      <td>2017-08-01 00:17:27 +0000</td>\n",
       "      <td>&lt;a href=\"http://twitter.com/download/iphone\" r...</td>\n",
       "      <td>This is Tilly. She's just checking pup on you....</td>\n",
       "      <td>NaN</td>\n",
       "      <td>NaN</td>\n",
       "      <td>NaN</td>\n",
       "      <td>https://twitter.com/dog_rates/status/892177421...</td>\n",
       "      <td>13</td>\n",
       "      <td>10</td>\n",
       "      <td>Tilly</td>\n",
       "      <td>None</td>\n",
       "      <td>None</td>\n",
       "      <td>None</td>\n",
       "      <td>None</td>\n",
       "    </tr>\n",
       "    <tr>\n",
       "      <th>2</th>\n",
       "      <td>891815181378084864</td>\n",
       "      <td>NaN</td>\n",
       "      <td>NaN</td>\n",
       "      <td>2017-07-31 00:18:03 +0000</td>\n",
       "      <td>&lt;a href=\"http://twitter.com/download/iphone\" r...</td>\n",
       "      <td>This is Archie. He is a rare Norwegian Pouncin...</td>\n",
       "      <td>NaN</td>\n",
       "      <td>NaN</td>\n",
       "      <td>NaN</td>\n",
       "      <td>https://twitter.com/dog_rates/status/891815181...</td>\n",
       "      <td>12</td>\n",
       "      <td>10</td>\n",
       "      <td>Archie</td>\n",
       "      <td>None</td>\n",
       "      <td>None</td>\n",
       "      <td>None</td>\n",
       "      <td>None</td>\n",
       "    </tr>\n",
       "    <tr>\n",
       "      <th>3</th>\n",
       "      <td>891689557279858688</td>\n",
       "      <td>NaN</td>\n",
       "      <td>NaN</td>\n",
       "      <td>2017-07-30 15:58:51 +0000</td>\n",
       "      <td>&lt;a href=\"http://twitter.com/download/iphone\" r...</td>\n",
       "      <td>This is Darla. She commenced a snooze mid meal...</td>\n",
       "      <td>NaN</td>\n",
       "      <td>NaN</td>\n",
       "      <td>NaN</td>\n",
       "      <td>https://twitter.com/dog_rates/status/891689557...</td>\n",
       "      <td>13</td>\n",
       "      <td>10</td>\n",
       "      <td>Darla</td>\n",
       "      <td>None</td>\n",
       "      <td>None</td>\n",
       "      <td>None</td>\n",
       "      <td>None</td>\n",
       "    </tr>\n",
       "    <tr>\n",
       "      <th>4</th>\n",
       "      <td>891327558926688256</td>\n",
       "      <td>NaN</td>\n",
       "      <td>NaN</td>\n",
       "      <td>2017-07-29 16:00:24 +0000</td>\n",
       "      <td>&lt;a href=\"http://twitter.com/download/iphone\" r...</td>\n",
       "      <td>This is Franklin. He would like you to stop ca...</td>\n",
       "      <td>NaN</td>\n",
       "      <td>NaN</td>\n",
       "      <td>NaN</td>\n",
       "      <td>https://twitter.com/dog_rates/status/891327558...</td>\n",
       "      <td>12</td>\n",
       "      <td>10</td>\n",
       "      <td>Franklin</td>\n",
       "      <td>None</td>\n",
       "      <td>None</td>\n",
       "      <td>None</td>\n",
       "      <td>None</td>\n",
       "    </tr>\n",
       "    <tr>\n",
       "      <th>5</th>\n",
       "      <td>891087950875897856</td>\n",
       "      <td>NaN</td>\n",
       "      <td>NaN</td>\n",
       "      <td>2017-07-29 00:08:17 +0000</td>\n",
       "      <td>&lt;a href=\"http://twitter.com/download/iphone\" r...</td>\n",
       "      <td>Here we have a majestic great white breaching ...</td>\n",
       "      <td>NaN</td>\n",
       "      <td>NaN</td>\n",
       "      <td>NaN</td>\n",
       "      <td>https://twitter.com/dog_rates/status/891087950...</td>\n",
       "      <td>13</td>\n",
       "      <td>10</td>\n",
       "      <td>None</td>\n",
       "      <td>None</td>\n",
       "      <td>None</td>\n",
       "      <td>None</td>\n",
       "      <td>None</td>\n",
       "    </tr>\n",
       "    <tr>\n",
       "      <th>6</th>\n",
       "      <td>890971913173991426</td>\n",
       "      <td>NaN</td>\n",
       "      <td>NaN</td>\n",
       "      <td>2017-07-28 16:27:12 +0000</td>\n",
       "      <td>&lt;a href=\"http://twitter.com/download/iphone\" r...</td>\n",
       "      <td>Meet Jax. He enjoys ice cream so much he gets ...</td>\n",
       "      <td>NaN</td>\n",
       "      <td>NaN</td>\n",
       "      <td>NaN</td>\n",
       "      <td>https://gofundme.com/ydvmve-surgery-for-jax,ht...</td>\n",
       "      <td>13</td>\n",
       "      <td>10</td>\n",
       "      <td>Jax</td>\n",
       "      <td>None</td>\n",
       "      <td>None</td>\n",
       "      <td>None</td>\n",
       "      <td>None</td>\n",
       "    </tr>\n",
       "    <tr>\n",
       "      <th>7</th>\n",
       "      <td>890729181411237888</td>\n",
       "      <td>NaN</td>\n",
       "      <td>NaN</td>\n",
       "      <td>2017-07-28 00:22:40 +0000</td>\n",
       "      <td>&lt;a href=\"http://twitter.com/download/iphone\" r...</td>\n",
       "      <td>When you watch your owner call another dog a g...</td>\n",
       "      <td>NaN</td>\n",
       "      <td>NaN</td>\n",
       "      <td>NaN</td>\n",
       "      <td>https://twitter.com/dog_rates/status/890729181...</td>\n",
       "      <td>13</td>\n",
       "      <td>10</td>\n",
       "      <td>None</td>\n",
       "      <td>None</td>\n",
       "      <td>None</td>\n",
       "      <td>None</td>\n",
       "      <td>None</td>\n",
       "    </tr>\n",
       "    <tr>\n",
       "      <th>9</th>\n",
       "      <td>890240255349198849</td>\n",
       "      <td>NaN</td>\n",
       "      <td>NaN</td>\n",
       "      <td>2017-07-26 15:59:51 +0000</td>\n",
       "      <td>&lt;a href=\"http://twitter.com/download/iphone\" r...</td>\n",
       "      <td>This is Cassie. She is a college pup. Studying...</td>\n",
       "      <td>NaN</td>\n",
       "      <td>NaN</td>\n",
       "      <td>NaN</td>\n",
       "      <td>https://twitter.com/dog_rates/status/890240255...</td>\n",
       "      <td>14</td>\n",
       "      <td>10</td>\n",
       "      <td>Cassie</td>\n",
       "      <td>doggo</td>\n",
       "      <td>None</td>\n",
       "      <td>None</td>\n",
       "      <td>None</td>\n",
       "    </tr>\n",
       "    <tr>\n",
       "      <th>10</th>\n",
       "      <td>890006608113172480</td>\n",
       "      <td>NaN</td>\n",
       "      <td>NaN</td>\n",
       "      <td>2017-07-26 00:31:25 +0000</td>\n",
       "      <td>&lt;a href=\"http://twitter.com/download/iphone\" r...</td>\n",
       "      <td>This is Koda. He is a South Australian decksha...</td>\n",
       "      <td>NaN</td>\n",
       "      <td>NaN</td>\n",
       "      <td>NaN</td>\n",
       "      <td>https://twitter.com/dog_rates/status/890006608...</td>\n",
       "      <td>13</td>\n",
       "      <td>10</td>\n",
       "      <td>Koda</td>\n",
       "      <td>None</td>\n",
       "      <td>None</td>\n",
       "      <td>None</td>\n",
       "      <td>None</td>\n",
       "    </tr>\n",
       "  </tbody>\n",
       "</table>\n",
       "</div>"
      ],
      "text/plain": [
       "             /tweet_id in_reply_to_status_id in_reply_to_user_id  \\\n",
       "0   892420643555336193                   NaN                 NaN   \n",
       "1   892177421306343426                   NaN                 NaN   \n",
       "2   891815181378084864                   NaN                 NaN   \n",
       "3   891689557279858688                   NaN                 NaN   \n",
       "4   891327558926688256                   NaN                 NaN   \n",
       "5   891087950875897856                   NaN                 NaN   \n",
       "6   890971913173991426                   NaN                 NaN   \n",
       "7   890729181411237888                   NaN                 NaN   \n",
       "9   890240255349198849                   NaN                 NaN   \n",
       "10  890006608113172480                   NaN                 NaN   \n",
       "\n",
       "                    timestamp  \\\n",
       "0   2017-08-01 16:23:56 +0000   \n",
       "1   2017-08-01 00:17:27 +0000   \n",
       "2   2017-07-31 00:18:03 +0000   \n",
       "3   2017-07-30 15:58:51 +0000   \n",
       "4   2017-07-29 16:00:24 +0000   \n",
       "5   2017-07-29 00:08:17 +0000   \n",
       "6   2017-07-28 16:27:12 +0000   \n",
       "7   2017-07-28 00:22:40 +0000   \n",
       "9   2017-07-26 15:59:51 +0000   \n",
       "10  2017-07-26 00:31:25 +0000   \n",
       "\n",
       "                                               source  \\\n",
       "0   <a href=\"http://twitter.com/download/iphone\" r...   \n",
       "1   <a href=\"http://twitter.com/download/iphone\" r...   \n",
       "2   <a href=\"http://twitter.com/download/iphone\" r...   \n",
       "3   <a href=\"http://twitter.com/download/iphone\" r...   \n",
       "4   <a href=\"http://twitter.com/download/iphone\" r...   \n",
       "5   <a href=\"http://twitter.com/download/iphone\" r...   \n",
       "6   <a href=\"http://twitter.com/download/iphone\" r...   \n",
       "7   <a href=\"http://twitter.com/download/iphone\" r...   \n",
       "9   <a href=\"http://twitter.com/download/iphone\" r...   \n",
       "10  <a href=\"http://twitter.com/download/iphone\" r...   \n",
       "\n",
       "                                                 text retweeted_status_id  \\\n",
       "0   This is Phineas. He's a mystical boy. Only eve...                 NaN   \n",
       "1   This is Tilly. She's just checking pup on you....                 NaN   \n",
       "2   This is Archie. He is a rare Norwegian Pouncin...                 NaN   \n",
       "3   This is Darla. She commenced a snooze mid meal...                 NaN   \n",
       "4   This is Franklin. He would like you to stop ca...                 NaN   \n",
       "5   Here we have a majestic great white breaching ...                 NaN   \n",
       "6   Meet Jax. He enjoys ice cream so much he gets ...                 NaN   \n",
       "7   When you watch your owner call another dog a g...                 NaN   \n",
       "9   This is Cassie. She is a college pup. Studying...                 NaN   \n",
       "10  This is Koda. He is a South Australian decksha...                 NaN   \n",
       "\n",
       "    retweeted_status_user_id retweeted_status_timestamp  \\\n",
       "0                        NaN                        NaN   \n",
       "1                        NaN                        NaN   \n",
       "2                        NaN                        NaN   \n",
       "3                        NaN                        NaN   \n",
       "4                        NaN                        NaN   \n",
       "5                        NaN                        NaN   \n",
       "6                        NaN                        NaN   \n",
       "7                        NaN                        NaN   \n",
       "9                        NaN                        NaN   \n",
       "10                       NaN                        NaN   \n",
       "\n",
       "                                        expanded_urls rating_numerator  \\\n",
       "0   https://twitter.com/dog_rates/status/892420643...               13   \n",
       "1   https://twitter.com/dog_rates/status/892177421...               13   \n",
       "2   https://twitter.com/dog_rates/status/891815181...               12   \n",
       "3   https://twitter.com/dog_rates/status/891689557...               13   \n",
       "4   https://twitter.com/dog_rates/status/891327558...               12   \n",
       "5   https://twitter.com/dog_rates/status/891087950...               13   \n",
       "6   https://gofundme.com/ydvmve-surgery-for-jax,ht...               13   \n",
       "7   https://twitter.com/dog_rates/status/890729181...               13   \n",
       "9   https://twitter.com/dog_rates/status/890240255...               14   \n",
       "10  https://twitter.com/dog_rates/status/890006608...               13   \n",
       "\n",
       "   rating_denominator      name  doggo floofer pupper puppo  \n",
       "0                  10   Phineas   None    None   None  None  \n",
       "1                  10     Tilly   None    None   None  None  \n",
       "2                  10    Archie   None    None   None  None  \n",
       "3                  10     Darla   None    None   None  None  \n",
       "4                  10  Franklin   None    None   None  None  \n",
       "5                  10      None   None    None   None  None  \n",
       "6                  10       Jax   None    None   None  None  \n",
       "7                  10      None   None    None   None  None  \n",
       "9                  10    Cassie  doggo    None   None  None  \n",
       "10                 10      Koda   None    None   None  None  "
      ]
     },
     "execution_count": 171,
     "metadata": {},
     "output_type": "execute_result"
    }
   ],
   "source": [
    "# Checking the head to see if the index 8 has been removed\n",
    "df_clean.head(10)"
   ]
  },
  {
   "cell_type": "markdown",
   "id": "1fd9baa0",
   "metadata": {},
   "source": [
    "> From the result above the index 8 has been removed"
   ]
  },
  {
   "cell_type": "code",
   "execution_count": 172,
   "id": "ae291ade",
   "metadata": {},
   "outputs": [
    {
     "name": "stdout",
     "output_type": "stream",
     "text": [
      "The sum of null value in /tweet_id  is: 0\n",
      "The sum of null value in in_reply_to_status_id  is: 2277\n",
      "The sum of null value in in_reply_to_user_id  is: 2277\n",
      "The sum of null value in timestamp  is: 0\n",
      "The sum of null value in source  is: 0\n",
      "The sum of null value in text  is: 0\n",
      "The sum of null value in retweeted_status_id  is: 2174\n",
      "The sum of null value in retweeted_status_user_id  is: 2174\n",
      "The sum of null value in retweeted_status_timestamp  is: 2174\n",
      "The sum of null value in expanded_urls  is: 59\n",
      "The sum of null value in rating_numerator  is: 0\n",
      "The sum of null value in rating_denominator  is: 0\n",
      "The sum of null value in name  is: 0\n",
      "The sum of null value in doggo  is: 0\n",
      "The sum of null value in floofer  is: 0\n",
      "The sum of null value in pupper  is: 0\n",
      "The sum of null value in puppo  is: 0\n"
     ]
    }
   ],
   "source": [
    "# checking the null values again\n",
    "isnull(df_clean.columns, df_clean)"
   ]
  },
  {
   "cell_type": "markdown",
   "id": "82cde113",
   "metadata": {},
   "source": [
    "### case 2\n",
    "##### Define\n",
    "- remove the rows of tweet_ids that retweeted since retweets are essentially duplicates of the actual tweets and so they may skew the result of your analysis \n",
    "- the columns retweeted_status_id, retweeted_status_user_id, retweeted_status_timestamp are mostly null values without duplicates, remove columns having retweet_id as we need only only original rating not retweets\n",
    "- remove in_reply_to_status colums because they are insignificant here and have a lot of null values"
   ]
  },
  {
   "cell_type": "markdown",
   "id": "e342a3a9",
   "metadata": {},
   "source": [
    "##### Code"
   ]
  },
  {
   "cell_type": "code",
   "execution_count": 173,
   "id": "9c19d279",
   "metadata": {},
   "outputs": [],
   "source": [
    "# creating a list of the columns to drop\n",
    "del_column = ['in_reply_to_status_id', 'in_reply_to_user_id', 'retweeted_status_id','retweeted_status_timestamp', \n",
    "              'retweeted_status_id', 'retweeted_status_user_id']\n",
    "\n",
    "# using the retweeted_status_id since they have the three columns have the same number of null values\n",
    "index = df_clean[df_clean['retweeted_status_id'].isnull() == False].index\n",
    "\n",
    "#Dropping the rows using the index and the axis argument\n",
    "df_clean= df_clean.drop(index, axis=0)\n",
    "#Dropping the columns \n",
    "df_clean= df_clean.drop(del_column, axis=1)"
   ]
  },
  {
   "cell_type": "markdown",
   "id": "3e7a27ce",
   "metadata": {},
   "source": [
    "##### Test"
   ]
  },
  {
   "cell_type": "code",
   "execution_count": 174,
   "id": "7387f21c",
   "metadata": {},
   "outputs": [
    {
     "data": {
      "text/html": [
       "<div>\n",
       "<style scoped>\n",
       "    .dataframe tbody tr th:only-of-type {\n",
       "        vertical-align: middle;\n",
       "    }\n",
       "\n",
       "    .dataframe tbody tr th {\n",
       "        vertical-align: top;\n",
       "    }\n",
       "\n",
       "    .dataframe thead th {\n",
       "        text-align: right;\n",
       "    }\n",
       "</style>\n",
       "<table border=\"1\" class=\"dataframe\">\n",
       "  <thead>\n",
       "    <tr style=\"text-align: right;\">\n",
       "      <th></th>\n",
       "      <th>/tweet_id</th>\n",
       "      <th>timestamp</th>\n",
       "      <th>source</th>\n",
       "      <th>text</th>\n",
       "      <th>expanded_urls</th>\n",
       "      <th>rating_numerator</th>\n",
       "      <th>rating_denominator</th>\n",
       "      <th>name</th>\n",
       "      <th>doggo</th>\n",
       "      <th>floofer</th>\n",
       "      <th>pupper</th>\n",
       "      <th>puppo</th>\n",
       "    </tr>\n",
       "  </thead>\n",
       "  <tbody>\n",
       "    <tr>\n",
       "      <th>0</th>\n",
       "      <td>892420643555336193</td>\n",
       "      <td>2017-08-01 16:23:56 +0000</td>\n",
       "      <td>&lt;a href=\"http://twitter.com/download/iphone\" r...</td>\n",
       "      <td>This is Phineas. He's a mystical boy. Only eve...</td>\n",
       "      <td>https://twitter.com/dog_rates/status/892420643...</td>\n",
       "      <td>13</td>\n",
       "      <td>10</td>\n",
       "      <td>Phineas</td>\n",
       "      <td>None</td>\n",
       "      <td>None</td>\n",
       "      <td>None</td>\n",
       "      <td>None</td>\n",
       "    </tr>\n",
       "    <tr>\n",
       "      <th>1</th>\n",
       "      <td>892177421306343426</td>\n",
       "      <td>2017-08-01 00:17:27 +0000</td>\n",
       "      <td>&lt;a href=\"http://twitter.com/download/iphone\" r...</td>\n",
       "      <td>This is Tilly. She's just checking pup on you....</td>\n",
       "      <td>https://twitter.com/dog_rates/status/892177421...</td>\n",
       "      <td>13</td>\n",
       "      <td>10</td>\n",
       "      <td>Tilly</td>\n",
       "      <td>None</td>\n",
       "      <td>None</td>\n",
       "      <td>None</td>\n",
       "      <td>None</td>\n",
       "    </tr>\n",
       "  </tbody>\n",
       "</table>\n",
       "</div>"
      ],
      "text/plain": [
       "            /tweet_id                  timestamp  \\\n",
       "0  892420643555336193  2017-08-01 16:23:56 +0000   \n",
       "1  892177421306343426  2017-08-01 00:17:27 +0000   \n",
       "\n",
       "                                              source  \\\n",
       "0  <a href=\"http://twitter.com/download/iphone\" r...   \n",
       "1  <a href=\"http://twitter.com/download/iphone\" r...   \n",
       "\n",
       "                                                text  \\\n",
       "0  This is Phineas. He's a mystical boy. Only eve...   \n",
       "1  This is Tilly. She's just checking pup on you....   \n",
       "\n",
       "                                       expanded_urls rating_numerator  \\\n",
       "0  https://twitter.com/dog_rates/status/892420643...               13   \n",
       "1  https://twitter.com/dog_rates/status/892177421...               13   \n",
       "\n",
       "  rating_denominator     name doggo floofer pupper puppo  \n",
       "0                 10  Phineas  None    None   None  None  \n",
       "1                 10    Tilly  None    None   None  None  "
      ]
     },
     "execution_count": 174,
     "metadata": {},
     "output_type": "execute_result"
    }
   ],
   "source": [
    "#checking the first two rows to see if it has been removed\n",
    "df_clean.head(2)"
   ]
  },
  {
   "cell_type": "markdown",
   "id": "0d80c8a5",
   "metadata": {},
   "source": [
    "> the columns have been successfully deleted and the rows has successfully be deleted"
   ]
  },
  {
   "cell_type": "code",
   "execution_count": 175,
   "id": "a5df1620",
   "metadata": {},
   "outputs": [
    {
     "name": "stdout",
     "output_type": "stream",
     "text": [
      "The sum of null value in /tweet_id  is: 0\n",
      "The sum of null value in timestamp  is: 0\n",
      "The sum of null value in source  is: 0\n",
      "The sum of null value in text  is: 0\n",
      "The sum of null value in expanded_urls  is: 58\n",
      "The sum of null value in rating_numerator  is: 0\n",
      "The sum of null value in rating_denominator  is: 0\n",
      "The sum of null value in name  is: 0\n",
      "The sum of null value in doggo  is: 0\n",
      "The sum of null value in floofer  is: 0\n",
      "The sum of null value in pupper  is: 0\n",
      "The sum of null value in puppo  is: 0\n"
     ]
    }
   ],
   "source": [
    "# checking the null values again\n",
    "isnull(df_clean.columns, df_clean)"
   ]
  },
  {
   "cell_type": "markdown",
   "id": "7b69ceb1",
   "metadata": {},
   "source": [
    "> the expanded_url colum is the only column remaning having null values"
   ]
  },
  {
   "cell_type": "markdown",
   "id": "1be5b218",
   "metadata": {},
   "source": [
    "### case 3 \n",
    "##### Define\n",
    "- Removing expanded_urls column as it appears that majority of the tweets having expanded_urls as null are reply to a main tweet which can serve as a duplicate"
   ]
  },
  {
   "cell_type": "markdown",
   "id": "a9cca541",
   "metadata": {},
   "source": [
    "##### Code"
   ]
  },
  {
   "cell_type": "code",
   "execution_count": 176,
   "id": "21cd7a29",
   "metadata": {},
   "outputs": [],
   "source": [
    "#removing the expanded_url column \n",
    "df_clean= df_clean.drop('expanded_urls', axis=1)"
   ]
  },
  {
   "cell_type": "markdown",
   "id": "097d12b2",
   "metadata": {},
   "source": [
    "##### Test"
   ]
  },
  {
   "cell_type": "code",
   "execution_count": 177,
   "id": "d0065747",
   "metadata": {},
   "outputs": [
    {
     "data": {
      "text/html": [
       "<div>\n",
       "<style scoped>\n",
       "    .dataframe tbody tr th:only-of-type {\n",
       "        vertical-align: middle;\n",
       "    }\n",
       "\n",
       "    .dataframe tbody tr th {\n",
       "        vertical-align: top;\n",
       "    }\n",
       "\n",
       "    .dataframe thead th {\n",
       "        text-align: right;\n",
       "    }\n",
       "</style>\n",
       "<table border=\"1\" class=\"dataframe\">\n",
       "  <thead>\n",
       "    <tr style=\"text-align: right;\">\n",
       "      <th></th>\n",
       "      <th>/tweet_id</th>\n",
       "      <th>timestamp</th>\n",
       "      <th>source</th>\n",
       "      <th>text</th>\n",
       "      <th>rating_numerator</th>\n",
       "      <th>rating_denominator</th>\n",
       "      <th>name</th>\n",
       "      <th>doggo</th>\n",
       "      <th>floofer</th>\n",
       "      <th>pupper</th>\n",
       "      <th>puppo</th>\n",
       "    </tr>\n",
       "  </thead>\n",
       "  <tbody>\n",
       "    <tr>\n",
       "      <th>0</th>\n",
       "      <td>892420643555336193</td>\n",
       "      <td>2017-08-01 16:23:56 +0000</td>\n",
       "      <td>&lt;a href=\"http://twitter.com/download/iphone\" r...</td>\n",
       "      <td>This is Phineas. He's a mystical boy. Only eve...</td>\n",
       "      <td>13</td>\n",
       "      <td>10</td>\n",
       "      <td>Phineas</td>\n",
       "      <td>None</td>\n",
       "      <td>None</td>\n",
       "      <td>None</td>\n",
       "      <td>None</td>\n",
       "    </tr>\n",
       "    <tr>\n",
       "      <th>1</th>\n",
       "      <td>892177421306343426</td>\n",
       "      <td>2017-08-01 00:17:27 +0000</td>\n",
       "      <td>&lt;a href=\"http://twitter.com/download/iphone\" r...</td>\n",
       "      <td>This is Tilly. She's just checking pup on you....</td>\n",
       "      <td>13</td>\n",
       "      <td>10</td>\n",
       "      <td>Tilly</td>\n",
       "      <td>None</td>\n",
       "      <td>None</td>\n",
       "      <td>None</td>\n",
       "      <td>None</td>\n",
       "    </tr>\n",
       "  </tbody>\n",
       "</table>\n",
       "</div>"
      ],
      "text/plain": [
       "            /tweet_id                  timestamp  \\\n",
       "0  892420643555336193  2017-08-01 16:23:56 +0000   \n",
       "1  892177421306343426  2017-08-01 00:17:27 +0000   \n",
       "\n",
       "                                              source  \\\n",
       "0  <a href=\"http://twitter.com/download/iphone\" r...   \n",
       "1  <a href=\"http://twitter.com/download/iphone\" r...   \n",
       "\n",
       "                                                text rating_numerator  \\\n",
       "0  This is Phineas. He's a mystical boy. Only eve...               13   \n",
       "1  This is Tilly. She's just checking pup on you....               13   \n",
       "\n",
       "  rating_denominator     name doggo floofer pupper puppo  \n",
       "0                 10  Phineas  None    None   None  None  \n",
       "1                 10    Tilly  None    None   None  None  "
      ]
     },
     "execution_count": 177,
     "metadata": {},
     "output_type": "execute_result"
    }
   ],
   "source": [
    "df_clean.head(2)"
   ]
  },
  {
   "cell_type": "code",
   "execution_count": 178,
   "id": "61f931cc",
   "metadata": {},
   "outputs": [
    {
     "data": {
      "text/plain": [
       "/tweet_id             False\n",
       "timestamp             False\n",
       "source                False\n",
       "text                  False\n",
       "rating_numerator      False\n",
       "rating_denominator    False\n",
       "name                  False\n",
       "doggo                 False\n",
       "floofer               False\n",
       "pupper                False\n",
       "puppo                 False\n",
       "dtype: bool"
      ]
     },
     "execution_count": 178,
     "metadata": {},
     "output_type": "execute_result"
    }
   ],
   "source": [
    "# checking for any null value\n",
    "df_clean.isnull().any()"
   ]
  },
  {
   "cell_type": "markdown",
   "id": "64a5ee2d",
   "metadata": {},
   "source": [
    "> So the issue with missing value on the achive data has been solved and there are no issue with missing value with the other data's"
   ]
  },
  {
   "cell_type": "markdown",
   "id": "aef952e1",
   "metadata": {},
   "source": [
    "### Tidiness"
   ]
  },
  {
   "cell_type": "markdown",
   "id": "1c52bf06",
   "metadata": {},
   "source": [
    "### case 1\n",
    "##### Define\n",
    "- The doggo, pupper, poppo, and floofer columns should form a single colums called dog stage"
   ]
  },
  {
   "cell_type": "markdown",
   "id": "c31a659a",
   "metadata": {},
   "source": [
    "##### code"
   ]
  },
  {
   "cell_type": "code",
   "execution_count": 179,
   "id": "6f420536",
   "metadata": {},
   "outputs": [],
   "source": [
    "# replace all NaN and 'None' dog_stage to an empty string\n",
    "df_clean.doggo.replace('None', '', inplace=True)\n",
    "df_clean.floofer.replace('None', '', inplace=True)\n",
    "df_clean.pupper.replace('None', '', inplace=True)\n",
    "df_clean.puppo.replace('None', '', inplace=True)"
   ]
  },
  {
   "cell_type": "code",
   "execution_count": 180,
   "id": "7ca08a21",
   "metadata": {},
   "outputs": [
    {
     "data": {
      "text/html": [
       "<div>\n",
       "<style scoped>\n",
       "    .dataframe tbody tr th:only-of-type {\n",
       "        vertical-align: middle;\n",
       "    }\n",
       "\n",
       "    .dataframe tbody tr th {\n",
       "        vertical-align: top;\n",
       "    }\n",
       "\n",
       "    .dataframe thead th {\n",
       "        text-align: right;\n",
       "    }\n",
       "</style>\n",
       "<table border=\"1\" class=\"dataframe\">\n",
       "  <thead>\n",
       "    <tr style=\"text-align: right;\">\n",
       "      <th></th>\n",
       "      <th>doggo</th>\n",
       "      <th>floofer</th>\n",
       "      <th>pupper</th>\n",
       "      <th>puppo</th>\n",
       "      <th>count</th>\n",
       "    </tr>\n",
       "  </thead>\n",
       "  <tbody>\n",
       "    <tr>\n",
       "      <th>0</th>\n",
       "      <td></td>\n",
       "      <td></td>\n",
       "      <td></td>\n",
       "      <td></td>\n",
       "      <td>1830</td>\n",
       "    </tr>\n",
       "    <tr>\n",
       "      <th>1</th>\n",
       "      <td></td>\n",
       "      <td></td>\n",
       "      <td></td>\n",
       "      <td>puppo</td>\n",
       "      <td>24</td>\n",
       "    </tr>\n",
       "    <tr>\n",
       "      <th>2</th>\n",
       "      <td></td>\n",
       "      <td></td>\n",
       "      <td>pupper</td>\n",
       "      <td></td>\n",
       "      <td>224</td>\n",
       "    </tr>\n",
       "    <tr>\n",
       "      <th>3</th>\n",
       "      <td></td>\n",
       "      <td>floofer</td>\n",
       "      <td></td>\n",
       "      <td></td>\n",
       "      <td>9</td>\n",
       "    </tr>\n",
       "    <tr>\n",
       "      <th>4</th>\n",
       "      <td>doggo</td>\n",
       "      <td></td>\n",
       "      <td></td>\n",
       "      <td></td>\n",
       "      <td>75</td>\n",
       "    </tr>\n",
       "    <tr>\n",
       "      <th>5</th>\n",
       "      <td>doggo</td>\n",
       "      <td></td>\n",
       "      <td></td>\n",
       "      <td>puppo</td>\n",
       "      <td>1</td>\n",
       "    </tr>\n",
       "    <tr>\n",
       "      <th>6</th>\n",
       "      <td>doggo</td>\n",
       "      <td></td>\n",
       "      <td>pupper</td>\n",
       "      <td></td>\n",
       "      <td>10</td>\n",
       "    </tr>\n",
       "    <tr>\n",
       "      <th>7</th>\n",
       "      <td>doggo</td>\n",
       "      <td>floofer</td>\n",
       "      <td></td>\n",
       "      <td></td>\n",
       "      <td>1</td>\n",
       "    </tr>\n",
       "  </tbody>\n",
       "</table>\n",
       "</div>"
      ],
      "text/plain": [
       "   doggo  floofer  pupper  puppo  count\n",
       "0                                  1830\n",
       "1                          puppo     24\n",
       "2                  pupper           224\n",
       "3         floofer                     9\n",
       "4  doggo                             75\n",
       "5  doggo                   puppo      1\n",
       "6  doggo           pupper            10\n",
       "7  doggo  floofer                     1"
      ]
     },
     "execution_count": 180,
     "metadata": {},
     "output_type": "execute_result"
    }
   ],
   "source": [
    "# group by dog_stage\n",
    "df_clean.groupby(['doggo', 'floofer', 'pupper', 'puppo']).size().reset_index().rename(columns={0: 'count'})"
   ]
  },
  {
   "cell_type": "code",
   "execution_count": 181,
   "id": "f8024d07",
   "metadata": {},
   "outputs": [],
   "source": [
    "# combine dog_stages into a single column\n",
    "df_clean['dog_stage'] = df_clean.doggo + df_clean.floofer + df_clean.pupper + df_clean.puppo\n",
    "\n",
    "# fix multiple stage rows\n",
    "df_clean.loc[df_clean.dog_stage == 'doggopupper', 'dog_stage'] = 'doggo, pupper'\n",
    "df_clean.loc[df_clean.dog_stage == 'doggopuppo', 'dog_stage'] = 'doggo, puppo'\n",
    "df_clean.loc[df_clean.dog_stage == 'doggofloofer', 'dog_stage'] = 'doggo, floofer'"
   ]
  },
  {
   "cell_type": "code",
   "execution_count": 182,
   "id": "00f7dbf3",
   "metadata": {},
   "outputs": [],
   "source": [
    "# drop previous dog stage columns\n",
    "df_clean.drop(['doggo', 'floofer', 'pupper', 'puppo'], axis=1, inplace=True)"
   ]
  },
  {
   "cell_type": "markdown",
   "id": "d43aa990",
   "metadata": {},
   "source": [
    "##### Test"
   ]
  },
  {
   "cell_type": "code",
   "execution_count": 183,
   "id": "9a7a6456",
   "metadata": {},
   "outputs": [
    {
     "data": {
      "text/html": [
       "<div>\n",
       "<style scoped>\n",
       "    .dataframe tbody tr th:only-of-type {\n",
       "        vertical-align: middle;\n",
       "    }\n",
       "\n",
       "    .dataframe tbody tr th {\n",
       "        vertical-align: top;\n",
       "    }\n",
       "\n",
       "    .dataframe thead th {\n",
       "        text-align: right;\n",
       "    }\n",
       "</style>\n",
       "<table border=\"1\" class=\"dataframe\">\n",
       "  <thead>\n",
       "    <tr style=\"text-align: right;\">\n",
       "      <th></th>\n",
       "      <th>/tweet_id</th>\n",
       "      <th>timestamp</th>\n",
       "      <th>source</th>\n",
       "      <th>text</th>\n",
       "      <th>rating_numerator</th>\n",
       "      <th>rating_denominator</th>\n",
       "      <th>name</th>\n",
       "      <th>dog_stage</th>\n",
       "    </tr>\n",
       "  </thead>\n",
       "  <tbody>\n",
       "    <tr>\n",
       "      <th>0</th>\n",
       "      <td>892420643555336193</td>\n",
       "      <td>2017-08-01 16:23:56 +0000</td>\n",
       "      <td>&lt;a href=\"http://twitter.com/download/iphone\" r...</td>\n",
       "      <td>This is Phineas. He's a mystical boy. Only eve...</td>\n",
       "      <td>13</td>\n",
       "      <td>10</td>\n",
       "      <td>Phineas</td>\n",
       "      <td></td>\n",
       "    </tr>\n",
       "    <tr>\n",
       "      <th>1</th>\n",
       "      <td>892177421306343426</td>\n",
       "      <td>2017-08-01 00:17:27 +0000</td>\n",
       "      <td>&lt;a href=\"http://twitter.com/download/iphone\" r...</td>\n",
       "      <td>This is Tilly. She's just checking pup on you....</td>\n",
       "      <td>13</td>\n",
       "      <td>10</td>\n",
       "      <td>Tilly</td>\n",
       "      <td></td>\n",
       "    </tr>\n",
       "  </tbody>\n",
       "</table>\n",
       "</div>"
      ],
      "text/plain": [
       "            /tweet_id                  timestamp  \\\n",
       "0  892420643555336193  2017-08-01 16:23:56 +0000   \n",
       "1  892177421306343426  2017-08-01 00:17:27 +0000   \n",
       "\n",
       "                                              source  \\\n",
       "0  <a href=\"http://twitter.com/download/iphone\" r...   \n",
       "1  <a href=\"http://twitter.com/download/iphone\" r...   \n",
       "\n",
       "                                                text rating_numerator  \\\n",
       "0  This is Phineas. He's a mystical boy. Only eve...               13   \n",
       "1  This is Tilly. She's just checking pup on you....               13   \n",
       "\n",
       "  rating_denominator     name dog_stage  \n",
       "0                 10  Phineas            \n",
       "1                 10    Tilly            "
      ]
     },
     "execution_count": 183,
     "metadata": {},
     "output_type": "execute_result"
    }
   ],
   "source": [
    "#printing the first two rows to confirm the new column\n",
    "df_clean.head(2)"
   ]
  },
  {
   "cell_type": "code",
   "execution_count": 184,
   "id": "0c5204a6",
   "metadata": {},
   "outputs": [
    {
     "data": {
      "text/plain": [
       "                  1830\n",
       "pupper             224\n",
       "doggo               75\n",
       "puppo               24\n",
       "doggo, pupper       10\n",
       "floofer              9\n",
       "doggo, floofer       1\n",
       "doggo, puppo         1\n",
       "Name: dog_stage, dtype: int64"
      ]
     },
     "execution_count": 184,
     "metadata": {},
     "output_type": "execute_result"
    }
   ],
   "source": [
    "#counting the numbers based on the category of dog_stage\n",
    "df_clean.dog_stage.value_counts()"
   ]
  },
  {
   "cell_type": "markdown",
   "id": "de320077",
   "metadata": {},
   "source": [
    "> From the result above we can find out that there are rows with two dog stage recorded"
   ]
  },
  {
   "cell_type": "markdown",
   "id": "c30318fb",
   "metadata": {},
   "source": [
    "### case 2\n",
    "##### Define\n",
    "- tweet_id should be in string"
   ]
  },
  {
   "cell_type": "markdown",
   "id": "2259f8e1",
   "metadata": {},
   "source": [
    "##### code"
   ]
  },
  {
   "cell_type": "code",
   "execution_count": 185,
   "id": "6ca8ffaa",
   "metadata": {},
   "outputs": [
    {
     "data": {
      "text/plain": [
       "Index(['/tweet_id', 'timestamp', 'source', 'text', 'rating_numerator',\n",
       "       'rating_denominator', 'name', 'dog_stage'],\n",
       "      dtype='object')"
      ]
     },
     "metadata": {},
     "output_type": "display_data"
    },
    {
     "data": {
      "text/plain": [
       "Index(['tweet_ID', 'retweet_count', 'favorite_count'], dtype='object')"
      ]
     },
     "metadata": {},
     "output_type": "display_data"
    },
    {
     "data": {
      "text/plain": [
       "Index(['tweet_id', 'jpg_url', 'img_num', 'p1', 'p1_conf', 'p1_dog', 'p2',\n",
       "       'p2_conf', 'p2_dog', 'p3', 'p3_conf', 'p3_dog'],\n",
       "      dtype='object')"
      ]
     },
     "metadata": {},
     "output_type": "display_data"
    }
   ],
   "source": [
    "#showing the columns so as to know where to merge on\n",
    "display(df_clean.columns)\n",
    "display(twtcount_clean.columns)\n",
    "display(df_image_clean.columns)"
   ]
  },
  {
   "cell_type": "code",
   "execution_count": 186,
   "id": "b875278f",
   "metadata": {},
   "outputs": [
    {
     "data": {
      "text/plain": [
       "0       666020888022790149\n",
       "1       666029285002620928\n",
       "2       666033412701032449\n",
       "3       666044226329800704\n",
       "4       666049248165822465\n",
       "               ...        \n",
       "2070    891327558926688256\n",
       "2071    891689557279858688\n",
       "2072    891815181378084864\n",
       "2073    892177421306343426\n",
       "2074    892420643555336193\n",
       "Name: tweet_id, Length: 2075, dtype: object"
      ]
     },
     "execution_count": 186,
     "metadata": {},
     "output_type": "execute_result"
    }
   ],
   "source": [
    "#creating a function that will convert string to integer datatype\n",
    "def strtoint(col, data):\n",
    "    data[col] =data[col].astype(str)\n",
    "    return data[col]\n",
    "    \n",
    "strtoint('tweet_ID', twtcount_clean)\n",
    "strtoint('tweet_id', df_image_clean)"
   ]
  },
  {
   "cell_type": "markdown",
   "id": "d5e2412a",
   "metadata": {},
   "source": [
    "##### code"
   ]
  },
  {
   "cell_type": "code",
   "execution_count": 187,
   "id": "232f295d",
   "metadata": {},
   "outputs": [
    {
     "name": "stdout",
     "output_type": "stream",
     "text": [
      "<class 'pandas.core.frame.DataFrame'>\n",
      "RangeIndex: 2354 entries, 0 to 2353\n",
      "Data columns (total 3 columns):\n",
      " #   Column          Non-Null Count  Dtype \n",
      "---  ------          --------------  ----- \n",
      " 0   tweet_ID        2354 non-null   object\n",
      " 1   retweet_count   2354 non-null   int64 \n",
      " 2   favorite_count  2354 non-null   int64 \n",
      "dtypes: int64(2), object(1)\n",
      "memory usage: 55.3+ KB\n"
     ]
    }
   ],
   "source": [
    "#confirming if the datatype of twwwt_id has been corrected\n",
    "twtcount_clean.info()"
   ]
  },
  {
   "cell_type": "code",
   "execution_count": 188,
   "id": "7fe72222",
   "metadata": {},
   "outputs": [
    {
     "name": "stdout",
     "output_type": "stream",
     "text": [
      "<class 'pandas.core.frame.DataFrame'>\n",
      "RangeIndex: 2075 entries, 0 to 2074\n",
      "Data columns (total 12 columns):\n",
      " #   Column    Non-Null Count  Dtype  \n",
      "---  ------    --------------  -----  \n",
      " 0   tweet_id  2075 non-null   object \n",
      " 1   jpg_url   2075 non-null   object \n",
      " 2   img_num   2075 non-null   int64  \n",
      " 3   p1        2075 non-null   object \n",
      " 4   p1_conf   2075 non-null   float64\n",
      " 5   p1_dog    2075 non-null   bool   \n",
      " 6   p2        2075 non-null   object \n",
      " 7   p2_conf   2075 non-null   float64\n",
      " 8   p2_dog    2075 non-null   bool   \n",
      " 9   p3        2075 non-null   object \n",
      " 10  p3_conf   2075 non-null   float64\n",
      " 11  p3_dog    2075 non-null   bool   \n",
      "dtypes: bool(3), float64(3), int64(1), object(5)\n",
      "memory usage: 152.1+ KB\n"
     ]
    }
   ],
   "source": [
    "#confirming if the datatype of twwwt_id has been corrected\n",
    "df_image_clean.info()"
   ]
  },
  {
   "cell_type": "markdown",
   "id": "b8e66a49",
   "metadata": {},
   "source": [
    "### case 4\n",
    "##### Define\n",
    "- merge twt_count table to the achive table"
   ]
  },
  {
   "cell_type": "markdown",
   "id": "9e16ef15",
   "metadata": {},
   "source": [
    "##### code"
   ]
  },
  {
   "cell_type": "code",
   "execution_count": 189,
   "id": "69eceaa4",
   "metadata": {},
   "outputs": [
    {
     "data": {
      "text/plain": [
       "Index(['/tweet_id', 'timestamp', 'source', 'text', 'rating_numerator',\n",
       "       'rating_denominator', 'name', 'dog_stage'],\n",
       "      dtype='object')"
      ]
     },
     "metadata": {},
     "output_type": "display_data"
    },
    {
     "data": {
      "text/plain": [
       "Index(['tweet_ID', 'retweet_count', 'favorite_count'], dtype='object')"
      ]
     },
     "metadata": {},
     "output_type": "display_data"
    },
    {
     "data": {
      "text/plain": [
       "Index(['tweet_id', 'jpg_url', 'img_num', 'p1', 'p1_conf', 'p1_dog', 'p2',\n",
       "       'p2_conf', 'p2_dog', 'p3', 'p3_conf', 'p3_dog'],\n",
       "      dtype='object')"
      ]
     },
     "metadata": {},
     "output_type": "display_data"
    }
   ],
   "source": [
    "#showing the columns so as to know where to merge on\n",
    "display(df_clean.columns)\n",
    "display(twtcount_clean.columns)\n",
    "display(df_image_clean.columns)"
   ]
  },
  {
   "cell_type": "code",
   "execution_count": 190,
   "id": "e496409e",
   "metadata": {},
   "outputs": [],
   "source": [
    "#merge the copied twiitter achive data with the additional data on both axis\n",
    "df_tweet_clean = df_clean.merge(twtcount_clean, left_on='/tweet_id', right_on='tweet_ID')\n",
    "df_tweet_clean.rename(columns={'/tweet_id' : 'tweet_id'}, inplace = True)"
   ]
  },
  {
   "cell_type": "markdown",
   "id": "1743f06d",
   "metadata": {},
   "source": [
    "##### test"
   ]
  },
  {
   "cell_type": "code",
   "execution_count": 191,
   "id": "9d169460",
   "metadata": {},
   "outputs": [
    {
     "name": "stdout",
     "output_type": "stream",
     "text": [
      "<class 'pandas.core.frame.DataFrame'>\n",
      "Int64Index: 2174 entries, 0 to 2173\n",
      "Data columns (total 11 columns):\n",
      " #   Column              Non-Null Count  Dtype \n",
      "---  ------              --------------  ----- \n",
      " 0   tweet_id            2174 non-null   object\n",
      " 1   timestamp           2174 non-null   object\n",
      " 2   source              2174 non-null   object\n",
      " 3   text                2174 non-null   object\n",
      " 4   rating_numerator    2174 non-null   object\n",
      " 5   rating_denominator  2174 non-null   object\n",
      " 6   name                2174 non-null   object\n",
      " 7   dog_stage           2174 non-null   object\n",
      " 8   tweet_ID            2174 non-null   object\n",
      " 9   retweet_count       2174 non-null   int64 \n",
      " 10  favorite_count      2174 non-null   int64 \n",
      "dtypes: int64(2), object(9)\n",
      "memory usage: 203.8+ KB\n"
     ]
    }
   ],
   "source": [
    "#confirm the merge with no missing value\n",
    "df_tweet_clean.info()"
   ]
  },
  {
   "cell_type": "markdown",
   "id": "84a66bd8",
   "metadata": {},
   "source": [
    "### case 4\n",
    "##### Define\n",
    "- merge df_img table to the df_tweet_clean table"
   ]
  },
  {
   "cell_type": "markdown",
   "id": "97059242",
   "metadata": {},
   "source": [
    "##### code"
   ]
  },
  {
   "cell_type": "code",
   "execution_count": 192,
   "id": "c1c912e4",
   "metadata": {},
   "outputs": [],
   "source": [
    "#merge the new merged table with the image prediction data on both axis\n",
    "df_tweet_clean = df_tweet_clean.merge(df_image_clean, left_on='tweet_id', right_on='tweet_id')"
   ]
  },
  {
   "cell_type": "markdown",
   "id": "d59f2e2b",
   "metadata": {},
   "source": [
    "##### test"
   ]
  },
  {
   "cell_type": "code",
   "execution_count": 193,
   "id": "9a5fca05",
   "metadata": {},
   "outputs": [
    {
     "name": "stdout",
     "output_type": "stream",
     "text": [
      "<class 'pandas.core.frame.DataFrame'>\n",
      "Int64Index: 1993 entries, 0 to 1992\n",
      "Data columns (total 22 columns):\n",
      " #   Column              Non-Null Count  Dtype  \n",
      "---  ------              --------------  -----  \n",
      " 0   tweet_id            1993 non-null   object \n",
      " 1   timestamp           1993 non-null   object \n",
      " 2   source              1993 non-null   object \n",
      " 3   text                1993 non-null   object \n",
      " 4   rating_numerator    1993 non-null   object \n",
      " 5   rating_denominator  1993 non-null   object \n",
      " 6   name                1993 non-null   object \n",
      " 7   dog_stage           1993 non-null   object \n",
      " 8   tweet_ID            1993 non-null   object \n",
      " 9   retweet_count       1993 non-null   int64  \n",
      " 10  favorite_count      1993 non-null   int64  \n",
      " 11  jpg_url             1993 non-null   object \n",
      " 12  img_num             1993 non-null   int64  \n",
      " 13  p1                  1993 non-null   object \n",
      " 14  p1_conf             1993 non-null   float64\n",
      " 15  p1_dog              1993 non-null   bool   \n",
      " 16  p2                  1993 non-null   object \n",
      " 17  p2_conf             1993 non-null   float64\n",
      " 18  p2_dog              1993 non-null   bool   \n",
      " 19  p3                  1993 non-null   object \n",
      " 20  p3_conf             1993 non-null   float64\n",
      " 21  p3_dog              1993 non-null   bool   \n",
      "dtypes: bool(3), float64(3), int64(3), object(13)\n",
      "memory usage: 317.2+ KB\n"
     ]
    }
   ],
   "source": [
    "#confirm the merge with no missing value\n",
    "df_tweet_clean.info()"
   ]
  },
  {
   "cell_type": "markdown",
   "id": "ddf9f9fe",
   "metadata": {},
   "source": [
    "### Quality"
   ]
  },
  {
   "cell_type": "markdown",
   "id": "e01ca2d4",
   "metadata": {},
   "source": [
    "### case 1\n",
    "##### Define\n",
    "- From df_ae, find and replace dog names with 'None' if possible.\n",
    "- It appears that names that are lowercase tend to be invalid. Find and replace lowercase dog \"names\" if possible.\n",
    "- Replace with NaN if no name is found."
   ]
  },
  {
   "cell_type": "markdown",
   "id": "e9ab2581",
   "metadata": {},
   "source": [
    "##### code"
   ]
  },
  {
   "cell_type": "code",
   "execution_count": 194,
   "id": "526e5743",
   "metadata": {},
   "outputs": [
    {
     "data": {
      "text/plain": [
       "546"
      ]
     },
     "execution_count": 194,
     "metadata": {},
     "output_type": "execute_result"
    }
   ],
   "source": [
    "# number of 'none' dog names\n",
    "(df_tweet_clean.name == 'None').sum()"
   ]
  },
  {
   "cell_type": "code",
   "execution_count": 195,
   "id": "84c4a7d5",
   "metadata": {},
   "outputs": [
    {
     "data": {
      "text/plain": [
       "['a',\n",
       " 'the',\n",
       " 'an',\n",
       " 'very',\n",
       " 'one',\n",
       " 'quite',\n",
       " 'just',\n",
       " 'getting',\n",
       " 'all',\n",
       " 'his',\n",
       " 'not',\n",
       " 'officially',\n",
       " 'infuriating',\n",
       " 'such',\n",
       " 'by',\n",
       " 'unacceptable',\n",
       " 'my',\n",
       " 'space',\n",
       " 'incredibly',\n",
       " 'actually',\n",
       " 'light',\n",
       " 'this',\n",
       " 'None']"
      ]
     },
     "execution_count": 195,
     "metadata": {},
     "output_type": "execute_result"
    }
   ],
   "source": [
    "# list of lowercase dog names and 'None'\n",
    "lower_list = list(df_tweet_clean[df_tweet_clean.name.str.islower()].name.value_counts().index)\n",
    "lower_list.append('None')\n",
    "lower_list"
   ]
  },
  {
   "cell_type": "code",
   "execution_count": 196,
   "id": "529347a0",
   "metadata": {},
   "outputs": [
    {
     "data": {
      "text/html": [
       "<div>\n",
       "<style scoped>\n",
       "    .dataframe tbody tr th:only-of-type {\n",
       "        vertical-align: middle;\n",
       "    }\n",
       "\n",
       "    .dataframe tbody tr th {\n",
       "        vertical-align: top;\n",
       "    }\n",
       "\n",
       "    .dataframe thead th {\n",
       "        text-align: right;\n",
       "    }\n",
       "</style>\n",
       "<table border=\"1\" class=\"dataframe\">\n",
       "  <thead>\n",
       "    <tr style=\"text-align: right;\">\n",
       "      <th></th>\n",
       "      <th>0</th>\n",
       "    </tr>\n",
       "  </thead>\n",
       "  <tbody>\n",
       "    <tr>\n",
       "      <th>1502</th>\n",
       "      <td>named Wylie</td>\n",
       "    </tr>\n",
       "    <tr>\n",
       "      <th>1599</th>\n",
       "      <td>named Kip</td>\n",
       "    </tr>\n",
       "    <tr>\n",
       "      <th>1678</th>\n",
       "      <td>named Jacob</td>\n",
       "    </tr>\n",
       "    <tr>\n",
       "      <th>1709</th>\n",
       "      <td>named Rufus</td>\n",
       "    </tr>\n",
       "    <tr>\n",
       "      <th>1759</th>\n",
       "      <td>named Spork</td>\n",
       "    </tr>\n",
       "    <tr>\n",
       "      <th>1768</th>\n",
       "      <td>named Cherokee</td>\n",
       "    </tr>\n",
       "    <tr>\n",
       "      <th>1771</th>\n",
       "      <td>named Hemry</td>\n",
       "    </tr>\n",
       "    <tr>\n",
       "      <th>1789</th>\n",
       "      <td>named Alphred</td>\n",
       "    </tr>\n",
       "    <tr>\n",
       "      <th>1803</th>\n",
       "      <td>named Alfredo</td>\n",
       "    </tr>\n",
       "    <tr>\n",
       "      <th>1832</th>\n",
       "      <td>named Leroi</td>\n",
       "    </tr>\n",
       "    <tr>\n",
       "      <th>1845</th>\n",
       "      <td>named Berta</td>\n",
       "    </tr>\n",
       "    <tr>\n",
       "      <th>1858</th>\n",
       "      <td>named Chuk</td>\n",
       "    </tr>\n",
       "    <tr>\n",
       "      <th>1875</th>\n",
       "      <td>named Alfonso</td>\n",
       "    </tr>\n",
       "    <tr>\n",
       "      <th>1889</th>\n",
       "      <td>named Cheryl</td>\n",
       "    </tr>\n",
       "    <tr>\n",
       "      <th>1895</th>\n",
       "      <td>named Jessiga</td>\n",
       "    </tr>\n",
       "    <tr>\n",
       "      <th>1902</th>\n",
       "      <td>named Klint</td>\n",
       "    </tr>\n",
       "    <tr>\n",
       "      <th>1911</th>\n",
       "      <td>named Kohl</td>\n",
       "    </tr>\n",
       "    <tr>\n",
       "      <th>1941</th>\n",
       "      <td>named Pepe</td>\n",
       "    </tr>\n",
       "    <tr>\n",
       "      <th>1948</th>\n",
       "      <td>named Octaviath</td>\n",
       "    </tr>\n",
       "    <tr>\n",
       "      <th>1951</th>\n",
       "      <td>named Johm</td>\n",
       "    </tr>\n",
       "  </tbody>\n",
       "</table>\n",
       "</div>"
      ],
      "text/plain": [
       "                    0\n",
       "1502      named Wylie\n",
       "1599        named Kip\n",
       "1678      named Jacob\n",
       "1709      named Rufus\n",
       "1759      named Spork\n",
       "1768   named Cherokee\n",
       "1771      named Hemry\n",
       "1789    named Alphred\n",
       "1803    named Alfredo\n",
       "1832      named Leroi\n",
       "1845      named Berta\n",
       "1858       named Chuk\n",
       "1875    named Alfonso\n",
       "1889     named Cheryl\n",
       "1895    named Jessiga\n",
       "1902      named Klint\n",
       "1911       named Kohl\n",
       "1941       named Pepe\n",
       "1948  named Octaviath\n",
       "1951       named Johm"
      ]
     },
     "execution_count": 196,
     "metadata": {},
     "output_type": "execute_result"
    }
   ],
   "source": [
    "# query data frame where name matches 'a' and extract names\n",
    "df_extract_names = df_tweet_clean[df_tweet_clean.name.str.match('a')].text.str.extract(r'(named\\s\\w+)').dropna()\n",
    "df_extract_names"
   ]
  },
  {
   "cell_type": "code",
   "execution_count": 197,
   "id": "a769fe04",
   "metadata": {},
   "outputs": [],
   "source": [
    "# slice and replace name\n",
    "df_tweet_clean.loc[df_extract_names.index, 'name'] = df_extract_names[0].str.slice(6)"
   ]
  },
  {
   "cell_type": "code",
   "execution_count": 198,
   "id": "dca6e085",
   "metadata": {},
   "outputs": [
    {
     "data": {
      "text/plain": [
       "48      False\n",
       "471     False\n",
       "581     False\n",
       "745     False\n",
       "747     False\n",
       "756     False\n",
       "761     False\n",
       "782     False\n",
       "865     False\n",
       "918     False\n",
       "928     False\n",
       "1044    False\n",
       "1053    False\n",
       "1063    False\n",
       "1064    False\n",
       "1069    False\n",
       "1081    False\n",
       "1184    False\n",
       "1355    False\n",
       "1397    False\n",
       "1440    False\n",
       "1503    False\n",
       "1526    False\n",
       "1527    False\n",
       "1568    False\n",
       "1585    False\n",
       "1638    False\n",
       "1795    False\n",
       "1839    False\n",
       "1852    False\n",
       "1862    False\n",
       "1925     True\n",
       "1964    False\n",
       "1970    False\n",
       "1971    False\n",
       "1972    False\n",
       "1984    False\n",
       "1985    False\n",
       "1986    False\n",
       "1987    False\n",
       "1989    False\n",
       "1990    False\n",
       "1991    False\n",
       "Name: text, dtype: bool"
      ]
     },
     "execution_count": 198,
     "metadata": {},
     "output_type": "execute_result"
    }
   ],
   "source": [
    "# which records with name 'a' and dog name is included later in tweet\n",
    "df_tweet_clean[df_tweet_clean.name.str.match('a')].text.str.contains('name is ')"
   ]
  },
  {
   "cell_type": "code",
   "execution_count": 199,
   "id": "20dfed48",
   "metadata": {
    "scrolled": true
   },
   "outputs": [
    {
     "data": {
      "text/plain": [
       "\"This is a Dasani Kingfisher from Maine. His name is Daryl. Daryl doesn't like being swallowed by a panda. 8/10 https://t.co/jpaeu6LNmW\""
      ]
     },
     "execution_count": 199,
     "metadata": {},
     "output_type": "execute_result"
    }
   ],
   "source": [
    "df_tweet_clean.loc[1925]['text']"
   ]
  },
  {
   "cell_type": "code",
   "execution_count": 200,
   "id": "f76d80cd",
   "metadata": {},
   "outputs": [],
   "source": [
    "# fix single name entry\n",
    "df_tweet_clean.loc[1925, 'name'] = 'Daryl'"
   ]
  },
  {
   "cell_type": "code",
   "execution_count": 201,
   "id": "deb8d872",
   "metadata": {},
   "outputs": [],
   "source": [
    "#replace the other lowercase names with None\n",
    "df_tweet_clean['name'] =df_tweet_clean.name.replace(lower_list, 'None')"
   ]
  },
  {
   "cell_type": "markdown",
   "id": "2b1e14d9",
   "metadata": {},
   "source": [
    "##### test"
   ]
  },
  {
   "cell_type": "code",
   "execution_count": 202,
   "id": "32a0bff6",
   "metadata": {},
   "outputs": [
    {
     "data": {
      "text/plain": [
       "None        623\n",
       "Charlie      11\n",
       "Lucy         10\n",
       "Oliver       10\n",
       "Cooper       10\n",
       "           ... \n",
       "Herschel      1\n",
       "Lorelei       1\n",
       "Kaiya         1\n",
       "William       1\n",
       "Lugan         1\n",
       "Name: name, Length: 932, dtype: int64"
      ]
     },
     "execution_count": 202,
     "metadata": {},
     "output_type": "execute_result"
    }
   ],
   "source": [
    "# check cleaned names\n",
    "df_tweet_clean.name.value_counts()"
   ]
  },
  {
   "cell_type": "code",
   "execution_count": 203,
   "id": "c38973b3",
   "metadata": {},
   "outputs": [
    {
     "name": "stdout",
     "output_type": "stream",
     "text": [
      "<class 'pandas.core.frame.DataFrame'>\n",
      "Int64Index: 1993 entries, 0 to 1992\n",
      "Data columns (total 22 columns):\n",
      " #   Column              Non-Null Count  Dtype  \n",
      "---  ------              --------------  -----  \n",
      " 0   tweet_id            1993 non-null   object \n",
      " 1   timestamp           1993 non-null   object \n",
      " 2   source              1993 non-null   object \n",
      " 3   text                1993 non-null   object \n",
      " 4   rating_numerator    1993 non-null   object \n",
      " 5   rating_denominator  1993 non-null   object \n",
      " 6   name                1993 non-null   object \n",
      " 7   dog_stage           1993 non-null   object \n",
      " 8   tweet_ID            1993 non-null   object \n",
      " 9   retweet_count       1993 non-null   int64  \n",
      " 10  favorite_count      1993 non-null   int64  \n",
      " 11  jpg_url             1993 non-null   object \n",
      " 12  img_num             1993 non-null   int64  \n",
      " 13  p1                  1993 non-null   object \n",
      " 14  p1_conf             1993 non-null   float64\n",
      " 15  p1_dog              1993 non-null   bool   \n",
      " 16  p2                  1993 non-null   object \n",
      " 17  p2_conf             1993 non-null   float64\n",
      " 18  p2_dog              1993 non-null   bool   \n",
      " 19  p3                  1993 non-null   object \n",
      " 20  p3_conf             1993 non-null   float64\n",
      " 21  p3_dog              1993 non-null   bool   \n",
      "dtypes: bool(3), float64(3), int64(3), object(13)\n",
      "memory usage: 381.8+ KB\n"
     ]
    }
   ],
   "source": [
    "df_tweet_clean.info()"
   ]
  },
  {
   "cell_type": "markdown",
   "id": "e3e70fec",
   "metadata": {},
   "source": [
    "### case 2\n",
    "##### Define\n",
    "- Extract keyword floof in the text column \n",
    "- convert to floofer\n",
    "- add to the name column"
   ]
  },
  {
   "cell_type": "markdown",
   "id": "4bfe3012",
   "metadata": {},
   "source": [
    "##### code"
   ]
  },
  {
   "cell_type": "code",
   "execution_count": 204,
   "id": "86a0642e",
   "metadata": {},
   "outputs": [],
   "source": [
    "# find index of all tweets where the text containts 'floof'\n",
    "floof_index = df_tweet_clean[df_tweet_clean.text.str.contains('floof')].index\n",
    "doggo_index = df_tweet_clean[df_tweet_clean.text.str.contains('doggo')].index\n",
    "pupper_index = df_tweet_clean[df_tweet_clean.text.str.contains('pupper')].index\n",
    "puppo_index = df_tweet_clean[df_tweet_clean.text.str.contains('puppo')].index"
   ]
  },
  {
   "cell_type": "code",
   "execution_count": 205,
   "id": "8b3d515a",
   "metadata": {},
   "outputs": [
    {
     "data": {
      "text/plain": [
       "'length of doggo is: 76'"
      ]
     },
     "metadata": {},
     "output_type": "display_data"
    },
    {
     "data": {
      "text/plain": [
       "'length of floofer is: 22'"
      ]
     },
     "metadata": {},
     "output_type": "display_data"
    },
    {
     "data": {
      "text/plain": [
       "'length of pupper is: 229'"
      ]
     },
     "metadata": {},
     "output_type": "display_data"
    },
    {
     "data": {
      "text/plain": [
       "'length of puppo is: 28'"
      ]
     },
     "metadata": {},
     "output_type": "display_data"
    }
   ],
   "source": [
    "display('length of doggo is: {}'.format(len(doggo_index)))\n",
    "display('length of floofer is: {}'.format(len(floof_index)))\n",
    "display('length of pupper is: {}'.format(len(pupper_index)))\n",
    "display('length of puppo is: {}'.format(len(puppo_index)))"
   ]
  },
  {
   "cell_type": "code",
   "execution_count": 206,
   "id": "2854f364",
   "metadata": {},
   "outputs": [],
   "source": [
    "# change 'floofer' category to 'floofer'\n",
    "df_tweet_clean.loc[floof_index, 'dog_stage'] = 'floofer'\n",
    "df_tweet_clean.loc[doggo_index, 'dog_stage'] = 'doggo'\n",
    "df_tweet_clean.loc[pupper_index, 'dog_stage'] = 'pupper'\n",
    "df_tweet_clean.loc[puppo_index, 'dog_stage'] = 'puppo'"
   ]
  },
  {
   "cell_type": "code",
   "execution_count": null,
   "id": "0a9f8fa0",
   "metadata": {},
   "outputs": [],
   "source": []
  },
  {
   "cell_type": "markdown",
   "id": "0c77cf40",
   "metadata": {},
   "source": [
    "##### test"
   ]
  },
  {
   "cell_type": "code",
   "execution_count": 207,
   "id": "350b9e25",
   "metadata": {},
   "outputs": [
    {
     "data": {
      "text/plain": [
       "                  1830\n",
       "pupper             224\n",
       "doggo               75\n",
       "puppo               24\n",
       "doggo, pupper       10\n",
       "floofer              9\n",
       "doggo, floofer       1\n",
       "doggo, puppo         1\n",
       "Name: dog_stage, dtype: int64"
      ]
     },
     "execution_count": 207,
     "metadata": {},
     "output_type": "execute_result"
    }
   ],
   "source": [
    "#confirming cateroy\n",
    "df_clean.dog_stage.value_counts()"
   ]
  },
  {
   "cell_type": "markdown",
   "id": "e7779016",
   "metadata": {},
   "source": [
    "### case 3\n",
    "##### Define\n",
    "- convert timestamp to DateTime"
   ]
  },
  {
   "cell_type": "markdown",
   "id": "de839b63",
   "metadata": {},
   "source": [
    "##### code"
   ]
  },
  {
   "cell_type": "code",
   "execution_count": 208,
   "id": "6205838f",
   "metadata": {},
   "outputs": [],
   "source": [
    "#converting the timestamp column to datetime column\n",
    "df_tweet_clean.timestamp = pd.to_datetime(df_tweet_clean.timestamp)"
   ]
  },
  {
   "cell_type": "markdown",
   "id": "5e259374",
   "metadata": {},
   "source": [
    "##### test"
   ]
  },
  {
   "cell_type": "code",
   "execution_count": 209,
   "id": "c8b7af29",
   "metadata": {},
   "outputs": [
    {
     "data": {
      "text/plain": [
       "tweet_id                           object\n",
       "timestamp             datetime64[ns, UTC]\n",
       "source                             object\n",
       "text                               object\n",
       "rating_numerator                   object\n",
       "rating_denominator                 object\n",
       "name                               object\n",
       "dog_stage                          object\n",
       "tweet_ID                           object\n",
       "retweet_count                       int64\n",
       "favorite_count                      int64\n",
       "jpg_url                            object\n",
       "img_num                             int64\n",
       "p1                                 object\n",
       "p1_conf                           float64\n",
       "p1_dog                               bool\n",
       "p2                                 object\n",
       "p2_conf                           float64\n",
       "p2_dog                               bool\n",
       "p3                                 object\n",
       "p3_conf                           float64\n",
       "p3_dog                               bool\n",
       "dtype: object"
      ]
     },
     "execution_count": 209,
     "metadata": {},
     "output_type": "execute_result"
    }
   ],
   "source": [
    "#confirming\n",
    "df_tweet_clean.dtypes"
   ]
  },
  {
   "cell_type": "markdown",
   "id": "3ec5ef72",
   "metadata": {},
   "source": [
    "### case 4\n",
    "##### Define\n",
    "- extract source from the html link on the source column "
   ]
  },
  {
   "cell_type": "markdown",
   "id": "9cdf1b7f",
   "metadata": {},
   "source": [
    "##### code"
   ]
  },
  {
   "cell_type": "code",
   "execution_count": 210,
   "id": "39189093",
   "metadata": {},
   "outputs": [],
   "source": [
    "# define function to strip source link\n",
    "def strip_url(x):\n",
    "    return x.split('>', 1)[-1][:-4]"
   ]
  },
  {
   "cell_type": "code",
   "execution_count": 211,
   "id": "9bec34bf",
   "metadata": {},
   "outputs": [],
   "source": [
    "# apply to source column\n",
    "df_tweet_clean['source'] = df_tweet_clean['source'].apply(strip_url)"
   ]
  },
  {
   "cell_type": "markdown",
   "id": "549baff1",
   "metadata": {},
   "source": [
    "##### Test"
   ]
  },
  {
   "cell_type": "code",
   "execution_count": 212,
   "id": "8aaa85ff",
   "metadata": {},
   "outputs": [
    {
     "data": {
      "text/plain": [
       "Twitter for iPhone    1954\n",
       "Twitter Web Client      28\n",
       "TweetDeck               11\n",
       "Name: source, dtype: int64"
      ]
     },
     "execution_count": 212,
     "metadata": {},
     "output_type": "execute_result"
    }
   ],
   "source": [
    "#confiming the extract and printing the result\n",
    "df_tweet_clean['source'].value_counts()"
   ]
  },
  {
   "cell_type": "markdown",
   "id": "3c8a120e",
   "metadata": {},
   "source": [
    "### case 5\n",
    "##### Define\n",
    "- Drop rows where all predictions of dog breed is not a dog"
   ]
  },
  {
   "cell_type": "markdown",
   "id": "4b365220",
   "metadata": {},
   "source": [
    "##### code "
   ]
  },
  {
   "cell_type": "code",
   "execution_count": 213,
   "id": "2c4d493a",
   "metadata": {},
   "outputs": [],
   "source": [
    "# keep rows with at least one dog prediction\n",
    "df_tweet_clean = df_tweet_clean.query('(p1_dog != False) or (p2_dog != False) or (p3_dog != False)')"
   ]
  },
  {
   "cell_type": "markdown",
   "id": "4c96e425",
   "metadata": {},
   "source": [
    "##### test"
   ]
  },
  {
   "cell_type": "code",
   "execution_count": 214,
   "id": "229ef84d",
   "metadata": {},
   "outputs": [
    {
     "name": "stdout",
     "output_type": "stream",
     "text": [
      "<class 'pandas.core.frame.DataFrame'>\n",
      "Int64Index: 1685 entries, 1 to 1992\n",
      "Data columns (total 22 columns):\n",
      " #   Column              Non-Null Count  Dtype              \n",
      "---  ------              --------------  -----              \n",
      " 0   tweet_id            1685 non-null   object             \n",
      " 1   timestamp           1685 non-null   datetime64[ns, UTC]\n",
      " 2   source              1685 non-null   object             \n",
      " 3   text                1685 non-null   object             \n",
      " 4   rating_numerator    1685 non-null   object             \n",
      " 5   rating_denominator  1685 non-null   object             \n",
      " 6   name                1685 non-null   object             \n",
      " 7   dog_stage           1685 non-null   object             \n",
      " 8   tweet_ID            1685 non-null   object             \n",
      " 9   retweet_count       1685 non-null   int64              \n",
      " 10  favorite_count      1685 non-null   int64              \n",
      " 11  jpg_url             1685 non-null   object             \n",
      " 12  img_num             1685 non-null   int64              \n",
      " 13  p1                  1685 non-null   object             \n",
      " 14  p1_conf             1685 non-null   float64            \n",
      " 15  p1_dog              1685 non-null   bool               \n",
      " 16  p2                  1685 non-null   object             \n",
      " 17  p2_conf             1685 non-null   float64            \n",
      " 18  p2_dog              1685 non-null   bool               \n",
      " 19  p3                  1685 non-null   object             \n",
      " 20  p3_conf             1685 non-null   float64            \n",
      " 21  p3_dog              1685 non-null   bool               \n",
      "dtypes: bool(3), datetime64[ns, UTC](1), float64(3), int64(3), object(12)\n",
      "memory usage: 268.2+ KB\n"
     ]
    }
   ],
   "source": [
    "df_tweet_clean.info()"
   ]
  },
  {
   "cell_type": "markdown",
   "id": "f1d6e635",
   "metadata": {},
   "source": [
    "### case 6\n",
    "##### Define\n",
    "- Removing data of days more than 1st August, 2017 from the twitter achive table"
   ]
  },
  {
   "cell_type": "markdown",
   "id": "456d082f",
   "metadata": {},
   "source": [
    "##### code"
   ]
  },
  {
   "cell_type": "code",
   "execution_count": 215,
   "id": "a9727892",
   "metadata": {},
   "outputs": [
    {
     "data": {
      "text/html": [
       "<div>\n",
       "<style scoped>\n",
       "    .dataframe tbody tr th:only-of-type {\n",
       "        vertical-align: middle;\n",
       "    }\n",
       "\n",
       "    .dataframe tbody tr th {\n",
       "        vertical-align: top;\n",
       "    }\n",
       "\n",
       "    .dataframe thead th {\n",
       "        text-align: right;\n",
       "    }\n",
       "</style>\n",
       "<table border=\"1\" class=\"dataframe\">\n",
       "  <thead>\n",
       "    <tr style=\"text-align: right;\">\n",
       "      <th></th>\n",
       "      <th>tweet_id</th>\n",
       "      <th>timestamp</th>\n",
       "      <th>source</th>\n",
       "      <th>text</th>\n",
       "      <th>rating_numerator</th>\n",
       "      <th>rating_denominator</th>\n",
       "      <th>name</th>\n",
       "      <th>dog_stage</th>\n",
       "      <th>tweet_ID</th>\n",
       "      <th>retweet_count</th>\n",
       "      <th>...</th>\n",
       "      <th>img_num</th>\n",
       "      <th>p1</th>\n",
       "      <th>p1_conf</th>\n",
       "      <th>p1_dog</th>\n",
       "      <th>p2</th>\n",
       "      <th>p2_conf</th>\n",
       "      <th>p2_dog</th>\n",
       "      <th>p3</th>\n",
       "      <th>p3_conf</th>\n",
       "      <th>p3_dog</th>\n",
       "    </tr>\n",
       "  </thead>\n",
       "  <tbody>\n",
       "    <tr>\n",
       "      <th>1</th>\n",
       "      <td>892177421306343426</td>\n",
       "      <td>2017-08-01 00:17:27+00:00</td>\n",
       "      <td>Twitter for iPhone</td>\n",
       "      <td>This is Tilly. She's just checking pup on you....</td>\n",
       "      <td>13</td>\n",
       "      <td>10</td>\n",
       "      <td>Tilly</td>\n",
       "      <td></td>\n",
       "      <td>892177421306343426</td>\n",
       "      <td>6514</td>\n",
       "      <td>...</td>\n",
       "      <td>1</td>\n",
       "      <td>Chihuahua</td>\n",
       "      <td>0.323581</td>\n",
       "      <td>True</td>\n",
       "      <td>Pekinese</td>\n",
       "      <td>0.090647</td>\n",
       "      <td>True</td>\n",
       "      <td>papillon</td>\n",
       "      <td>0.068957</td>\n",
       "      <td>True</td>\n",
       "    </tr>\n",
       "  </tbody>\n",
       "</table>\n",
       "<p>1 rows × 22 columns</p>\n",
       "</div>"
      ],
      "text/plain": [
       "             tweet_id                 timestamp              source  \\\n",
       "1  892177421306343426 2017-08-01 00:17:27+00:00  Twitter for iPhone   \n",
       "\n",
       "                                                text rating_numerator  \\\n",
       "1  This is Tilly. She's just checking pup on you....               13   \n",
       "\n",
       "  rating_denominator   name dog_stage            tweet_ID  retweet_count  ...  \\\n",
       "1                 10  Tilly            892177421306343426           6514  ...   \n",
       "\n",
       "   img_num         p1   p1_conf p1_dog        p2   p2_conf p2_dog        p3  \\\n",
       "1        1  Chihuahua  0.323581   True  Pekinese  0.090647   True  papillon   \n",
       "\n",
       "    p3_conf p3_dog  \n",
       "1  0.068957   True  \n",
       "\n",
       "[1 rows x 22 columns]"
      ]
     },
     "execution_count": 215,
     "metadata": {},
     "output_type": "execute_result"
    }
   ],
   "source": [
    "#checking for the timestamp that are greater than august 1st, 2017\n",
    "df_tweet_clean[df_tweet_clean['timestamp'] > '2017-08-01']"
   ]
  },
  {
   "cell_type": "markdown",
   "id": "f3cb507b",
   "metadata": {},
   "source": [
    "> This just shows that there is time difference and there are no data with time more than august "
   ]
  },
  {
   "cell_type": "markdown",
   "id": "30ba584e",
   "metadata": {},
   "source": [
    "### case 7\n",
    "##### Define\n",
    "- convert rating_denominator and rating_denominator to int"
   ]
  },
  {
   "cell_type": "markdown",
   "id": "b44d2e2a",
   "metadata": {},
   "source": [
    "##### code"
   ]
  },
  {
   "cell_type": "code",
   "execution_count": 216,
   "id": "cd9cdae0",
   "metadata": {},
   "outputs": [],
   "source": [
    "#creating a list of the columns to be converted \n",
    "col = ['rating_numerator', 'rating_denominator']\n",
    "df_tweet_clean[col] = df_tweet_clean[col].astype(int)"
   ]
  },
  {
   "cell_type": "markdown",
   "id": "9ae5c0c7",
   "metadata": {},
   "source": [
    "##### test"
   ]
  },
  {
   "cell_type": "code",
   "execution_count": 217,
   "id": "65d93339",
   "metadata": {},
   "outputs": [
    {
     "name": "stdout",
     "output_type": "stream",
     "text": [
      "<class 'pandas.core.frame.DataFrame'>\n",
      "Int64Index: 1685 entries, 1 to 1992\n",
      "Data columns (total 22 columns):\n",
      " #   Column              Non-Null Count  Dtype              \n",
      "---  ------              --------------  -----              \n",
      " 0   tweet_id            1685 non-null   object             \n",
      " 1   timestamp           1685 non-null   datetime64[ns, UTC]\n",
      " 2   source              1685 non-null   object             \n",
      " 3   text                1685 non-null   object             \n",
      " 4   rating_numerator    1685 non-null   int32              \n",
      " 5   rating_denominator  1685 non-null   int32              \n",
      " 6   name                1685 non-null   object             \n",
      " 7   dog_stage           1685 non-null   object             \n",
      " 8   tweet_ID            1685 non-null   object             \n",
      " 9   retweet_count       1685 non-null   int64              \n",
      " 10  favorite_count      1685 non-null   int64              \n",
      " 11  jpg_url             1685 non-null   object             \n",
      " 12  img_num             1685 non-null   int64              \n",
      " 13  p1                  1685 non-null   object             \n",
      " 14  p1_conf             1685 non-null   float64            \n",
      " 15  p1_dog              1685 non-null   bool               \n",
      " 16  p2                  1685 non-null   object             \n",
      " 17  p2_conf             1685 non-null   float64            \n",
      " 18  p2_dog              1685 non-null   bool               \n",
      " 19  p3                  1685 non-null   object             \n",
      " 20  p3_conf             1685 non-null   float64            \n",
      " 21  p3_dog              1685 non-null   bool               \n",
      "dtypes: bool(3), datetime64[ns, UTC](1), float64(3), int32(2), int64(3), object(10)\n",
      "memory usage: 255.1+ KB\n"
     ]
    }
   ],
   "source": [
    "df_tweet_clean.info()"
   ]
  },
  {
   "cell_type": "code",
   "execution_count": null,
   "id": "8ed3a0fa",
   "metadata": {},
   "outputs": [],
   "source": []
  },
  {
   "cell_type": "markdown",
   "id": "ed5cca05",
   "metadata": {},
   "source": [
    "### case 8\n",
    "##### Define\n",
    "- convert dogstage and source column to category"
   ]
  },
  {
   "cell_type": "markdown",
   "id": "d4260434",
   "metadata": {},
   "source": [
    "##### code"
   ]
  },
  {
   "cell_type": "code",
   "execution_count": 218,
   "id": "963d23b2",
   "metadata": {},
   "outputs": [],
   "source": [
    "#converting the dtypes of the source and the dog_stage column\n",
    "df_tweet_clean.dog_stage = df_tweet_clean.dog_stage.astype('category')\n",
    "df_tweet_clean.source = df_tweet_clean.source.astype('category')"
   ]
  },
  {
   "cell_type": "markdown",
   "id": "4200bf07",
   "metadata": {},
   "source": [
    "##### test"
   ]
  },
  {
   "cell_type": "code",
   "execution_count": 219,
   "id": "66623289",
   "metadata": {},
   "outputs": [
    {
     "name": "stdout",
     "output_type": "stream",
     "text": [
      "<class 'pandas.core.frame.DataFrame'>\n",
      "Int64Index: 1685 entries, 1 to 1992\n",
      "Data columns (total 22 columns):\n",
      " #   Column              Non-Null Count  Dtype              \n",
      "---  ------              --------------  -----              \n",
      " 0   tweet_id            1685 non-null   object             \n",
      " 1   timestamp           1685 non-null   datetime64[ns, UTC]\n",
      " 2   source              1685 non-null   category           \n",
      " 3   text                1685 non-null   object             \n",
      " 4   rating_numerator    1685 non-null   int32              \n",
      " 5   rating_denominator  1685 non-null   int32              \n",
      " 6   name                1685 non-null   object             \n",
      " 7   dog_stage           1685 non-null   category           \n",
      " 8   tweet_ID            1685 non-null   object             \n",
      " 9   retweet_count       1685 non-null   int64              \n",
      " 10  favorite_count      1685 non-null   int64              \n",
      " 11  jpg_url             1685 non-null   object             \n",
      " 12  img_num             1685 non-null   int64              \n",
      " 13  p1                  1685 non-null   object             \n",
      " 14  p1_conf             1685 non-null   float64            \n",
      " 15  p1_dog              1685 non-null   bool               \n",
      " 16  p2                  1685 non-null   object             \n",
      " 17  p2_conf             1685 non-null   float64            \n",
      " 18  p2_dog              1685 non-null   bool               \n",
      " 19  p3                  1685 non-null   object             \n",
      " 20  p3_conf             1685 non-null   float64            \n",
      " 21  p3_dog              1685 non-null   bool               \n",
      "dtypes: bool(3), category(2), datetime64[ns, UTC](1), float64(3), int32(2), int64(3), object(8)\n",
      "memory usage: 232.4+ KB\n"
     ]
    }
   ],
   "source": [
    "#confirming the result\n",
    "df_tweet_clean.info()"
   ]
  },
  {
   "cell_type": "markdown",
   "id": "e5b72a63",
   "metadata": {},
   "source": [
    "### case 9\n",
    "##### Define\n",
    "- Observed so many errors in the rating columns so i am going to extract the rating_numerator and rating denominator from the text column since it has the information\n",
    "- Noticed some decimal values in the rating so we will  have to convert the rating_numerator and rating denominator to float\n",
    "- replace the rating values in the rating_numerator and rating denominator column"
   ]
  },
  {
   "cell_type": "markdown",
   "id": "41220bd8",
   "metadata": {},
   "source": [
    "##### code"
   ]
  },
  {
   "cell_type": "code",
   "execution_count": 235,
   "id": "b7d35eb8",
   "metadata": {},
   "outputs": [
    {
     "data": {
      "text/html": [
       "<div>\n",
       "<style scoped>\n",
       "    .dataframe tbody tr th:only-of-type {\n",
       "        vertical-align: middle;\n",
       "    }\n",
       "\n",
       "    .dataframe tbody tr th {\n",
       "        vertical-align: top;\n",
       "    }\n",
       "\n",
       "    .dataframe thead th {\n",
       "        text-align: right;\n",
       "    }\n",
       "</style>\n",
       "<table border=\"1\" class=\"dataframe\">\n",
       "  <thead>\n",
       "    <tr style=\"text-align: right;\">\n",
       "      <th></th>\n",
       "      <th>0</th>\n",
       "      <th>1</th>\n",
       "    </tr>\n",
       "  </thead>\n",
       "  <tbody>\n",
       "    <tr>\n",
       "      <th>1</th>\n",
       "      <td>13</td>\n",
       "      <td>10</td>\n",
       "    </tr>\n",
       "    <tr>\n",
       "      <th>2</th>\n",
       "      <td>12</td>\n",
       "      <td>10</td>\n",
       "    </tr>\n",
       "    <tr>\n",
       "      <th>3</th>\n",
       "      <td>13</td>\n",
       "      <td>10</td>\n",
       "    </tr>\n",
       "    <tr>\n",
       "      <th>4</th>\n",
       "      <td>12</td>\n",
       "      <td>10</td>\n",
       "    </tr>\n",
       "    <tr>\n",
       "      <th>5</th>\n",
       "      <td>13</td>\n",
       "      <td>10</td>\n",
       "    </tr>\n",
       "  </tbody>\n",
       "</table>\n",
       "</div>"
      ],
      "text/plain": [
       "    0   1\n",
       "1  13  10\n",
       "2  12  10\n",
       "3  13  10\n",
       "4  12  10\n",
       "5  13  10"
      ]
     },
     "execution_count": 235,
     "metadata": {},
     "output_type": "execute_result"
    }
   ],
   "source": [
    "ratings = df_tweet_clean.text.str.extract('((?:\\d+\\.)?\\d+)\\/(\\d+)', expand=True)\n",
    "ratings.head()"
   ]
  },
  {
   "cell_type": "code",
   "execution_count": 238,
   "id": "835fe28f",
   "metadata": {},
   "outputs": [
    {
     "data": {
      "text/plain": [
       "tweet_id                           object\n",
       "timestamp             datetime64[ns, UTC]\n",
       "source                           category\n",
       "text                               object\n",
       "rating_numerator                   object\n",
       "rating_denominator                 object\n",
       "name                               object\n",
       "dog_stage                        category\n",
       "tweet_ID                           object\n",
       "retweet_count                       int64\n",
       "favorite_count                      int64\n",
       "jpg_url                            object\n",
       "img_num                             int64\n",
       "p1                                 object\n",
       "p1_conf                           float64\n",
       "p1_dog                               bool\n",
       "p2                                 object\n",
       "p2_conf                           float64\n",
       "p2_dog                               bool\n",
       "p3                                 object\n",
       "p3_conf                           float64\n",
       "p3_dog                               bool\n",
       "dtype: object"
      ]
     },
     "execution_count": 238,
     "metadata": {},
     "output_type": "execute_result"
    }
   ],
   "source": [
    "# Replacing the rating_numerator and the rating_denominator column\n",
    "df_tweet_clean.rating_numerator = ratings[0]\n",
    "df_tweet_clean.rating_denominator = ratings[1]\n",
    "\n",
    "#checking the datatype of the rating_numerator and rating_denominator \n",
    "df_tweet_clean.dtypes"
   ]
  },
  {
   "cell_type": "code",
   "execution_count": 239,
   "id": "4b9800c3",
   "metadata": {},
   "outputs": [],
   "source": [
    "#creating a list of the columns to be converted \n",
    "col = ['rating_numerator', 'rating_denominator']\n",
    "#converting the column to float to accumodate the decimal values\n",
    "df_tweet_clean[col] = df_tweet_clean[col].astype(float)"
   ]
  },
  {
   "cell_type": "markdown",
   "id": "0ae92fe8",
   "metadata": {},
   "source": [
    "##### Test"
   ]
  },
  {
   "cell_type": "code",
   "execution_count": 241,
   "id": "cc4ba06b",
   "metadata": {},
   "outputs": [
    {
     "data": {
      "text/html": [
       "<div>\n",
       "<style scoped>\n",
       "    .dataframe tbody tr th:only-of-type {\n",
       "        vertical-align: middle;\n",
       "    }\n",
       "\n",
       "    .dataframe tbody tr th {\n",
       "        vertical-align: top;\n",
       "    }\n",
       "\n",
       "    .dataframe thead th {\n",
       "        text-align: right;\n",
       "    }\n",
       "</style>\n",
       "<table border=\"1\" class=\"dataframe\">\n",
       "  <thead>\n",
       "    <tr style=\"text-align: right;\">\n",
       "      <th></th>\n",
       "      <th>tweet_id</th>\n",
       "      <th>timestamp</th>\n",
       "      <th>source</th>\n",
       "      <th>text</th>\n",
       "      <th>rating_numerator</th>\n",
       "      <th>rating_denominator</th>\n",
       "      <th>name</th>\n",
       "      <th>dog_stage</th>\n",
       "      <th>tweet_ID</th>\n",
       "      <th>retweet_count</th>\n",
       "      <th>...</th>\n",
       "      <th>img_num</th>\n",
       "      <th>p1</th>\n",
       "      <th>p1_conf</th>\n",
       "      <th>p1_dog</th>\n",
       "      <th>p2</th>\n",
       "      <th>p2_conf</th>\n",
       "      <th>p2_dog</th>\n",
       "      <th>p3</th>\n",
       "      <th>p3_conf</th>\n",
       "      <th>p3_dog</th>\n",
       "    </tr>\n",
       "  </thead>\n",
       "  <tbody>\n",
       "    <tr>\n",
       "      <th>1</th>\n",
       "      <td>892177421306343426</td>\n",
       "      <td>2017-08-01 00:17:27+00:00</td>\n",
       "      <td>Twitter for iPhone</td>\n",
       "      <td>This is Tilly. She's just checking pup on you....</td>\n",
       "      <td>13.0</td>\n",
       "      <td>10.0</td>\n",
       "      <td>Tilly</td>\n",
       "      <td></td>\n",
       "      <td>892177421306343426</td>\n",
       "      <td>6514</td>\n",
       "      <td>...</td>\n",
       "      <td>1</td>\n",
       "      <td>Chihuahua</td>\n",
       "      <td>0.323581</td>\n",
       "      <td>True</td>\n",
       "      <td>Pekinese</td>\n",
       "      <td>0.090647</td>\n",
       "      <td>True</td>\n",
       "      <td>papillon</td>\n",
       "      <td>0.068957</td>\n",
       "      <td>True</td>\n",
       "    </tr>\n",
       "    <tr>\n",
       "      <th>2</th>\n",
       "      <td>891815181378084864</td>\n",
       "      <td>2017-07-31 00:18:03+00:00</td>\n",
       "      <td>Twitter for iPhone</td>\n",
       "      <td>This is Archie. He is a rare Norwegian Pouncin...</td>\n",
       "      <td>12.0</td>\n",
       "      <td>10.0</td>\n",
       "      <td>Archie</td>\n",
       "      <td></td>\n",
       "      <td>891815181378084864</td>\n",
       "      <td>4328</td>\n",
       "      <td>...</td>\n",
       "      <td>1</td>\n",
       "      <td>Chihuahua</td>\n",
       "      <td>0.716012</td>\n",
       "      <td>True</td>\n",
       "      <td>malamute</td>\n",
       "      <td>0.078253</td>\n",
       "      <td>True</td>\n",
       "      <td>kelpie</td>\n",
       "      <td>0.031379</td>\n",
       "      <td>True</td>\n",
       "    </tr>\n",
       "  </tbody>\n",
       "</table>\n",
       "<p>2 rows × 22 columns</p>\n",
       "</div>"
      ],
      "text/plain": [
       "             tweet_id                 timestamp              source  \\\n",
       "1  892177421306343426 2017-08-01 00:17:27+00:00  Twitter for iPhone   \n",
       "2  891815181378084864 2017-07-31 00:18:03+00:00  Twitter for iPhone   \n",
       "\n",
       "                                                text  rating_numerator  \\\n",
       "1  This is Tilly. She's just checking pup on you....              13.0   \n",
       "2  This is Archie. He is a rare Norwegian Pouncin...              12.0   \n",
       "\n",
       "   rating_denominator    name dog_stage            tweet_ID  retweet_count  \\\n",
       "1                10.0   Tilly            892177421306343426           6514   \n",
       "2                10.0  Archie            891815181378084864           4328   \n",
       "\n",
       "   ...  img_num         p1   p1_conf p1_dog        p2   p2_conf p2_dog  \\\n",
       "1  ...        1  Chihuahua  0.323581   True  Pekinese  0.090647   True   \n",
       "2  ...        1  Chihuahua  0.716012   True  malamute  0.078253   True   \n",
       "\n",
       "         p3   p3_conf p3_dog  \n",
       "1  papillon  0.068957   True  \n",
       "2    kelpie  0.031379   True  \n",
       "\n",
       "[2 rows x 22 columns]"
      ]
     },
     "execution_count": 241,
     "metadata": {},
     "output_type": "execute_result"
    }
   ],
   "source": [
    "df_tweet_clean.head(2)"
   ]
  },
  {
   "cell_type": "code",
   "execution_count": 242,
   "id": "85e601a7",
   "metadata": {},
   "outputs": [
    {
     "data": {
      "text/plain": [
       "12.00     423\n",
       "10.00     360\n",
       "11.00     356\n",
       "13.00     228\n",
       "9.00      133\n",
       "8.00       68\n",
       "7.00       32\n",
       "14.00      23\n",
       "6.00       16\n",
       "5.00       13\n",
       "4.00        7\n",
       "3.00        5\n",
       "2.00        2\n",
       "165.00      1\n",
       "1.00        1\n",
       "121.00      1\n",
       "11.26       1\n",
       "144.00      1\n",
       "0.00        1\n",
       "50.00       1\n",
       "44.00       1\n",
       "9.75        1\n",
       "84.00       1\n",
       "60.00       1\n",
       "88.00       1\n",
       "99.00       1\n",
       "45.00       1\n",
       "13.50       1\n",
       "11.27       1\n",
       "24.00       1\n",
       "80.00       1\n",
       "143.00      1\n",
       "Name: rating_numerator, dtype: int64"
      ]
     },
     "execution_count": 242,
     "metadata": {},
     "output_type": "execute_result"
    }
   ],
   "source": [
    "df_tweet_clean.rating_numerator.value_counts()"
   ]
  },
  {
   "cell_type": "code",
   "execution_count": 243,
   "id": "e3d310d7",
   "metadata": {},
   "outputs": [
    {
     "data": {
      "text/plain": [
       "10.0     1668\n",
       "50.0        3\n",
       "80.0        2\n",
       "11.0        2\n",
       "150.0       1\n",
       "20.0        1\n",
       "70.0        1\n",
       "90.0        1\n",
       "130.0       1\n",
       "40.0        1\n",
       "110.0       1\n",
       "2.0         1\n",
       "7.0         1\n",
       "120.0       1\n",
       "Name: rating_denominator, dtype: int64"
      ]
     },
     "execution_count": 243,
     "metadata": {},
     "output_type": "execute_result"
    }
   ],
   "source": [
    "df_tweet_clean.rating_denominator.value_counts()"
   ]
  },
  {
   "cell_type": "markdown",
   "id": "38c95505",
   "metadata": {},
   "source": [
    " > From the code result above the issue has been solved"
   ]
  },
  {
   "cell_type": "markdown",
   "id": "7dd2c4ea",
   "metadata": {},
   "source": [
    "## Storing the data"
   ]
  },
  {
   "cell_type": "code",
   "execution_count": 244,
   "id": "a3ba4e59",
   "metadata": {},
   "outputs": [],
   "source": [
    "#Exporting the dataframe to csv\n",
    "df_tweet_clean.to_csv('twitter_archive_master.csv', index=False, encoding='utf-8')"
   ]
  },
  {
   "cell_type": "code",
   "execution_count": null,
   "id": "f392f97d",
   "metadata": {},
   "outputs": [],
   "source": []
  },
  {
   "cell_type": "markdown",
   "id": "09a17ee1",
   "metadata": {},
   "source": [
    "## Analyzing the data"
   ]
  },
  {
   "cell_type": "code",
   "execution_count": 245,
   "id": "2c6d3243",
   "metadata": {},
   "outputs": [],
   "source": [
    "# For analysis, create a copy of the cleaned twitter archive data\n",
    "df = df_tweet_clean.copy()"
   ]
  },
  {
   "cell_type": "code",
   "execution_count": 252,
   "id": "00016aeb",
   "metadata": {},
   "outputs": [
    {
     "name": "stdout",
     "output_type": "stream",
     "text": [
      "<class 'pandas.core.frame.DataFrame'>\n",
      "Int64Index: 1685 entries, 1 to 1992\n",
      "Data columns (total 22 columns):\n",
      " #   Column              Non-Null Count  Dtype              \n",
      "---  ------              --------------  -----              \n",
      " 0   tweet_id            1685 non-null   object             \n",
      " 1   timestamp           1685 non-null   datetime64[ns, UTC]\n",
      " 2   source              1685 non-null   category           \n",
      " 3   text                1685 non-null   object             \n",
      " 4   rating_numerator    1685 non-null   float64            \n",
      " 5   rating_denominator  1685 non-null   float64            \n",
      " 6   name                1685 non-null   object             \n",
      " 7   dog_stage           1685 non-null   category           \n",
      " 8   tweet_ID            1685 non-null   object             \n",
      " 9   retweet_count       1685 non-null   int64              \n",
      " 10  favorite_count      1685 non-null   int64              \n",
      " 11  jpg_url             1685 non-null   object             \n",
      " 12  img_num             1685 non-null   int64              \n",
      " 13  p1                  1685 non-null   object             \n",
      " 14  p1_conf             1685 non-null   float64            \n",
      " 15  p1_dog              1685 non-null   bool               \n",
      " 16  p2                  1685 non-null   object             \n",
      " 17  p2_conf             1685 non-null   float64            \n",
      " 18  p2_dog              1685 non-null   bool               \n",
      " 19  p3                  1685 non-null   object             \n",
      " 20  p3_conf             1685 non-null   float64            \n",
      " 21  p3_dog              1685 non-null   bool               \n",
      "dtypes: bool(3), category(2), datetime64[ns, UTC](1), float64(5), int64(3), object(8)\n",
      "memory usage: 245.5+ KB\n"
     ]
    }
   ],
   "source": [
    "df.info()"
   ]
  },
  {
   "cell_type": "code",
   "execution_count": 264,
   "id": "6e68118f",
   "metadata": {},
   "outputs": [
    {
     "data": {
      "text/html": [
       "<div>\n",
       "<style scoped>\n",
       "    .dataframe tbody tr th:only-of-type {\n",
       "        vertical-align: middle;\n",
       "    }\n",
       "\n",
       "    .dataframe tbody tr th {\n",
       "        vertical-align: top;\n",
       "    }\n",
       "\n",
       "    .dataframe thead th {\n",
       "        text-align: right;\n",
       "    }\n",
       "</style>\n",
       "<table border=\"1\" class=\"dataframe\">\n",
       "  <thead>\n",
       "    <tr style=\"text-align: right;\">\n",
       "      <th></th>\n",
       "      <th>rating_numerator</th>\n",
       "      <th>rating_denominator</th>\n",
       "      <th>retweet_count</th>\n",
       "      <th>favorite_count</th>\n",
       "      <th>img_num</th>\n",
       "      <th>p1_conf</th>\n",
       "      <th>p2_conf</th>\n",
       "      <th>p3_conf</th>\n",
       "    </tr>\n",
       "  </thead>\n",
       "  <tbody>\n",
       "    <tr>\n",
       "      <th>count</th>\n",
       "      <td>1685.000000</td>\n",
       "      <td>1685.000000</td>\n",
       "      <td>1685.000000</td>\n",
       "      <td>1685.000000</td>\n",
       "      <td>1685.000000</td>\n",
       "      <td>1685.000000</td>\n",
       "      <td>1685.000000</td>\n",
       "      <td>1.685000e+03</td>\n",
       "    </tr>\n",
       "    <tr>\n",
       "      <th>mean</th>\n",
       "      <td>11.421234</td>\n",
       "      <td>10.534718</td>\n",
       "      <td>2816.161424</td>\n",
       "      <td>9221.837982</td>\n",
       "      <td>1.216024</td>\n",
       "      <td>0.605220</td>\n",
       "      <td>0.137114</td>\n",
       "      <td>6.132474e-02</td>\n",
       "    </tr>\n",
       "    <tr>\n",
       "      <th>std</th>\n",
       "      <td>7.941628</td>\n",
       "      <td>6.947941</td>\n",
       "      <td>4808.466351</td>\n",
       "      <td>12578.465401</td>\n",
       "      <td>0.576338</td>\n",
       "      <td>0.266480</td>\n",
       "      <td>0.101273</td>\n",
       "      <td>5.187743e-02</td>\n",
       "    </tr>\n",
       "    <tr>\n",
       "      <th>min</th>\n",
       "      <td>0.000000</td>\n",
       "      <td>2.000000</td>\n",
       "      <td>16.000000</td>\n",
       "      <td>81.000000</td>\n",
       "      <td>1.000000</td>\n",
       "      <td>0.044333</td>\n",
       "      <td>0.000010</td>\n",
       "      <td>2.160900e-07</td>\n",
       "    </tr>\n",
       "    <tr>\n",
       "      <th>25%</th>\n",
       "      <td>10.000000</td>\n",
       "      <td>10.000000</td>\n",
       "      <td>649.000000</td>\n",
       "      <td>2163.000000</td>\n",
       "      <td>1.000000</td>\n",
       "      <td>0.378643</td>\n",
       "      <td>0.054933</td>\n",
       "      <td>1.596500e-02</td>\n",
       "    </tr>\n",
       "    <tr>\n",
       "      <th>50%</th>\n",
       "      <td>11.000000</td>\n",
       "      <td>10.000000</td>\n",
       "      <td>1436.000000</td>\n",
       "      <td>4437.000000</td>\n",
       "      <td>1.000000</td>\n",
       "      <td>0.606747</td>\n",
       "      <td>0.121377</td>\n",
       "      <td>4.991380e-02</td>\n",
       "    </tr>\n",
       "    <tr>\n",
       "      <th>75%</th>\n",
       "      <td>12.000000</td>\n",
       "      <td>10.000000</td>\n",
       "      <td>3244.000000</td>\n",
       "      <td>11650.000000</td>\n",
       "      <td>1.000000</td>\n",
       "      <td>0.852088</td>\n",
       "      <td>0.198451</td>\n",
       "      <td>9.466370e-02</td>\n",
       "    </tr>\n",
       "    <tr>\n",
       "      <th>max</th>\n",
       "      <td>165.000000</td>\n",
       "      <td>150.000000</td>\n",
       "      <td>79515.000000</td>\n",
       "      <td>132810.000000</td>\n",
       "      <td>4.000000</td>\n",
       "      <td>0.999984</td>\n",
       "      <td>0.467678</td>\n",
       "      <td>2.734190e-01</td>\n",
       "    </tr>\n",
       "  </tbody>\n",
       "</table>\n",
       "</div>"
      ],
      "text/plain": [
       "       rating_numerator  rating_denominator  retweet_count  favorite_count  \\\n",
       "count       1685.000000         1685.000000    1685.000000     1685.000000   \n",
       "mean          11.421234           10.534718    2816.161424     9221.837982   \n",
       "std            7.941628            6.947941    4808.466351    12578.465401   \n",
       "min            0.000000            2.000000      16.000000       81.000000   \n",
       "25%           10.000000           10.000000     649.000000     2163.000000   \n",
       "50%           11.000000           10.000000    1436.000000     4437.000000   \n",
       "75%           12.000000           10.000000    3244.000000    11650.000000   \n",
       "max          165.000000          150.000000   79515.000000   132810.000000   \n",
       "\n",
       "           img_num      p1_conf      p2_conf       p3_conf  \n",
       "count  1685.000000  1685.000000  1685.000000  1.685000e+03  \n",
       "mean      1.216024     0.605220     0.137114  6.132474e-02  \n",
       "std       0.576338     0.266480     0.101273  5.187743e-02  \n",
       "min       1.000000     0.044333     0.000010  2.160900e-07  \n",
       "25%       1.000000     0.378643     0.054933  1.596500e-02  \n",
       "50%       1.000000     0.606747     0.121377  4.991380e-02  \n",
       "75%       1.000000     0.852088     0.198451  9.466370e-02  \n",
       "max       4.000000     0.999984     0.467678  2.734190e-01  "
      ]
     },
     "execution_count": 264,
     "metadata": {},
     "output_type": "execute_result"
    }
   ],
   "source": [
    "df.describe()"
   ]
  },
  {
   "cell_type": "markdown",
   "id": "5013e52d",
   "metadata": {},
   "source": [
    "> ***Most used twitter source***"
   ]
  },
  {
   "cell_type": "code",
   "execution_count": 246,
   "id": "09eab616",
   "metadata": {},
   "outputs": [
    {
     "data": {
      "text/plain": [
       "Twitter for iPhone    1654\n",
       "Twitter Web Client      22\n",
       "TweetDeck                9\n",
       "Name: source, dtype: int64"
      ]
     },
     "execution_count": 246,
     "metadata": {},
     "output_type": "execute_result"
    }
   ],
   "source": [
    "df['source'].value_counts()"
   ]
  },
  {
   "cell_type": "markdown",
   "id": "9ea8f226",
   "metadata": {},
   "source": [
    "- From the code above, we can deduce that majority of the twitter source was gotten from tweets from iphone"
   ]
  },
  {
   "cell_type": "markdown",
   "id": "eeb28eb1",
   "metadata": {},
   "source": [
    "> ***Analysis of retweet and favorite counts***"
   ]
  },
  {
   "cell_type": "code",
   "execution_count": 247,
   "id": "6d778797",
   "metadata": {},
   "outputs": [
    {
     "name": "stdout",
     "output_type": "stream",
     "text": [
      "Mean Retweet Count\t2816\n",
      "Mean Favorite Count\t9222\n"
     ]
    }
   ],
   "source": [
    "print('%s\\t%s' % ('Mean Retweet Count', round(df.retweet_count.mean())))\n",
    "print('%s\\t%s' % ('Mean Favorite Count', round(df.favorite_count.mean())))"
   ]
  },
  {
   "cell_type": "markdown",
   "id": "9a7b5e7e",
   "metadata": {},
   "source": [
    "- From the code above, we could deduce that the mean retweet count is 3043 and mean favorite count is 8884"
   ]
  },
  {
   "cell_type": "markdown",
   "id": "ebf605e0",
   "metadata": {},
   "source": [
    "> ***Number of tweets posted by WeRateDogs over time***"
   ]
  },
  {
   "cell_type": "code",
   "execution_count": 248,
   "id": "0715ff74",
   "metadata": {},
   "outputs": [
    {
     "data": {
      "text/plain": [
       "2015-11    226\n",
       "2015-12    289\n",
       "2016-01    141\n",
       "2016-02     96\n",
       "2016-03    107\n",
       "2016-04     50\n",
       "2016-05     48\n",
       "2016-06     69\n",
       "2016-07     78\n",
       "2016-08     47\n",
       "2016-09     57\n",
       "2016-10     60\n",
       "2016-11     45\n",
       "2016-12     52\n",
       "2017-01     59\n",
       "2017-02     60\n",
       "2017-03     44\n",
       "2017-04     34\n",
       "2017-05     36\n",
       "2017-06     41\n",
       "2017-07     45\n",
       "2017-08      1\n",
       "Name: timestamp, dtype: int64"
      ]
     },
     "execution_count": 248,
     "metadata": {},
     "output_type": "execute_result"
    }
   ],
   "source": [
    "df['timestamp'].apply(lambda x: x.strftime('%Y-%m')).value_counts().sort_index()"
   ]
  },
  {
   "cell_type": "markdown",
   "id": "30f29e44",
   "metadata": {},
   "source": [
    "> From the code above, we could deduce that the number of retweet posted over time reduce as from 2015 until 2017"
   ]
  },
  {
   "cell_type": "markdown",
   "id": "4b47fb16",
   "metadata": {},
   "source": [
    "> **Analysis on rating of dogs**"
   ]
  },
  {
   "cell_type": "code",
   "execution_count": 254,
   "id": "1bd464d3",
   "metadata": {},
   "outputs": [
    {
     "data": {
      "text/plain": [
       "0.00        1\n",
       "1.00        1\n",
       "2.00        2\n",
       "3.00        5\n",
       "4.00        7\n",
       "5.00       13\n",
       "6.00       16\n",
       "7.00       32\n",
       "8.00       68\n",
       "9.00      133\n",
       "9.75        1\n",
       "10.00     360\n",
       "11.00     356\n",
       "11.26       1\n",
       "11.27       1\n",
       "12.00     423\n",
       "13.00     228\n",
       "13.50       1\n",
       "14.00      23\n",
       "24.00       1\n",
       "44.00       1\n",
       "45.00       1\n",
       "50.00       1\n",
       "60.00       1\n",
       "80.00       1\n",
       "84.00       1\n",
       "88.00       1\n",
       "99.00       1\n",
       "121.00      1\n",
       "143.00      1\n",
       "144.00      1\n",
       "165.00      1\n",
       "Name: rating_numerator, dtype: int64"
      ]
     },
     "execution_count": 254,
     "metadata": {},
     "output_type": "execute_result"
    }
   ],
   "source": [
    "#printing the counts of each rating_numerator values in ascending pattern \n",
    "df['rating_numerator'].value_counts().sort_index()"
   ]
  },
  {
   "cell_type": "code",
   "execution_count": 255,
   "id": "71a8c41b",
   "metadata": {},
   "outputs": [
    {
     "data": {
      "text/plain": [
       "1685"
      ]
     },
     "execution_count": 255,
     "metadata": {},
     "output_type": "execute_result"
    }
   ],
   "source": [
    "len(df)"
   ]
  },
  {
   "cell_type": "code",
   "execution_count": 253,
   "id": "a623224a",
   "metadata": {},
   "outputs": [
    {
     "data": {
      "text/plain": [
       "1046"
      ]
     },
     "execution_count": 253,
     "metadata": {},
     "output_type": "execute_result"
    }
   ],
   "source": [
    "df['rating_numerator'][df['rating_numerator'] > 10].value_counts().sum()"
   ]
  },
  {
   "cell_type": "code",
   "execution_count": 256,
   "id": "7ea2a554",
   "metadata": {},
   "outputs": [
    {
     "name": "stdout",
     "output_type": "stream",
     "text": [
      "the percent of dogs rated above 10 is: 0.6207715133531158\n"
     ]
    }
   ],
   "source": [
    "print('the percent of dogs rated above 10 is: {}'.format((df['rating_numerator'][df['rating_numerator'] > 10].value_counts().sum())/len(df)))"
   ]
  },
  {
   "cell_type": "markdown",
   "id": "3af5424b",
   "metadata": {},
   "source": [
    "> This shows that out of the 1685 entries there are are 1046 dogs that are rated above 10. That's 62 percent of the total dog rated at WeRateDog"
   ]
  },
  {
   "cell_type": "markdown",
   "id": "110cf600",
   "metadata": {},
   "source": [
    "## Visualization"
   ]
  },
  {
   "cell_type": "code",
   "execution_count": 258,
   "id": "60aee44f",
   "metadata": {},
   "outputs": [],
   "source": [
    "import matplotlib.pyplot as plt\n",
    "%matplotlib inline\n",
    "plt.rcParams[\"figure.figsize\"] = [12, 8]"
   ]
  },
  {
   "cell_type": "markdown",
   "id": "3040a38e",
   "metadata": {},
   "source": [
    "> ***Distribution of the favourite counts (likes)***"
   ]
  },
  {
   "cell_type": "code",
   "execution_count": 268,
   "id": "cf266d07",
   "metadata": {},
   "outputs": [
    {
     "data": {
      "image/png": "[encoded data removed]",
      "text/plain": [
       "<Figure size 864x576 with 1 Axes>"
      ]
     },
     "metadata": {
      "needs_background": "light"
     },
     "output_type": "display_data"
    }
   ],
   "source": [
    "df.favorite_count.plot(kind = 'density')\n",
    "plt.savefig('fav_plot.png')"
   ]
  },
  {
   "cell_type": "markdown",
   "id": "2a31b178",
   "metadata": {},
   "source": [
    "> the plot above shows that the `favourite_count` is skewed to the right and not normally distributed. Skewing to the right means it is positively skewed"
   ]
  },
  {
   "cell_type": "markdown",
   "id": "5bf6b9ed",
   "metadata": {},
   "source": [
    "> ***Distribution of the Retweet counts***"
   ]
  },
  {
   "cell_type": "code",
   "execution_count": 270,
   "id": "cf0f7e2a",
   "metadata": {},
   "outputs": [
    {
     "data": {
      "image/png": "[encoded data removed]",
      "text/plain": [
       "<Figure size 864x576 with 1 Axes>"
      ]
     },
     "metadata": {
      "needs_background": "light"
     },
     "output_type": "display_data"
    }
   ],
   "source": [
    "df.retweet_count.plot(kind = 'density')\n",
    "plt.savefig('rt_plot.png')"
   ]
  },
  {
   "cell_type": "markdown",
   "id": "76564691",
   "metadata": {},
   "source": [
    "> the plot above shows that the `retweet_count` is skewed to the right and not normally distributed. Skewing to the right means it is positively skewed"
   ]
  },
  {
   "cell_type": "markdown",
   "id": "aaaf1fe3",
   "metadata": {},
   "source": [
    "> ***Most twitter source***"
   ]
  },
  {
   "cell_type": "code",
   "execution_count": 259,
   "id": "da5c1f98",
   "metadata": {},
   "outputs": [
    {
     "data": {
      "image/png": "[encoded data removed]",
      "text/plain": [
       "<Figure size 792x360 with 1 Axes>"
      ]
     },
     "metadata": {
      "needs_background": "light"
     },
     "output_type": "display_data"
    }
   ],
   "source": [
    "df['source'].value_counts().plot(kind = 'barh',figsize=(11,5), title='Most used Twitter source').set_xlabel(\"Number of Tweets\")\n",
    "plt.savefig('twitter_source')"
   ]
  },
  {
   "cell_type": "markdown",
   "id": "8c31ebba",
   "metadata": {},
   "source": [
    "> The image above confirm that the iPhone has the most sources, followed by the twitter web client with TweetDeck having the least"
   ]
  },
  {
   "cell_type": "markdown",
   "id": "38dc1596",
   "metadata": {},
   "source": [
    "> ***Dog Stage Analysis as Related to retweet Count***"
   ]
  },
  {
   "cell_type": "code",
   "execution_count": 276,
   "id": "c3c854db",
   "metadata": {},
   "outputs": [
    {
     "data": {
      "image/png": "[encoded data removed]",
      "text/plain": [
       "<Figure size 864x576 with 1 Axes>"
      ]
     },
     "metadata": {
      "needs_background": "light"
     },
     "output_type": "display_data"
    }
   ],
   "source": [
    "df.groupby('dog_stage')['retweet_count'].count().plot(kind = 'bar')\n",
    "plt.title('Retweet by Dog Stages', fontsize = 14)\n",
    "plt.xlabel('Dog stages', fontsize = 12)\n",
    "plt.ylabel('No of Retweet', fontsize = 12)\n",
    "plt.savefig('rt_dog-stage.png')"
   ]
  },
  {
   "cell_type": "markdown",
   "id": "a09da1d6",
   "metadata": {},
   "source": [
    "> the visualization above showes that the Pupper Dog stage is the most popular dog stage, as it has the highest number of retweets, followed by Doggo and Puppo and Floofer is the least."
   ]
  },
  {
   "cell_type": "markdown",
   "id": "0f3e37ff",
   "metadata": {},
   "source": [
    "> ***Dog Stage Analysis as Related to favorite Count***"
   ]
  },
  {
   "cell_type": "code",
   "execution_count": 275,
   "id": "5c8ab157",
   "metadata": {},
   "outputs": [
    {
     "data": {
      "image/png": "[encoded data removed]",
      "text/plain": [
       "<Figure size 864x576 with 1 Axes>"
      ]
     },
     "metadata": {
      "needs_background": "light"
     },
     "output_type": "display_data"
    }
   ],
   "source": [
    "df.groupby('dog_stage')['favorite_count'].count().plot(kind = 'bar')\n",
    "plt.title('Retweet by Dog Stages', fontsize = 14)\n",
    "plt.xlabel('Dog stages', fontsize = 12)\n",
    "plt.ylabel('No of Retweet', fontsize = 12)\n",
    "plt.savefig('fav_dog-stage.png')"
   ]
  },
  {
   "cell_type": "markdown",
   "id": "345eb409",
   "metadata": {},
   "source": [
    "> the visualization above showes that the Pupper Dog stage is the most liked dog stage, as it has the highest number of favourite_count, followed by Doggo and Puppo and floofer being the least"
   ]
  },
  {
   "cell_type": "markdown",
   "id": "410698aa",
   "metadata": {},
   "source": [
    "> ***Checking the top 6 common dog name***"
   ]
  },
  {
   "cell_type": "code",
   "execution_count": 260,
   "id": "89d956dc",
   "metadata": {},
   "outputs": [
    {
     "data": {
      "image/png": "[encoded data removed]",
      "text/plain": [
       "<Figure size 792x360 with 1 Axes>"
      ]
     },
     "metadata": {
      "needs_background": "light"
     },
     "output_type": "display_data"
    }
   ],
   "source": [
    "df.name.value_counts()[1:7].plot(kind='barh', figsize=(11,5), title='Top 6 common dog names').set_xlabel(\"Number of Dogs\")\n",
    "plt.savefig('dog_names')"
   ]
  },
  {
   "cell_type": "markdown",
   "id": "95fe62ab",
   "metadata": {},
   "source": [
    "> The image above confirm our stated observation above "
   ]
  },
  {
   "cell_type": "code",
   "execution_count": 261,
   "id": "18f063e3",
   "metadata": {},
   "outputs": [
    {
     "data": {
      "image/png": "[encoded data removed]",
      "text/plain": [
       "<Figure size 864x576 with 1 Axes>"
      ]
     },
     "metadata": {
      "needs_background": "light"
     },
     "output_type": "display_data"
    }
   ],
   "source": [
    "data = df.tweet_id.groupby([df[\"timestamp\"].dt.year, df[\"timestamp\"].dt.month]).count()\n",
    "ax = data.plot(kind='line', title='WeRateDogs tweeting trend over time')\n",
    "ax.set_xlabel(\"(Year, Month)\")\n",
    "ax.set_ylabel(\"Number of Tweets\")\n",
    "ax.set_ylim(0, )\n",
    "plt.savefig('tweet_trend')"
   ]
  },
  {
   "cell_type": "markdown",
   "id": "980d2b0a",
   "metadata": {},
   "source": [
    "> The image above confirm our stated observation above "
   ]
  },
  {
   "cell_type": "code",
   "execution_count": 277,
   "id": "6c125a10",
   "metadata": {},
   "outputs": [
    {
     "data": {
      "image/png": "[encoded data removed]",
      "text/plain": [
       "<Figure size 864x576 with 1 Axes>"
      ]
     },
     "metadata": {
      "needs_background": "light"
     },
     "output_type": "display_data"
    }
   ],
   "source": [
    "plt.subplots(1, sharex=True)\n",
    "df.retweet_count.groupby([df[\"timestamp\"].dt.year, df[\"timestamp\"].dt.month]).mean().plot(kind ='line')\n",
    "df.favorite_count.groupby([df[\"timestamp\"].dt.year, df[\"timestamp\"].dt.month]).mean().plot(kind='line').set_ylim(0, )\n",
    "plt.title('Retweeting and Favoriting trend over time')\n",
    "plt.ylabel('Count')\n",
    "plt.xlabel('(Year, Month)')\n",
    "plt.legend(('Retweets', 'Favorites'))\n",
    "plt.savefig('ret_fav.png')"
   ]
  },
  {
   "cell_type": "markdown",
   "id": "621be12f",
   "metadata": {},
   "source": [
    "> The above plot shows an increasing trend of retweeting and favoriting tweets posted by WeRateDogs' since\n",
    "November, 2015. However, the favoriting trend shows a much higher increase with time as compared to the\n",
    "retweeting trend."
   ]
  }
 ],
 "metadata": {
  "kernelspec": {
   "display_name": "Python 3",
   "language": "python",
   "name": "python3"
  },
  "language_info": {
   "codemirror_mode": {
    "name": "ipython",
    "version": 3
   },
   "file_extension": ".py",
   "mimetype": "text/x-python",
   "name": "python",
   "nbconvert_exporter": "python",
   "pygments_lexer": "ipython3",
   "version": "3.8.8"
  }
 },
 "nbformat": 4,
 "nbformat_minor": 5
}
