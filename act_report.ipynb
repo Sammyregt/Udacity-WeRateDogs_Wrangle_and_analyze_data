{
 "cells": [
  {
   "cell_type": "markdown",
   "id": "4b77e40a",
   "metadata": {},
   "source": [
    "## Analysis and Insights of WeRateDogs Twitter"
   ]
  },
  {
   "cell_type": "markdown",
   "id": "6552e879",
   "metadata": {},
   "source": [
    "## Visualizations"
   ]
  },
  {
   "cell_type": "markdown",
   "id": "f0076175",
   "metadata": {},
   "source": [
    "### ***WeRateDogs has posted 98% of the tweets from iPhone***\n",
    "\n",
    "- Out of the 1994 tweets, 1955 were posted from iPhone. Just a confirmation that the only mobile device WeRateDogs uses to post tweets is an iPhone.\n",
    "\n",
    "<img src='twitter_source.png'>"
   ]
  },
  {
   "cell_type": "markdown",
   "id": "1a489b62",
   "metadata": {},
   "source": [
    "### ***Charlie is the most common dog name***\n",
    "\n",
    "- 11 of the dogs were named Charlie, Lucy, Cooper, Tucker are the most we have. A close second is Oliver, with 9 dogs being named as these.\n",
    "\n",
    "\n",
    "<img src='dog_names.png'>"
   ]
  },
  {
   "cell_type": "markdown",
   "id": "b7c01d41",
   "metadata": {},
   "source": [
    "### ***Tweets posted by WeRateDogs decreased over time***\n",
    "\n",
    "<img src='tweet_trend.png'>\n",
    "\n",
    "- WeRateDogs, a Twitter account started in 2015, tweeted a lot in its starting days. For example, it posted around 225 tweets in the month of November 2015, which increased to around 280 tweets in exactly the next month. However, its tweeting activity reduced drastically in the subsequent months, averaging between 50 to 100 since April, 2016."
   ]
  },
  {
   "cell_type": "markdown",
   "id": "ae28a286",
   "metadata": {},
   "source": [
    "### ***Distribution of the favourite counts (likes)***\n",
    "\n",
    "<img src='fav_plot.png'>\n",
    "\n",
    "> The plot above shows that the `favourite_count` is skewed to the right and not normally distributed. Skewing to the right means it is positively skewed"
   ]
  },
  {
   "cell_type": "markdown",
   "id": "1f1e519a",
   "metadata": {},
   "source": [
    "### ***Distribution of the Retweet counts***\n",
    "\n",
    "<img src='rt_plot.png'>\n",
    "\n",
    "> the plot above shows that the `retweet_count` is skewed to the right and not normally distributed. Skewing to the right means it is positively skewed"
   ]
  },
  {
   "cell_type": "markdown",
   "id": "7d83a8a7",
   "metadata": {},
   "source": [
    "### ***Dog Stage Analysis as Related to retweet Count***\n",
    "\n",
    "<img src='rt_dog-stage.png'>\n",
    "\n",
    "> the visualization above showes that the Pupper Dog stage is the most popular dog stage, as it has the highest number of retweets, followed by Doggo and Puppo , while Floofer is the least."
   ]
  },
  {
   "cell_type": "markdown",
   "id": "31ffe258",
   "metadata": {},
   "source": [
    "### ***Dog Stage Analysis as Related to favorite Count***\n",
    "\n",
    "<img src='fav_dog-stage.png'>\n",
    "\n",
    "> the visualization above showes that the Pupper Dog stage is the most liked dog stage, as it has the highest number of favourite_count, followed by Doggo and Puppo and floofer being the least"
   ]
  },
  {
   "cell_type": "markdown",
   "id": "6c0dcfbe",
   "metadata": {},
   "source": [
    "### ***Retweeting and Favoriting trend over time***\n",
    "\n",
    "<img src='ret_fav.png'>\n",
    "\n",
    "> The above plot shows an increasing trend of retweeting and favoriting tweets posted by WeRateDogs' since\n",
    "November, 2015. However, the favoriting trend shows a much higher increase with time as compared to the\n",
    "retweeting trend."
   ]
  },
  {
   "cell_type": "code",
   "execution_count": null,
   "id": "ddb76160",
   "metadata": {},
   "outputs": [],
   "source": []
  }
 ],
 "metadata": {
  "kernelspec": {
   "display_name": "Python 3",
   "language": "python",
   "name": "python3"
  },
  "language_info": {
   "codemirror_mode": {
    "name": "ipython",
    "version": 3
   },
   "file_extension": ".py",
   "mimetype": "text/x-python",
   "name": "python",
   "nbconvert_exporter": "python",
   "pygments_lexer": "ipython3",
   "version": "3.8.8"
  }
 },
 "nbformat": 4,
 "nbformat_minor": 5
}
